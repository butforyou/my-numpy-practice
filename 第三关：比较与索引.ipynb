{
 "cells": [
  {
   "cell_type": "markdown",
   "metadata": {
    "id": "BFEF8F130C514848AFF0182F17AA54FE",
    "jupyter": {},
    "notebookId": "68fe1eff9305bfb9650b88c0",
    "runtime": {
     "execution_status": null,
     "is_visible": false,
     "status": "default"
    },
    "scrolled": false,
    "slideshow": {
     "slide_type": "slide"
    },
    "tags": []
   },
   "source": [
    "## 1. 比较、掩码和布尔逻辑"
   ]
  },
  {
   "cell_type": "markdown",
   "metadata": {
    "id": "1339AEE8D802495183091ECD3CB39999",
    "jupyter": {},
    "notebookId": "68fe1eff9305bfb9650b88c0",
    "runtime": {
     "execution_status": null,
     "is_visible": false,
     "status": "default"
    },
    "scrolled": false,
    "slideshow": {
     "slide_type": "slide"
    },
    "tags": []
   },
   "source": [
    "### 1.1 示例：统计下雨天数"
   ]
  },
  {
   "cell_type": "code",
   "execution_count": 15,
   "metadata": {
    "collapsed": false,
    "id": "61922596985841C4B60E9F3E1D025CA6",
    "jupyter": {},
    "notebookId": "68fe1eff9305bfb9650b88c0",
    "scrolled": false,
    "slideshow": {
     "slide_type": "slide"
    },
    "tags": [],
    "trusted": true
   },
   "outputs": [
    {
     "name": "stdout",
     "output_type": "stream",
     "text": [
      "inches.shape:  (365,)\n"
     ]
    },
    {
     "data": {
      "text/plain": [
       "(array([245.,  14.,  13.,  17.,   8.,   6.,   5.,   6.,   4.,   3.,   7.,\n",
       "          6.,   3.,   3.,   3.,   4.,   4.,   2.,   4.,   0.,   0.,   1.,\n",
       "          1.,   1.,   0.,   0.,   0.,   2.,   1.,   1.,   0.,   0.,   0.,\n",
       "          0.,   0.,   0.,   0.,   0.,   0.,   1.]),\n",
       " array([0.        , 0.04596457, 0.09192913, 0.1378937 , 0.18385827,\n",
       "        0.22982283, 0.2757874 , 0.32175197, 0.36771654, 0.4136811 ,\n",
       "        0.45964567, 0.50561024, 0.5515748 , 0.59753937, 0.64350394,\n",
       "        0.6894685 , 0.73543307, 0.78139764, 0.8273622 , 0.87332677,\n",
       "        0.91929134, 0.96525591, 1.01122047, 1.05718504, 1.10314961,\n",
       "        1.14911417, 1.19507874, 1.24104331, 1.28700787, 1.33297244,\n",
       "        1.37893701, 1.42490157, 1.47086614, 1.51683071, 1.56279528,\n",
       "        1.60875984, 1.65472441, 1.70068898, 1.74665354, 1.79261811,\n",
       "        1.83858268]),\n",
       " <a list of 40 Patch objects>)"
      ]
     },
     "execution_count": null,
     "metadata": {},
     "output_type": "execute_result"
    },
    {
     "data": {
      "text/html": [
       "<img src=\"https://cdn.kesci.com/upload/rt/61922596985841C4B60E9F3E1D025CA6/t4qr633546.png\">"
      ],
      "text/plain": [
       "<Figure size 432x288 with 1 Axes>"
      ]
     },
     "metadata": {},
     "output_type": "display_data"
    }
   ],
   "source": [
    "import numpy as np\n",
    "import pandas as pd\n",
    "\n",
    "# 利用Pandas抽取降雨量，放入一个Numpy数组\n",
    "rainfall = pd.read_csv('/home/mw/input/datascience8949/Seattle2014.csv')['PRCP'].values # values转化为numpy数组\n",
    "inches = rainfall / 254 # 从英寸inches转化为毫米mm, 1英寸=25.4毫米\n",
    "print('inches.shape: ', inches.shape)\n",
    "\n",
    "import matplotlib.pyplot as plt\n",
    "import seaborn; seaborn.set() # 设置绘图风格\n",
    "\n",
    "plt.hist(inches, 40)"
   ]
  },
  {
   "cell_type": "markdown",
   "metadata": {
    "id": "A73B124768C048D58527E27BE361797F",
    "jupyter": {},
    "notebookId": "68fe1eff9305bfb9650b88c0",
    "runtime": {
     "execution_status": null,
     "is_visible": false,
     "status": "default"
    },
    "scrolled": false,
    "slideshow": {
     "slide_type": "slide"
    },
    "tags": []
   },
   "source": [
    "### 6.2 和通用函数类似的比较操作"
   ]
  },
  {
   "cell_type": "markdown",
   "metadata": {
    "id": "ED38E2AC1414422481769E0E2D9AC875",
    "jupyter": {},
    "notebookId": "68fe1eff9305bfb9650b88c0",
    "runtime": {
     "execution_status": null,
     "is_visible": false,
     "status": "default"
    },
    "scrolled": false,
    "slideshow": {
     "slide_type": "slide"
    },
    "tags": []
   },
   "source": [
    "Numpy实现小于和大于的逐元素比较的通用函数，比较运算的结果返回的是一个布尔数据类型的数组，一共有6种标准的比较操作"
   ]
  },
  {
   "cell_type": "code",
   "execution_count": 16,
   "metadata": {
    "collapsed": false,
    "id": "CBAB98DFAC784595A04F89CC35B574C5",
    "jupyter": {},
    "notebookId": "68fe1eff9305bfb9650b88c0",
    "scrolled": false,
    "slideshow": {
     "slide_type": "slide"
    },
    "tags": [],
    "trusted": true
   },
   "outputs": [
    {
     "name": "stdout",
     "output_type": "stream",
     "text": [
      "x =       [1 2 3 4 5]\n",
      "x < 3  :  [ True  True False False False] [ True  True False False False]\n",
      "x > 3  :  [False False False  True  True] [False False False  True  True]\n",
      "x <= 3 :  [ True  True  True False False] [ True  True  True False False]\n",
      "x >= 3 :  [False False  True  True  True] [False False  True  True  True]\n",
      "x != 3 :  [ True  True False  True  True] [ True  True False  True  True]\n",
      "x == 3 :  [False False  True False False] [False False  True False False]\n",
      "[ 2  4  6  8 10]\n",
      "[ 1  4  9 16 25]\n",
      "[False  True False False False]\n",
      "[[5 0 3 3]\n",
      " [7 9 3 5]\n",
      " [2 4 7 6]]\n",
      "[[ True  True  True  True]\n",
      " [False False  True  True]\n",
      " [ True  True False False]]\n"
     ]
    }
   ],
   "source": [
    "x = np.array([1, 2, 3, 4, 5])\n",
    "print('x =      ', x)\n",
    "print('x < 3  : ', x < 3, np.less(x, 3))\n",
    "print('x > 3  : ', x > 3, np.greater(x, 3))\n",
    "print('x <= 3 : ', x <= 3, np.less_equal(x, 3))\n",
    "print('x >= 3 : ', x >= 3, np.greater_equal(x, 3))\n",
    "print('x != 3 : ', x != 3, np.not_equal(x, 3))\n",
    "print('x == 3 : ', x == 3, np.equal(x, 3))\n",
    "\n",
    "# 利用复合表达式实现对两个数组逐元素比较\n",
    "print(2 * x)\n",
    "print(x ** 2)\n",
    "print((2 * x) == (x ** 2))\n",
    "\n",
    "# 比较运算通用函数可以用于任意形状、大小的数组\n",
    "rng = np.random.RandomState(0)\n",
    "x = rng.randint(10, size = (3, 4))\n",
    "print(x)\n",
    "print(x < 6)"
   ]
  },
  {
   "cell_type": "markdown",
   "metadata": {
    "id": "E0738BDEF6BF434986650A2561AFB482",
    "jupyter": {},
    "notebookId": "68fe1eff9305bfb9650b88c0",
    "runtime": {
     "execution_status": null,
     "is_visible": false,
     "status": "default"
    },
    "scrolled": false,
    "slideshow": {
     "slide_type": "slide"
    },
    "tags": []
   },
   "source": [
    "### 1.3 操作布尔数组"
   ]
  },
  {
   "cell_type": "markdown",
   "metadata": {
    "id": "0DCBD07A6C9F4ABBB20097665EC855E4",
    "jupyter": {},
    "notebookId": "68fe1eff9305bfb9650b88c0",
    "runtime": {
     "execution_status": null,
     "is_visible": false,
     "status": "default"
    },
    "scrolled": false,
    "slideshow": {
     "slide_type": "slide"
    },
    "tags": []
   },
   "source": [
    "1. 统计记录的个数"
   ]
  },
  {
   "cell_type": "code",
   "execution_count": 17,
   "metadata": {
    "collapsed": false,
    "id": "444A1CC7ABBA4AA18D41DCAC3E11CC9C",
    "jupyter": {},
    "notebookId": "68fe1eff9305bfb9650b88c0",
    "scrolled": false,
    "slideshow": {
     "slide_type": "slide"
    },
    "tags": [],
    "trusted": true
   },
   "outputs": [
    {
     "name": "stdout",
     "output_type": "stream",
     "text": [
      "x: \n",
      " [[5 0 3 3]\n",
      " [7 9 3 5]\n",
      " [2 4 7 6]]\n",
      "x < 6 : \n",
      " [[ True  True  True  True]\n",
      " [False False  True  True]\n",
      " [ True  True False False]]\n",
      "x < 6 的个数： 8\n",
      "x < 6 的个数： 8\n",
      "每列 x < 6的个数： [2 2 2 2]\n",
      "每行 x < 6的个数： [4 2 2]\n",
      "有没有值大于8： True\n",
      "有没有值小于0： False\n",
      "是否所有值都小于10： True\n",
      "是否每行所以值都小于8： [ True False  True]\n"
     ]
    }
   ],
   "source": [
    "# 使用np.count_nonzero函数统计布尔数组中True记录的个数\n",
    "print('x: \\n', x)\n",
    "print('x < 6 : \\n', x < 6)\n",
    "print('x < 6 的个数：', np.count_nonzero(x < 6))\n",
    "\n",
    "# np.sum(x < 6)中False被解释为0， True解释为1, 好处是可以指定行或者列方向\n",
    "print('x < 6 的个数：', np.sum(x < 6))\n",
    "print('每列 x < 6的个数：', np.sum(x < 6, axis = 0))\n",
    "print('每行 x < 6的个数：', np.sum(x < 6, axis = 1))\n",
    "\n",
    "# 快速检查所有值或者任意值是否为True，可以沿指定轴方向\n",
    "print('有没有值大于8：', np.any(x > 8))\n",
    "print('有没有值小于0：', np.any(x < 0))\n",
    "print('是否所有值都小于10：', np.all(x < 10))\n",
    "print('是否每行所以值都小于8：', np.all(x < 8, axis = 1))"
   ]
  },
  {
   "cell_type": "markdown",
   "metadata": {
    "id": "47A77B304D56438F80EBB63A73EACF18",
    "jupyter": {},
    "notebookId": "68fe1eff9305bfb9650b88c0",
    "runtime": {
     "execution_status": null,
     "is_visible": false,
     "status": "default"
    },
    "scrolled": false,
    "slideshow": {
     "slide_type": "slide"
    },
    "tags": []
   },
   "source": [
    "2. 布尔运算符：逐位逻辑运算符 与& 或| ^ 非~  \n",
    "\n",
    "& = np.bitwise_and  \n",
    "\n",
    "| = np.bitwise_or  \n",
    "\n",
    "~ = np.bitwise_not  \n",
    "\n",
    "^ = np.bitwise_xor"
   ]
  },
  {
   "cell_type": "code",
   "execution_count": 18,
   "metadata": {
    "collapsed": false,
    "id": "2C72DEA95FA443978817EE35688BD1DA",
    "jupyter": {},
    "notebookId": "68fe1eff9305bfb9650b88c0",
    "scrolled": false,
    "slideshow": {
     "slide_type": "slide"
    },
    "tags": [],
    "trusted": true
   },
   "outputs": [
    {
     "name": "stdout",
     "output_type": "stream",
     "text": [
      "统计降水量大于0.5英寸 且 小于1英寸的天数： 29\n",
      "统计降水量大于0.5英寸 且 小于1英寸的天数： 29\n",
      "统计降水量大于0.5英寸 且 小于1英寸的天数： 29\n"
     ]
    }
   ],
   "source": [
    "print('统计降水量大于0.5英寸 且 小于1英寸的天数：', np.sum((inches > 0.5) & (inches < 1)))\n",
    "print('统计降水量大于0.5英寸 且 小于1英寸的天数：', np.sum(~((inches <= 0.5) | (inches >= 1))))\n",
    "print('统计降水量大于0.5英寸 且 小于1英寸的天数：', np.sum(np.bitwise_and(inches > 0.5, inches < 1)))"
   ]
  },
  {
   "cell_type": "markdown",
   "metadata": {
    "id": "E545F311DD3444DE85F8979DC8447673",
    "jupyter": {},
    "notebookId": "68fe1eff9305bfb9650b88c0",
    "runtime": {
     "execution_status": null,
     "is_visible": false,
     "status": "default"
    },
    "scrolled": false,
    "slideshow": {
     "slide_type": "slide"
    },
    "tags": []
   },
   "source": [
    "### 1.4 将布尔数组作为掩码"
   ]
  },
  {
   "cell_type": "markdown",
   "metadata": {
    "id": "3C58F69FEA39431D92FE700D308A3F86",
    "jupyter": {},
    "notebookId": "68fe1eff9305bfb9650b88c0",
    "runtime": {
     "execution_status": null,
     "is_visible": false,
     "status": "default"
    },
    "scrolled": false,
    "slideshow": {
     "slide_type": "slide"
    },
    "tags": []
   },
   "source": [
    "通过简单的索引，将满足条件的True值取出，即掩码操作，原布尔数组就是作为了一个掩码"
   ]
  },
  {
   "cell_type": "code",
   "execution_count": 19,
   "metadata": {
    "collapsed": false,
    "id": "20FCCDBD1903401AA99ED468E260A3A5",
    "jupyter": {},
    "notebookId": "68fe1eff9305bfb9650b88c0",
    "scrolled": false,
    "slideshow": {
     "slide_type": "slide"
    },
    "tags": [],
    "trusted": true
   },
   "outputs": [
    {
     "name": "stdout",
     "output_type": "stream",
     "text": [
      "x: \n",
      " [[5 0 3 3]\n",
      " [7 9 3 5]\n",
      " [2 4 7 6]]\n",
      "x < 5: \n",
      " [[False  True  True  True]\n",
      " [False False  True False]\n",
      " [ True  True False False]]\n"
     ]
    },
    {
     "data": {
      "text/plain": [
       "array([0, 3, 3, 3, 2, 4])"
      ]
     },
     "execution_count": null,
     "metadata": {},
     "output_type": "execute_result"
    }
   ],
   "source": [
    "print('x: \\n', x)\n",
    "print('x < 5: \\n', x < 5)\n",
    "# 取出x中x<5的值，返回一个一维数组，掩码数组是（x < 5）生成的布尔数组\n",
    "x[x < 5]"
   ]
  },
  {
   "cell_type": "code",
   "execution_count": 20,
   "metadata": {
    "collapsed": false,
    "id": "325BAE25A9DC4F42B335C48C53E8F297",
    "jupyter": {},
    "notebookId": "68fe1eff9305bfb9650b88c0",
    "scrolled": false,
    "slideshow": {
     "slide_type": "slide"
    },
    "tags": [],
    "trusted": true
   },
   "outputs": [
    {
     "name": "stdout",
     "output_type": "stream",
     "text": [
      "Medina precip on rainy days in 2014(inches) 所有降雨天的中位数:  0.19488188976377951\n",
      "Medina precip on rainy days in 2014(inches) 整个夏季降雨中位数:  0.0\n",
      "Medina precip on rainy days in 2014(inches): 整个夏季最大降雨值 0.8503937007874016\n",
      "Medina precip on rainy days in 2014(inches): 非夏季时期的下雨天的降雨中位数 0.20078740157480315\n"
     ]
    }
   ],
   "source": [
    "# 将所有下雨天创建一个掩码，标记下雨天\n",
    "rainy = (inches > 0)\n",
    "\n",
    "# 构建一个包含整个夏季日期的掩码（6月21是第172天）标记这一天为起始天0，则夏季为0-90天这段时间为True\n",
    "summer = (np.arange(365) - 172 < 90) & (np.arange(365) - 172 > 0)\n",
    "\n",
    "print('Medina precip on rainy days in 2014(inches) 所有降雨天的中位数: ', np.median(inches[rainy]))\n",
    "print('Medina precip on rainy days in 2014(inches) 整个夏季降雨中位数: ', np.median(inches[summer]))\n",
    "print('Medina precip on rainy days in 2014(inches): 整个夏季最大降雨值', np.max(inches[summer]))\n",
    "print('Medina precip on rainy days in 2014(inches): 非夏季时期的下雨天的降雨中位数', np.median(inches[rainy & ~summer]))"
   ]
  },
  {
   "cell_type": "markdown",
   "metadata": {
    "id": "44E6EEAEBD744F33B0709ED9175C7B0B",
    "jupyter": {},
    "notebookId": "68fe1eff9305bfb9650b88c0",
    "runtime": {
     "execution_status": null,
     "is_visible": false,
     "status": "default"
    },
    "scrolled": false,
    "slideshow": {
     "slide_type": "slide"
    },
    "tags": []
   },
   "source": [
    "关键字and/or 与逻辑运算符&/|的区别：  \n",
    "\n",
    "and/or 判断整个对象是真是假，0是False，非0整数均为True  \n",
    "\n",
    "&/| 判断每个对象中的比特位，即将整数转化为二进制判断每个位，&：两个都为1则为1，有一个为0则为0；|：两个都为0则为0，有一个为1则为1  \n",
    "\n",
    "布尔数组可以被当作是由比特字符组成，其中True =1 , False = 0, 因此数组通常用逻辑运算符而不用and/or"
   ]
  },
  {
   "cell_type": "code",
   "execution_count": 21,
   "metadata": {
    "collapsed": false,
    "id": "EEF147BAC4684A27929FA297F8BA4E1B",
    "jupyter": {},
    "notebookId": "68fe1eff9305bfb9650b88c0",
    "scrolled": false,
    "slideshow": {
     "slide_type": "slide"
    },
    "tags": [],
    "trusted": true
   },
   "outputs": [
    {
     "name": "stdout",
     "output_type": "stream",
     "text": [
      "bool(0), bool(1): False True\n",
      "bool(1 and 0):  False\n",
      "bool(1 or 0):  True\n",
      "二进制3： 0b101010\n",
      "二进制4： 0b111011\n",
      "42 & 59 : 0b101010 42\n",
      "42 | 59 : 0b111011 59\n"
     ]
    }
   ],
   "source": [
    "print('bool(0), bool(1):', bool(0), bool(1))\n",
    "print('bool(1 and 0): ', bool(1 and 0))\n",
    "print('bool(1 or 0): ', bool(1 or 0))\n",
    "print('二进制3：', bin(42))\n",
    "print('二进制4：', bin(59))\n",
    "print('42 & 59 :', bin(42 & 59), 42 & 59)\n",
    "print('42 | 59 :', bin(42 | 59), 42 | 59)"
   ]
  },
  {
   "cell_type": "markdown",
   "metadata": {
    "id": "77DDCE6A472744CE9C69C1B5D28194C5",
    "jupyter": {},
    "notebookId": "68fe1eff9305bfb9650b88c0",
    "runtime": {
     "execution_status": null,
     "is_visible": false,
     "status": "default"
    },
    "scrolled": false,
    "slideshow": {
     "slide_type": "slide"
    },
    "tags": []
   },
   "source": [
    "## 2. 花哨的索引"
   ]
  },
  {
   "cell_type": "markdown",
   "metadata": {
    "id": "3BE89295E4144674992101B836F4F87A",
    "jupyter": {},
    "notebookId": "68fe1eff9305bfb9650b88c0",
    "runtime": {
     "execution_status": null,
     "is_visible": false,
     "status": "default"
    },
    "scrolled": false,
    "slideshow": {
     "slide_type": "slide"
    },
    "tags": []
   },
   "source": [
    "### 2.1 探索花哨的索引"
   ]
  },
  {
   "cell_type": "markdown",
   "metadata": {
    "id": "061F092BFA4C4E67A236D195BB124EEB",
    "jupyter": {},
    "notebookId": "68fe1eff9305bfb9650b88c0",
    "runtime": {
     "execution_status": null,
     "is_visible": false,
     "status": "default"
    },
    "scrolled": false,
    "slideshow": {
     "slide_type": "slide"
    },
    "tags": []
   },
   "source": [
    "之前介绍了利用简单的索引值arr[0], 切片arr[:5]和布尔掩码arr[arr > 0]获得并修改部分数组，以下介绍花哨的索引arr[arr]快速获得并修改负责数组值的子数据集。"
   ]
  },
  {
   "cell_type": "code",
   "execution_count": 22,
   "metadata": {
    "collapsed": false,
    "id": "BFFA1E4CFD684E38A29CF7A7E7B54FE2",
    "jupyter": {},
    "notebookId": "68fe1eff9305bfb9650b88c0",
    "scrolled": false,
    "slideshow": {
     "slide_type": "slide"
    },
    "tags": [],
    "trusted": true
   },
   "outputs": [
    {
     "name": "stdout",
     "output_type": "stream",
     "text": [
      "x: [51 92 14 71 60 20 82 86 74 74]\n",
      "获得三个不同的元素：[x[3], x[7], x[2]: [71, 86, 14]\n",
      "[71 86 14]\n",
      "[[71 86]\n",
      " [60 20]]\n",
      "--------------\n",
      "X:\n",
      " [[ 0  1  2  3]\n",
      " [ 4  5  6  7]\n",
      " [ 8  9 10 11]]\n",
      "row, col [0 1 2] [2 1 3]\n",
      "X[0, 2]: 2\n",
      "X[1, 1]: 5\n",
      "X[2, 3]: 11\n",
      "X[row, col]: [ 2  5 11]\n",
      "--------------\n",
      "[[0]\n",
      " [1]\n",
      " [2]]\n",
      "[[ 2  1  3]\n",
      " [ 6  5  7]\n",
      " [10  9 11]]\n",
      "[[ 2  1  3]\n",
      " [ 6  5  7]\n",
      " [10  9 11]]\n"
     ]
    }
   ],
   "source": [
    "# 花哨的索引意味着传递一个索引数组来一次性获得多个数组元素\n",
    "import numpy as np\n",
    "rand = np.random.RandomState(42)\n",
    "x = rand.randint(100, size = 10)\n",
    "print('x:', x)\n",
    "print('获得三个不同的元素：[x[3], x[7], x[2]:', [x[3], x[7], x[2]])\n",
    "# 通过传递索引的单个列表或数组获得三个不同的元素\n",
    "ind = [3, 7, 2]\n",
    "print(x[ind])\n",
    "\n",
    "# 利用花哨的索引获得的结果形状与索引数组的形状一致，而不是与被索引数据的形状一致\n",
    "ind = np.array([[3, 7], \n",
    "                [4, 5]])\n",
    "print(x[ind])\n",
    "print('--------------')\n",
    "# 对多个维度适用，和标准的索引一样，第一个索引指的是行，第二个索引指的是列\n",
    "X = np.arange(12).reshape(3, 4)\n",
    "print('X:\\n', X)\n",
    "row = np.array([0, 1, 2])\n",
    "col = np.array([2, 1, 3])\n",
    "print('row, col', row, col)\n",
    "print('X[0, 2]:', X[0, 2])\n",
    "print('X[1, 1]:', X[1, 1])\n",
    "print('X[2, 3]:', X[2, 3])\n",
    "# 结果的第一个值是X[0, 2]，第二个值是X[1, 1]，第三个值是X[2, 3]\n",
    "print('X[row, col]:', X[row, col])\n",
    "print('--------------')\n",
    "# 索引数组[row, col]的配对遵循广播的规则\n",
    "print(row[:, np.newaxis])\n",
    "print(X[row[:, np.newaxis], col])\n",
    "print(X[[[0, 0, 0],\n",
    "  [1, 1, 1],\n",
    "  [2, 2, 2]]\n",
    ",\n",
    "[[2, 1, 3],\n",
    " [2, 1, 3],\n",
    " [2, 1, 3]]])"
   ]
  },
  {
   "cell_type": "markdown",
   "metadata": {
    "id": "9958807C2C9C408E83EED804D343BCB5",
    "jupyter": {},
    "notebookId": "68fe1eff9305bfb9650b88c0",
    "runtime": {
     "execution_status": null,
     "is_visible": false,
     "status": "default"
    },
    "scrolled": false,
    "slideshow": {
     "slide_type": "slide"
    },
    "tags": []
   },
   "source": [
    "### 2.2 组合索引"
   ]
  },
  {
   "cell_type": "code",
   "execution_count": 23,
   "metadata": {
    "collapsed": false,
    "id": "C11E2E2C4F604FA6A173A46F2F1CAEFF",
    "jupyter": {},
    "notebookId": "68fe1eff9305bfb9650b88c0",
    "scrolled": false,
    "slideshow": {
     "slide_type": "slide"
    },
    "tags": [],
    "trusted": true
   },
   "outputs": [
    {
     "name": "stdout",
     "output_type": "stream",
     "text": [
      "X: \n",
      " [[ 0  1  2  3]\n",
      " [ 4  5  6  7]\n",
      " [ 8  9 10 11]]\n",
      "---------\n",
      "X[2, [2, 0, 1]]:  [10  8  9]\n",
      "X[1:, [2, 0, 1]: \n",
      " [[ 6  4  5]\n",
      " [10  8  9]]\n",
      "布尔数组掩码： [ True False  True False]\n",
      "X[row[:, np.newaxis], mask]: \n",
      " [[ 0  2]\n",
      " [ 4  6]\n",
      " [ 8 10]]\n"
     ]
    }
   ],
   "source": [
    "print('X: \\n', X)\n",
    "print('---------')\n",
    "\n",
    "# 花哨索引和简单索引组合使用\n",
    "print('X[2, [2, 0, 1]]: ', X[2, [2, 0, 1]])\n",
    "\n",
    "# 花哨索引和切片组合使用\n",
    "# 选择了X第2行到最后一行，索引2,0,1列对应的一个2X3的数组\n",
    "print('X[1:, [2, 0, 1]: \\n', X[1:, [2, 0, 1]])\n",
    "\n",
    "# 花哨索引和掩码组合使用，1=True表示选择该列，0=False表示不选择\n",
    "mask = np.array([1, 0, 1, 0], dtype = bool)\n",
    "print('布尔数组掩码：', mask)\n",
    "print('X[row[:, np.newaxis], mask]: \\n', X[row[:, np.newaxis], mask])"
   ]
  },
  {
   "cell_type": "markdown",
   "metadata": {
    "id": "0A9DEC5D2DD24795A4F5E9D9CDCFA531",
    "jupyter": {},
    "notebookId": "68fe1eff9305bfb9650b88c0",
    "runtime": {
     "execution_status": null,
     "is_visible": false,
     "status": "default"
    },
    "scrolled": false,
    "slideshow": {
     "slide_type": "slide"
    },
    "tags": []
   },
   "source": [
    "### 2.3 示例：选择随机点"
   ]
  },
  {
   "cell_type": "markdown",
   "metadata": {
    "id": "C46B0D4288B047969CE768BCA8B20253",
    "jupyter": {},
    "notebookId": "68fe1eff9305bfb9650b88c0",
    "runtime": {
     "execution_status": null,
     "is_visible": false,
     "status": "default"
    },
    "scrolled": false,
    "slideshow": {
     "slide_type": "slide"
    },
    "tags": []
   },
   "source": [
    "花哨的索引一个常见用途是从一个矩阵中选择行的子集。例如有一个N X D的矩阵，表示在D个维度的N个点，以下是一个二维正态分布的点组成的数组：  \n",
    "\n",
    "rand.multivariate_normal: 这个函数生成多元正态分布的随机数，也被称为多维高斯分布。生成的随机数是多维的，通常用于生成多维数据，如多维特征的数据集。接受均值向量和协方差矩阵作为参数，用于定义多维正态分布的性质。成的随机数是一个二维数组，其中每一行代表一个多维随机数据点。  \n",
    "\n",
    "np.random.normal: 这个函数生成单变量正态分布（univariate normal distribution）的随机数，也被称为高斯分布。生成的随机数是单个值，通常用于生成一维数据或单个随机变量的值。接受均值和标准差作为参数，用于定义单变量正态分布的性质。生成的随机数是一个一维数组，包含单变量随机数值。"
   ]
  },
  {
   "cell_type": "code",
   "execution_count": 24,
   "metadata": {
    "collapsed": false,
    "id": "C2CB6BCC96F544B5919C564F5C6DCE9C",
    "jupyter": {},
    "notebookId": "68fe1eff9305bfb9650b88c0",
    "scrolled": false,
    "slideshow": {
     "slide_type": "slide"
    },
    "tags": [],
    "trusted": true
   },
   "outputs": [
    {
     "name": "stdout",
     "output_type": "stream",
     "text": [
      "X.shape:  (100, 2)\n"
     ]
    },
    {
     "data": {
      "text/html": [
       "<img src=\"https://cdn.kesci.com/upload/rt/C2CB6BCC96F544B5919C564F5C6DCE9C/t4qr63s9va.png\">"
      ],
      "text/plain": [
       "<Figure size 432x288 with 1 Axes>"
      ]
     },
     "metadata": {},
     "output_type": "display_data"
    },
    {
     "name": "stdout",
     "output_type": "stream",
     "text": [
      "indices:  [87 27  8 70 82 35 25 69 96 11 64  4 91 68 14 34 45 17 57 46]\n",
      "selection.shape:  (20, 2)\n"
     ]
    },
    {
     "data": {
      "text/html": [
       "<img src=\"https://cdn.kesci.com/upload/rt/C2CB6BCC96F544B5919C564F5C6DCE9C/t4qr637fq9.png\">"
      ],
      "text/plain": [
       "<Figure size 432x288 with 1 Axes>"
      ]
     },
     "metadata": {},
     "output_type": "display_data"
    }
   ],
   "source": [
    "mean = [0, 0] # 均值\n",
    "cov = [[1, 2], [2, 5]]  # 协方差矩阵\n",
    "X = rand.multivariate_normal(mean, cov, 100)\n",
    "print('X.shape: ', X.shape)\n",
    "\n",
    "import matplotlib.pyplot as plt\n",
    "import seaborn; seaborn.set # 设置绘图风格\n",
    "\n",
    "# 第一列做X, 第二列做y，做散点图\n",
    "plt.scatter(X[:, 0], X[:, 1])\n",
    "plt.show()\n",
    "\n",
    "# 从X.shape[0]=100个数据中，随机选取20个数据，replace = False不允许重复选取同一个元素，即选取20个随机的不重复的索引值\n",
    "indices = np.random.choice(X.shape[0], 20, replace = False)\n",
    "print('indices: ', indices)\n",
    "selection = X[indices] # 花哨的索引\n",
    "print('selection.shape: ', selection.shape)\n",
    "\n",
    "# alpha参数控制散点的透明度，取值范围通常在0到1之间。在这里，alpha = 0.3表示散点的透明度为30%，这可以使散点图中的重叠点更容易识别，因为重叠的区域会显示更深的颜色\n",
    "plt.scatter(X[:, 0], X[:, 1], alpha = 0.3)\n",
    "\n",
    "# facecolor = 'none' 表示散点的填充颜色是无色（透明），因此散点不会被填充。\n",
    "# edgecolor = 'b' 表示散点的边框颜色为蓝色。 s = 200表示散点大小\n",
    "plt.scatter(selection[:, 0], selection[:, 1], \n",
    "            facecolor = 'none', edgecolor = 'b', s = 200)\n",
    "plt.show()"
   ]
  },
  {
   "cell_type": "markdown",
   "metadata": {
    "id": "BE8AD6C0242A420697CA9D49162577B8",
    "jupyter": {},
    "notebookId": "68fe1eff9305bfb9650b88c0",
    "runtime": {
     "execution_status": null,
     "is_visible": false,
     "status": "default"
    },
    "scrolled": false,
    "slideshow": {
     "slide_type": "slide"
    },
    "tags": []
   },
   "source": [
    "这种方法通常用于快速分割数据，即需要分割训练/测试数据集以验证统计模型时，以及在解答统计问题时的抽样方法中使用"
   ]
  },
  {
   "cell_type": "markdown",
   "metadata": {
    "id": "01F8E81F52584AFA998EA7534FDFD74F",
    "jupyter": {},
    "notebookId": "68fe1eff9305bfb9650b88c0",
    "runtime": {
     "execution_status": null,
     "is_visible": false,
     "status": "default"
    },
    "scrolled": false,
    "slideshow": {
     "slide_type": "slide"
    },
    "tags": []
   },
   "source": [
    "### 2.4 用花哨的索引修改值"
   ]
  },
  {
   "cell_type": "code",
   "execution_count": 25,
   "metadata": {
    "collapsed": false,
    "id": "1C97A7FB3EA04DBDB0D833C73FE1683A",
    "jupyter": {},
    "notebookId": "68fe1eff9305bfb9650b88c0",
    "scrolled": false,
    "slideshow": {
     "slide_type": "slide"
    },
    "tags": [],
    "trusted": true
   },
   "outputs": [
    {
     "name": "stdout",
     "output_type": "stream",
     "text": [
      "x: [0 1 2 3 4 5 6 7 8 9]\n",
      "x[i] = 99, x: [ 0 99 99  3 99  5  6  7 99  9]\n",
      "x[i] -= 10, x: [ 0 89 89  3 89  5  6  7 89  9]\n",
      "x[i] = [10, 100, 1000, 10000], x: [    0   100    10     3 10000     5     6     7  1000     9]\n",
      "[1. 1. 1. 1.] [1. 1. 1. 0. 0. 0. 0. 0. 0. 0.]\n",
      "[365. 730. 365.   0.   0.   0.   0.   0.   0.   0.]\n"
     ]
    }
   ],
   "source": [
    "x = np.arange(10)\n",
    "print('x:', x)\n",
    "i = np.array([2, 1, 8, 4])\n",
    "x[i] = 99\n",
    "print('x[i] = 99, x:', x)\n",
    "x[i] -= 10\n",
    "print('x[i] -= 10, x:', x)\n",
    "x[i] = [10, 100, 1000, 10000]\n",
    "print('x[i] = [10, 100, 1000, 10000], x:', x)\n",
    "y = np.zeros(10)\n",
    "i = [0, 1, 1, 2]\n",
    "y[i] = y[i] + 1\n",
    "print(y[i], y)\n",
    "\n",
    "\n",
    "# 累加，at()函数给定操作，给定索引i，给定值365，相类似函数reduceat()\n",
    "x = np.zeros(10)\n",
    "np.add.at(x, i, 365)\n",
    "print(x)"
   ]
  },
  {
   "cell_type": "markdown",
   "metadata": {
    "id": "BAD2B2CC618F4403A93A0BAB35C5D7DC",
    "jupyter": {},
    "notebookId": "68fe1eff9305bfb9650b88c0",
    "runtime": {
     "execution_status": null,
     "is_visible": false,
     "status": "default"
    },
    "scrolled": false,
    "slideshow": {
     "slide_type": "slide"
    },
    "tags": []
   },
   "source": [
    "### 2.5 示例：数据区间划分，手动创建直方图"
   ]
  },
  {
   "cell_type": "code",
   "execution_count": 26,
   "metadata": {
    "collapsed": false,
    "id": "DED5800E6E6A48F09091353F938D4BDB",
    "jupyter": {},
    "notebookId": "68fe1eff9305bfb9650b88c0",
    "scrolled": false,
    "slideshow": {
     "slide_type": "slide"
    },
    "tags": [],
    "trusted": true
   },
   "outputs": [
    {
     "name": "stdout",
     "output_type": "stream",
     "text": [
      "bins: [-5.         -4.47368421 -3.94736842 -3.42105263 -2.89473684 -2.36842105\n",
      " -1.84210526 -1.31578947 -0.78947368 -0.26315789  0.26315789  0.78947368\n",
      "  1.31578947  1.84210526  2.36842105  2.89473684  3.42105263  3.94736842\n",
      "  4.47368421  5.        ]\n",
      "counts: [0. 0. 0. 0. 0. 0. 0. 0. 0. 0. 0. 0. 0. 0. 0. 0. 0. 0. 0. 0.]\n"
     ]
    },
    {
     "data": {
      "text/html": [
       "<img src=\"https://cdn.kesci.com/upload/rt/DED5800E6E6A48F09091353F938D4BDB/t4qr63e06e.png\">"
      ],
      "text/plain": [
       "<Figure size 432x288 with 1 Axes>"
      ]
     },
     "metadata": {},
     "output_type": "display_data"
    },
    {
     "data": {
      "text/plain": [
       "(array([ 0.,  0.,  0.,  0.,  1.,  3.,  7.,  9., 23., 22., 17., 10.,  7.,\n",
       "         1.,  0.,  0.,  0.,  0.,  0.]),\n",
       " array([-5.        , -4.47368421, -3.94736842, -3.42105263, -2.89473684,\n",
       "        -2.36842105, -1.84210526, -1.31578947, -0.78947368, -0.26315789,\n",
       "         0.26315789,  0.78947368,  1.31578947,  1.84210526,  2.36842105,\n",
       "         2.89473684,  3.42105263,  3.94736842,  4.47368421,  5.        ]),\n",
       " <a list of 1 Patch objects>)"
      ]
     },
     "execution_count": null,
     "metadata": {},
     "output_type": "execute_result"
    },
    {
     "data": {
      "text/html": [
       "<img src=\"https://cdn.kesci.com/upload/rt/DED5800E6E6A48F09091353F938D4BDB/t4qr64kk3q.png\">"
      ],
      "text/plain": [
       "<Figure size 432x288 with 1 Axes>"
      ]
     },
     "metadata": {},
     "output_type": "display_data"
    }
   ],
   "source": [
    "# 用ufun.c.at,假定有1000个值，快速统计分布在各个区间中的数据频次\n",
    "np.random.seed(42)\n",
    "x = np.random.randn(100)\n",
    "\n",
    "# 手动计算直方图，生成一个[-5, 5]之间均匀生成的20个数据点，划分成20个均匀的小区间\n",
    "bins = np.linspace(-5, 5, 20)\n",
    "counts = np.zeros_like(bins) # 生成一个和bins数组形状一样的全零数组\n",
    "print('bins:', bins)\n",
    "print('counts:', counts)\n",
    "\n",
    "# 为每个x找到合适的区间\n",
    "\"\"\"\n",
    "np.searchsorted(bins, x): 这是调用NumPy中的np.searchsorted函数，该函数接受两个参数：\n",
    "第一个参数 bins 是已排序的数组，表示被查找的范围。\n",
    "第二个参数 x 是要查找的数值。\n",
    "np.searchsorted函数返回的结果是一个整数，表示在将 x 插入到 bins 数组中时，应该插入的位置。具体来说：\n",
    "如果 x 小于 bins 中的所有值，那么返回值将是0，表示 x 应该插入到 bins 数组的开头。\n",
    "如果 x 大于 bins 中的所有值，那么返回值将是 len(bins)，表示 x 应该插入到 bins 数组的末尾。\n",
    "如果 x 介于 bins 中的两个值之间，那么返回值将是介于它们之间的位置，以保持 bins 的升序顺序。\n",
    "\"\"\"\n",
    "i = np.searchsorted(bins, x)\n",
    "\n",
    "# 为每个区间加上1, 计数数组counts反映的是在各个区间中的点的个数\n",
    "np.add.at(counts, i, 1)\n",
    "\n",
    "# 画出结果\n",
    "plt.plot(bins, counts, linestyle = '-')\n",
    "plt.show()\n",
    "\n",
    "# 用plt.hist()一步实现上述效果\n",
    "plt.hist(x, bins, histtype = 'step')"
   ]
  },
  {
   "cell_type": "markdown",
   "metadata": {
    "id": "3C0F8ACE583040EA95087BE5F9A999D7",
    "jupyter": {},
    "notebookId": "68fe1eff9305bfb9650b88c0",
    "runtime": {
     "execution_status": null,
     "is_visible": false,
     "status": "default"
    },
    "scrolled": false,
    "slideshow": {
     "slide_type": "slide"
    },
    "tags": []
   },
   "source": [
    "## 3. 闯关题"
   ]
  },
  {
   "cell_type": "markdown",
   "metadata": {
    "id": "BA67D586F92543748243B6A62764A331",
    "jupyter": {},
    "notebookId": "68fe1eff9305bfb9650b88c0",
    "runtime": {
     "execution_status": null,
     "is_visible": false,
     "status": "default"
    },
    "scrolled": false,
    "slideshow": {
     "slide_type": "slide"
    },
    "tags": []
   },
   "source": [
    "### STEP1：根据要求完成题目  "
   ]
  },
  {
   "cell_type": "markdown",
   "metadata": {
    "id": "AA487551AEEF41549F4C39CD43C35CF5",
    "jupyter": {},
    "notebookId": "68fe1eff9305bfb9650b88c0",
    "runtime": {
     "execution_status": null,
     "is_visible": false,
     "status": "default"
    },
    "scrolled": false,
    "slideshow": {
     "slide_type": "slide"
    },
    "tags": []
   },
   "source": [
    "#### 第一部分：布尔  \n",
    "利用0号随机种子创建一个 8x8 的随机整数数组 A，元素范围从 10 到 99。完成以下任务：  \n"
   ]
  },
  {
   "cell_type": "code",
   "execution_count": 27,
   "metadata": {
    "collapsed": false,
    "id": "FDD043ADC09A4A16B0F2B1D3B2439966",
    "jupyter": {},
    "notebookId": "68fe1eff9305bfb9650b88c0",
    "scrolled": false,
    "slideshow": {
     "slide_type": "slide"
    },
    "tags": [],
    "trusted": true
   },
   "outputs": [
    {
     "name": "stdout",
     "output_type": "stream",
     "text": [
      "原始数组 A:\n",
      " [[54 57 74 77 77 19 93 31]\n",
      " [46 97 80 98 98 22 68 75]\n",
      " [49 97 56 98 91 47 35 87]\n",
      " [82 19 30 90 79 89 57 74]\n",
      " [92 98 59 39 29 29 24 49]\n",
      " [42 75 19 67 42 41 84 33]\n",
      " [45 85 65 38 44 10 10 46]\n",
      " [63 15 48 27 89 14 52 68]]\n"
     ]
    }
   ],
   "source": [
    "np.random.seed(0)\n",
    "A = np.random.randint(10, 100, size=(8, 8))\n",
    "print(\"原始数组 A:\\n\", A)"
   ]
  },
  {
   "cell_type": "markdown",
   "metadata": {
    "id": "0CC587EC24FC497A9B1FFE377D859651",
    "jupyter": {},
    "notebookId": "68fe1eff9305bfb9650b88c0",
    "runtime": {
     "execution_status": null,
     "is_visible": false,
     "status": "default"
    },
    "scrolled": false,
    "slideshow": {
     "slide_type": "slide"
    },
    "tags": []
   },
   "source": [
    "##### Q1: 数组中大于 50 的元素的个数为：  \n",
    "A、33  \n",
    "B、34  \n",
    "C、35  \n",
    "D、36 "
   ]
  },
  {
   "cell_type": "code",
   "execution_count": 28,
   "metadata": {
    "collapsed": false,
    "id": "36FC183B6C14429DB80DA05ECC82DAA7",
    "jupyter": {},
    "notebookId": "68fe1eff9305bfb9650b88c0",
    "scrolled": false,
    "slideshow": {
     "slide_type": "slide"
    },
    "tags": [],
    "trusted": true
   },
   "outputs": [
    {
     "name": "stdout",
     "output_type": "stream",
     "text": [
      "35\n"
     ]
    }
   ],
   "source": [
    "#输入你的代码，并运行\n",
    "print(np.count_nonzero(np.greater(A,50)))"
   ]
  },
  {
   "cell_type": "code",
   "execution_count": 29,
   "metadata": {
    "collapsed": false,
    "id": "5133DB66F50548A5AF16F3DBDF66CF38",
    "jupyter": {},
    "notebookId": "68fe1eff9305bfb9650b88c0",
    "scrolled": false,
    "slideshow": {
     "slide_type": "slide"
    },
    "tags": [],
    "trusted": true
   },
   "outputs": [],
   "source": [
    "#填入你的答案并运行,注意大小写\n",
    "a1 = 'C'  # 如 a1= 'A'"
   ]
  },
  {
   "cell_type": "markdown",
   "metadata": {
    "id": "69F5582EAA5847E592A09CB0B25625BC",
    "jupyter": {},
    "notebookId": "68fe1eff9305bfb9650b88c0",
    "runtime": {
     "execution_status": null,
     "is_visible": false,
     "status": "default"
    },
    "scrolled": false,
    "slideshow": {
     "slide_type": "slide"
    },
    "tags": []
   },
   "source": [
    "##### Q2: 将这些大于50的元素在原矩阵中替换为 -1，替换后的矩阵中第6行和为：  \n",
    "A、232  \n",
    "B、230  \n",
    "C、188  \n",
    "D、174"
   ]
  },
  {
   "cell_type": "code",
   "execution_count": 30,
   "metadata": {
    "collapsed": false,
    "id": "F906C15AFBFE496BAA01E1B677D5DEC4",
    "jupyter": {},
    "notebookId": "68fe1eff9305bfb9650b88c0",
    "scrolled": false,
    "slideshow": {
     "slide_type": "slide"
    },
    "tags": [],
    "trusted": true
   },
   "outputs": [],
   "source": [
    "#输入你的代码，并运行\n",
    "A[A>50] = -1 "
   ]
  },
  {
   "cell_type": "code",
   "execution_count": 31,
   "metadata": {
    "collapsed": false,
    "id": "23D565860CBA4D2BA1A79971CB892835",
    "jupyter": {},
    "notebookId": "68fe1eff9305bfb9650b88c0",
    "scrolled": false,
    "slideshow": {
     "slide_type": "slide"
    },
    "tags": [],
    "trusted": true
   },
   "outputs": [],
   "source": [
    "#填入你的答案并运行,注意大小写\n",
    "a2 = 'D'  # 如 a2= 'A'"
   ]
  },
  {
   "cell_type": "markdown",
   "metadata": {
    "id": "E71D0ADBBC294569A51993E5CE995188",
    "jupyter": {},
    "notebookId": "68fe1eff9305bfb9650b88c0",
    "runtime": {
     "execution_status": null,
     "is_visible": false,
     "status": "default"
    },
    "scrolled": false,
    "slideshow": {
     "slide_type": "slide"
    },
    "tags": []
   },
   "source": [
    "##### Q3: 判断数组中是否至少有一个元素大于 75，布尔结果为：  \n",
    "A、True  \n",
    "B、False"
   ]
  },
  {
   "cell_type": "code",
   "execution_count": 32,
   "metadata": {
    "collapsed": false,
    "id": "3669EE513D1248FE836AF64AD67A03E7",
    "jupyter": {},
    "notebookId": "68fe1eff9305bfb9650b88c0",
    "scrolled": false,
    "slideshow": {
     "slide_type": "slide"
    },
    "tags": [],
    "trusted": true
   },
   "outputs": [
    {
     "data": {
      "text/plain": [
       "False"
      ]
     },
     "execution_count": null,
     "metadata": {},
     "output_type": "execute_result"
    }
   ],
   "source": [
    "#输入你的代码，并运行\n",
    "np.any(A>75)"
   ]
  },
  {
   "cell_type": "code",
   "execution_count": 33,
   "metadata": {
    "collapsed": false,
    "id": "B3E011A1F0E14F3DA60958240A149D88",
    "jupyter": {},
    "notebookId": "68fe1eff9305bfb9650b88c0",
    "scrolled": false,
    "slideshow": {
     "slide_type": "slide"
    },
    "tags": [],
    "trusted": true
   },
   "outputs": [],
   "source": [
    "#填入你的答案并运行,注意大小写\n",
    "a3 = 'B'  # 如 a3= 'A'"
   ]
  },
  {
   "cell_type": "markdown",
   "metadata": {
    "id": "E23B9BB939684E8C8B005FF6E7FC1163",
    "jupyter": {},
    "notebookId": "68fe1eff9305bfb9650b88c0",
    "runtime": {
     "execution_status": null,
     "is_visible": false,
     "status": "default"
    },
    "scrolled": false,
    "slideshow": {
     "slide_type": "slide"
    },
    "tags": []
   },
   "source": [
    "#### Q4：索引的进阶用法  \n",
    "数组 locations是一个形状为 (200, 2)，均值为[0, 0]，协方差矩阵为[[1, 0.5], [0.5, 1]]的二维位置坐标，第一列为x坐标，第二列为y坐标。  \n",
    "将第一个点（注意这里索引应该为0），第30个点，第51个点，第130个点，第181个点利用索引的方式提取出来并保存为selected_locations。  \n",
    "selected_locations中的点的x坐标求平均值为( )。  \n",
    "A、0.731  \n",
    "B、-0.299  \n",
    "C、-0.172  \n",
    "D、0.343  "
   ]
  },
  {
   "cell_type": "code",
   "execution_count": 34,
   "metadata": {
    "collapsed": false,
    "id": "5FDFC7574F1B49BD877D7275FC287F2C",
    "jupyter": {},
    "notebookId": "68fe1eff9305bfb9650b88c0",
    "scrolled": false,
    "slideshow": {
     "slide_type": "slide"
    },
    "tags": [],
    "trusted": true
   },
   "outputs": [
    {
     "name": "stdout",
     "output_type": "stream",
     "text": [
      "前5个位置坐标为： [[-1.72779275 -1.32763554]\n",
      " [-1.96805856  0.27283464]\n",
      " [-1.12871372 -2.1059916 ]\n",
      " [-0.7471221  -0.89847931]\n",
      " [-0.1159091   0.2946894 ]]\n"
     ]
    }
   ],
   "source": [
    "# 创建位置数组\n",
    "np.random.seed(0)\n",
    "mean = [0, 0]\n",
    "cov = [[1, 0.5], [0.5, 1]]\n",
    "locations = np.random.multivariate_normal(mean, cov, 200)\n",
    "print('前5个位置坐标为：',locations[:5,:])"
   ]
  },
  {
   "cell_type": "code",
   "execution_count": 35,
   "metadata": {
    "collapsed": false,
    "id": "DCEF86A38FCF4547A4956C829F969FB9",
    "jupyter": {},
    "notebookId": "68fe1eff9305bfb9650b88c0",
    "scrolled": false,
    "slideshow": {
     "slide_type": "slide"
    },
    "tags": [],
    "trusted": true
   },
   "outputs": [],
   "source": [
    "#填入你的答案并运行,注意大小写\n",
    "a4 = 'B'  # 如 a4= 'B'"
   ]
  },
  {
   "cell_type": "markdown",
   "metadata": {
    "id": "977DC3209A994F448D1F747C0B21B4EB",
    "jupyter": {},
    "notebookId": "68fe1eff9305bfb9650b88c0",
    "runtime": {
     "execution_status": null,
     "is_visible": false,
     "status": "default"
    },
    "scrolled": false,
    "slideshow": {
     "slide_type": "slide"
    },
    "tags": []
   },
   "source": [
    "### STEP2：将结果保存为 csv 文件  \n",
    "csv 需要有两列，列名：id、answer。其中，id 列为题号，如 q1、q2；answer 列为 STEP1 中各题你计算出来的结果。💡 这一步的代码你不用做任何修改，直接运行即可。"
   ]
  },
  {
   "cell_type": "code",
   "execution_count": 36,
   "metadata": {
    "collapsed": false,
    "id": "AF4BD9F33D2943C6A2B04AB1AB6E7D86",
    "jupyter": {},
    "notebookId": "68fe1eff9305bfb9650b88c0",
    "scrolled": false,
    "slideshow": {
     "slide_type": "slide"
    },
    "tags": [],
    "trusted": true
   },
   "outputs": [],
   "source": [
    "# 生成 csv 作业答案文件\n",
    "def save_csv(a1,a2,a3,a4):\n",
    "    import pandas as pd\n",
    "    df = pd.DataFrame({\"id\": [\"q1\", \"q2\", \"q3\",\"q4\"], \"answer\": [a1, a2, a3,a4]})\n",
    "    df.to_csv(\"answer_3.csv\", index=None)\n",
    "\n",
    "save_csv(a1,a2,a3,a4)  # 运行这个cell,生成答案文件；该文件在左侧文件树project工作区下，你可以自行右击下载或者读取查看"
   ]
  },
  {
   "cell_type": "markdown",
   "metadata": {
    "id": "B4E9F98368DF4DB6AA98CB33DEDC4BFC",
    "jupyter": {},
    "notebookId": "68fe1eff9305bfb9650b88c0",
    "runtime": {
     "execution_status": null,
     "is_visible": false,
     "status": "default"
    },
    "scrolled": false,
    "slideshow": {
     "slide_type": "slide"
    },
    "tags": []
   },
   "source": [
    "### STEP3: 提交 csv 文件，获取分数结果  \n",
    "你的 csv 答案文件已经准备完毕了，最后让我们提交答案文件，看看是否正确。  \n",
    "提交方法：  \n",
    "1、拷贝提交 token  \n",
    "去对应关卡的 [提交页面](https://www.heywhale.com/home/competition/667278de2c79f2f6c008995b/submit)，找到对应关卡，看到了你的 token 嘛？  \n",
    "拷贝它。  \n",
    "记得：每个关卡的 token 不一样。  \n",
    "2、下方 cell 里，拿你拷贝的 token 替换掉 XXXXXXX， 然后 Ctrl+Enter 运行 "
   ]
  },
  {
   "cell_type": "code",
   "execution_count": 37,
   "metadata": {
    "collapsed": false,
    "id": "131134EAE2AD4D888F644F95C1A0F55C",
    "jupyter": {},
    "notebookId": "68fe1eff9305bfb9650b88c0",
    "scrolled": false,
    "slideshow": {
     "slide_type": "slide"
    },
    "tags": [],
    "trusted": true
   },
   "outputs": [
    {
     "name": "stdout",
     "output_type": "stream",
     "text": [
      "wget: /opt/conda/lib/libcrypto.so.1.0.0: no version information available (required by wget)\n",
      "wget: /opt/conda/lib/libssl.so.1.0.0: no version information available (required by wget)\n",
      "wget: /opt/conda/lib/libssl.so.1.0.0: no version information available (required by wget)\n",
      "2025-10-26 13:35:50 URL:https://cdn.kesci.com/submit_tool/v4/heywhale_submit [22020102/22020102] -> \"heywhale_submit\" [1]\n",
      "Heywhale Submit Tool: v5.0.1 \n",
      "> 已验证Token\n",
      "> 开始上传文件\n",
      "30 / 30 [||||||||||||||||||||||||||||||||||||||||||||||||||||||||] ? p/s 100.00%\n",
      "> 文件已上传        \n",
      "> 服务器响应: 200 提交成功，请等待评审完成\n",
      "> 提交完成\n"
     ]
    }
   ],
   "source": [
    "#运行这个Cell 下载提交工具\n",
    "\n",
    "!wget -nv -O heywhale_submit https://cdn.kesci.com/submit_tool/v4/heywhale_submit&&chmod +x heywhale_submit\n",
    "\n",
    "# 运行提交工具\n",
    "# 把下方XXXXXXX替换为你的 Token\n",
    "# 改完看起来像是：!./heywhale_submit -token 586eeef71cb92941 -file answer_3.csv\n",
    "\n",
    "!./heywhale_submit -token 6f83a3ef11d94502 -file answer_3.csv  # 替换XXXXXXX；注意不可增减任何空格或其他字符"
   ]
  }
 ],
 "metadata": {
  "kernelspec": {
   "display_name": "Python 3",
   "language": "python",
   "name": "python3"
  },
  "language_info": {
   "codemirror_mode": {
    "name": "ipython",
    "version": 3
   },
   "file_extension": ".py",
   "mimetype": "text/x-python",
   "name": "python",
   "nbconvert_exporter": "python",
   "pygments_lexer": "ipython3",
   "version": "3.5.2"
  }
 },
 "nbformat": 4,
 "nbformat_minor": 4
}
