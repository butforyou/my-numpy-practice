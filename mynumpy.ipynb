{
 "cells": [
  {
   "cell_type": "code",
   "execution_count": 1,
   "id": "4e988b5d",
   "metadata": {},
   "outputs": [],
   "source": [
    "import numpy as np"
   ]
  },
  {
   "cell_type": "markdown",
   "id": "da8f5b5c",
   "metadata": {},
   "source": [
    "Q1：创建数列\\\n",
    "利用arange函数，创建数组值从1开始到19结束（不包含19），步长为1，保存为a\\\n",
    "再创建一个从19到49结束（不包含49），步长为1，保存为b"
   ]
  },
  {
   "cell_type": "code",
   "execution_count": 2,
   "id": "30bf9913",
   "metadata": {},
   "outputs": [],
   "source": [
    "a = np.arange(1,19,1)\n",
    "b = np.arange(19,49,1)"
   ]
  },
  {
   "cell_type": "markdown",
   "id": "61bec227",
   "metadata": {},
   "source": [
    "Q2: 对数列形变\\\n",
    "利用reshape函数，将a形变为3×6的数组，保存为A\\\n",
    "将b形变为5×6的数组，保存为B"
   ]
  },
  {
   "cell_type": "code",
   "execution_count": null,
   "id": "2035405a",
   "metadata": {},
   "outputs": [],
   "source": [
    "A = a.reshape(3,6)\n",
    "B = b.reshape(5,6)"
   ]
  },
  {
   "cell_type": "markdown",
   "id": "745492d1",
   "metadata": {},
   "source": [
    "Q3：数组拼接与分裂\\\n",
    "利用vstack将A和B数组进行垂直方向拼接，保存为C数组\\\n",
    "利用split对C数组在第2行分裂成两部分，将下半部分保存为D"
   ]
  },
  {
   "cell_type": "code",
   "execution_count": 11,
   "id": "aca51003",
   "metadata": {},
   "outputs": [],
   "source": [
    "C = np.vstack([A,B])\n",
    "up,D= np.split(C,[2])"
   ]
  },
  {
   "cell_type": "markdown",
   "id": "24b7c6c0",
   "metadata": {},
   "source": [
    "Q4：切片与索引\\\n",
    "对D提取第1行所有元素，保存为E"
   ]
  },
  {
   "cell_type": "code",
   "execution_count": 17,
   "id": "01d818d8",
   "metadata": {},
   "outputs": [],
   "source": [
    "E = D[0,:]"
   ]
  },
  {
   "cell_type": "markdown",
   "id": "8f3c0de9",
   "metadata": {},
   "source": [
    "Q5：数组计算\\\n",
    "利用multiply.accumulate对E中所有元素依次求积，并保留最后一项作为E中的累计积保存为a1"
   ]
  },
  {
   "cell_type": "code",
   "execution_count": 16,
   "id": "95207db6",
   "metadata": {},
   "outputs": [],
   "source": [
    "a1 = np.multiply.accumulate(E)[-1]"
   ]
  }
 ],
 "metadata": {
  "kernelspec": {
   "display_name": "base",
   "language": "python",
   "name": "python3"
  },
  "language_info": {
   "codemirror_mode": {
    "name": "ipython",
    "version": 3
   },
   "file_extension": ".py",
   "mimetype": "text/x-python",
   "name": "python",
   "nbconvert_exporter": "python",
   "pygments_lexer": "ipython3",
   "version": "3.7.0"
  }
 },
 "nbformat": 4,
 "nbformat_minor": 5
}
