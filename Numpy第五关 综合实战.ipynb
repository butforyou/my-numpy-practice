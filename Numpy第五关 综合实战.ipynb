{
 "cells": [
  {
   "cell_type": "markdown",
   "metadata": {
    "id": "62CB8D3C845D4390971C068C92B685C6",
    "jupyter": {},
    "notebookId": "68fe303c9305bfb96526d790",
    "runtime": {
     "execution_status": null,
     "is_visible": false,
     "status": "default"
    },
    "scrolled": false,
    "slideshow": {
     "slide_type": "slide"
    },
    "tags": []
   },
   "source": [
    "# 第五关： 综合实战"
   ]
  },
  {
   "cell_type": "markdown",
   "metadata": {
    "id": "92BE2EA4F19A4EC09A0355B32B642E9C",
    "jupyter": {},
    "notebookId": "68fe303c9305bfb96526d790",
    "runtime": {
     "execution_status": null,
     "is_visible": false,
     "status": "default"
    },
    "scrolled": false,
    "slideshow": {
     "slide_type": "slide"
    },
    "tags": []
   },
   "source": [
    "### STEP1：根据要求完成题目"
   ]
  },
  {
   "cell_type": "markdown",
   "metadata": {
    "id": "C1A938D4144C408E8BE924F9D4C6B84D",
    "jupyter": {},
    "notebookId": "68fe303c9305bfb96526d790",
    "runtime": {
     "execution_status": null,
     "is_visible": false,
     "status": "default"
    },
    "scrolled": false,
    "slideshow": {
     "slide_type": "slide"
    },
    "tags": [],
    "trusted": true
   },
   "source": [
    "### 综合实战：会员消费与积分分析  \n",
    "背景描述：  \n",
    "你是一家零售商店的数据分析师，负责分析会员的消费行为和积分获得情况。会员数据库记录了每位会员的年龄、性别、消费金额和所获得的积分。通过分析这些数据，帮助公司更好地理解消费行为，并优化会员奖励计划。  \n",
    "\n",
    "会员信息数据介绍：  \n",
    "member_id：整型，会员ID（同时为数据索引）。  \n",
    "age：整型，会员年龄。  \n",
    "gender：字符串类型，会员性别，'M' 表示男性，'F' 表示女性。  \n",
    "spend：浮点型，消费金额。  \n",
    "points：整型，所得积分。  \n",
    "\n"
   ]
  },
  {
   "cell_type": "code",
   "execution_count": 22,
   "metadata": {
    "collapsed": false,
    "id": "8A2FC12AA12449EAA6BE84076DB8F2F7",
    "jupyter": {},
    "notebookId": "68fe303c9305bfb96526d790",
    "scrolled": false,
    "slideshow": {
     "slide_type": "slide"
    },
    "tags": [],
    "trusted": true
   },
   "outputs": [],
   "source": [
    "import numpy as np\n",
    "import numpy.lib.recfunctions as rfn\n",
    "\n",
    "dtype = [\n",
    "    ('member_id', int),\n",
    "    ('age', int),\n",
    "    ('gender', 'U1'),\n",
    "    ('spend', float),\n",
    "    ('points', int)\n",
    "]\n",
    "\n",
    "data = [\n",
    "    (0, 33, 'M', 170.77, 100),\n",
    "    (1, 23, 'F', 150.75, 100),\n",
    "    (2, 34, 'M', 200.50, 200),\n",
    "    (3, 45, 'F', 980.00, 800),\n",
    "    (4, 28, 'M', 330.25, 300),\n",
    "    (5, 65, 'F', 485.00, 400),\n",
    "    (6, 53, 'M', 855.75, 755),\n",
    "    (7, 41, 'F', 250.00, 200),\n",
    "    (8, 30, 'M', 650.90, 600),\n",
    "    (9, 37, 'F', 760.45, 730),\n",
    "    (10, 29, 'M', 155.55, 145)\n",
    "]\n",
    "\n",
    "members = np.array(data, dtype=dtype)\n"
   ]
  },
  {
   "cell_type": "markdown",
   "metadata": {
    "id": "3D78A2E33CBE4C10911D95AA0D7D48D9",
    "jupyter": {},
    "notebookId": "68fe303c9305bfb96526d790",
    "runtime": {
     "execution_status": null,
     "is_visible": false,
     "status": "default"
    },
    "scrolled": false,
    "slideshow": {
     "slide_type": "slide"
    },
    "tags": []
   },
   "source": [
    "## Q1: 聚合  \n",
    "计算消费金额（spend）的平均数，保留整数部分，把整数结果保存为a1。"
   ]
  },
  {
   "cell_type": "code",
   "execution_count": 23,
   "metadata": {
    "collapsed": false,
    "id": "AE315B86F778454B9931BA1305BC8F9C",
    "jupyter": {},
    "notebookId": "68fe303c9305bfb96526d790",
    "scrolled": false,
    "slideshow": {
     "slide_type": "slide"
    },
    "tags": [],
    "trusted": true
   },
   "outputs": [
    {
     "data": {
      "text/plain": [
       "453"
      ]
     },
     "execution_count": null,
     "metadata": {},
     "output_type": "execute_result"
    }
   ],
   "source": [
    "#输入你的代码，并运行\n",
    "np.mean(members['spend'],dtype='int')"
   ]
  },
  {
   "cell_type": "code",
   "execution_count": 24,
   "metadata": {
    "collapsed": false,
    "id": "898912AE3B144034AFF6C98619F43B76",
    "jupyter": {},
    "notebookId": "68fe303c9305bfb96526d790",
    "scrolled": false,
    "slideshow": {
     "slide_type": "slide"
    },
    "tags": [],
    "trusted": true
   },
   "outputs": [],
   "source": [
    "#填入你的答案并运行,注意为整数，后面无小数点\n",
    "a1 = 453 # 如 a1= 5"
   ]
  },
  {
   "cell_type": "markdown",
   "metadata": {
    "id": "CF598003F17047029E5EFEB261C33BB0",
    "jupyter": {},
    "notebookId": "68fe303c9305bfb96526d790",
    "runtime": {
     "execution_status": null,
     "is_visible": false,
     "status": "default"
    },
    "scrolled": false,
    "slideshow": {
     "slide_type": "slide"
    },
    "tags": []
   },
   "source": [
    "## Q2: 挖掘潜在消费群体  \n",
    "### Q2第一步：比较与索引  \n",
    "获取所有消费金额小于平均数的会员信息"
   ]
  },
  {
   "cell_type": "code",
   "execution_count": 25,
   "metadata": {
    "collapsed": false,
    "id": "CBE0D1833DB8431DBC1FCE2B32A7B4AE",
    "jupyter": {},
    "notebookId": "68fe303c9305bfb96526d790",
    "scrolled": false,
    "slideshow": {
     "slide_type": "slide"
    },
    "tags": [],
    "trusted": true
   },
   "outputs": [
    {
     "data": {
      "text/plain": [
       "array([( 0, 33, 'M', 170.77, 100), ( 1, 23, 'F', 150.75, 100),\n",
       "       ( 2, 34, 'M', 200.5 , 200), ( 4, 28, 'M', 330.25, 300),\n",
       "       ( 7, 41, 'F', 250.  , 200), (10, 29, 'M', 155.55, 145)],\n",
       "      dtype=[('member_id', '<i8'), ('age', '<i8'), ('gender', '<U1'), ('spend', '<f8'), ('points', '<i8')])"
      ]
     },
     "execution_count": null,
     "metadata": {},
     "output_type": "execute_result"
    }
   ],
   "source": [
    "#输入你的代码，并运行\n",
    "members[members['spend']<a1]"
   ]
  },
  {
   "cell_type": "markdown",
   "metadata": {
    "id": "E9FDA5F84A4E48269A383FA7B76B579D",
    "jupyter": {},
    "notebookId": "68fe303c9305bfb96526d790",
    "runtime": {
     "execution_status": null,
     "is_visible": false,
     "status": "default"
    },
    "scrolled": false,
    "slideshow": {
     "slide_type": "slide"
    },
    "tags": []
   },
   "source": [
    "### Q2第二步: 聚合  \n",
    "计算消费金额小于平均数的会员的平均年龄，保留整数部分，把整数结果保存为a2。"
   ]
  },
  {
   "cell_type": "code",
   "execution_count": 26,
   "metadata": {
    "collapsed": false,
    "id": "43F3886B87C842A09F44B87FCC68BF44",
    "jupyter": {},
    "notebookId": "68fe303c9305bfb96526d790",
    "scrolled": false,
    "slideshow": {
     "slide_type": "slide"
    },
    "tags": [],
    "trusted": true
   },
   "outputs": [
    {
     "data": {
      "text/plain": [
       "31"
      ]
     },
     "execution_count": null,
     "metadata": {},
     "output_type": "execute_result"
    }
   ],
   "source": [
    "#输入你的代码，并运行\n",
    "members[members['spend']<a1]['age'].mean(dtype='int')"
   ]
  },
  {
   "cell_type": "code",
   "execution_count": 27,
   "metadata": {
    "collapsed": false,
    "id": "CFC48A7840D54DF981CD5B473262AA89",
    "jupyter": {},
    "notebookId": "68fe303c9305bfb96526d790",
    "scrolled": false,
    "slideshow": {
     "slide_type": "slide"
    },
    "tags": [],
    "trusted": true
   },
   "outputs": [],
   "source": [
    "#填入你的答案并运行,注意为整数，无小数点\n",
    "a2 = 31 # 如 a2= 5"
   ]
  },
  {
   "cell_type": "markdown",
   "metadata": {
    "id": "FC07BF3684304894BA77CBC90EC492DC",
    "jupyter": {},
    "notebookId": "68fe303c9305bfb96526d790",
    "runtime": {
     "execution_status": null,
     "is_visible": false,
     "status": "default"
    },
    "scrolled": false,
    "slideshow": {
     "slide_type": "slide"
    },
    "tags": []
   },
   "source": [
    "## Q3： 发掘高效会员  \n",
    "### Q3第一步：广播计算  \n",
    "定义一个新的变量为“获积分效率”，其公式为points/spend。  \n",
    "根据members计算新变量“活积分效率”，并将其作为新的一列添加在members中，保存为points_eff。  \n",
    "```\n",
    "# 可以用以下代码进行数据添加  \n",
    "new_data = rfn.append_fields(new_data, 'points_eff', points_eff, usemask=False)  \n",
    "```"
   ]
  },
  {
   "cell_type": "code",
   "execution_count": 28,
   "metadata": {
    "collapsed": false,
    "id": "57E7A98ECB204CE895AA731A8798B98A",
    "jupyter": {},
    "notebookId": "68fe303c9305bfb96526d790",
    "scrolled": false,
    "slideshow": {
     "slide_type": "slide"
    },
    "tags": [],
    "trusted": true
   },
   "outputs": [],
   "source": [
    "#输入你的代码，并运行\n",
    "points_eff = members['points']/members['spend']\n",
    "members = rfn.append_fields(members,'points_eff',points_eff,usemask=False)"
   ]
  },
  {
   "cell_type": "markdown",
   "metadata": {
    "id": "392869437DD14AD4A2490F0093991377",
    "jupyter": {},
    "notebookId": "68fe303c9305bfb96526d790",
    "runtime": {
     "execution_status": null,
     "is_visible": false,
     "status": "default"
    },
    "scrolled": false,
    "slideshow": {
     "slide_type": "slide"
    },
    "tags": []
   },
   "source": [
    "### Q3第二步: 排序  \n",
    "获取获得积分最高效的会员id，保存为a3。"
   ]
  },
  {
   "cell_type": "code",
   "execution_count": 29,
   "metadata": {
    "collapsed": false,
    "id": "2C2B11A0C3C84D30A367A1833D737F63",
    "jupyter": {},
    "notebookId": "68fe303c9305bfb96526d790",
    "scrolled": false,
    "slideshow": {
     "slide_type": "slide"
    },
    "tags": [],
    "trusted": true
   },
   "outputs": [
    {
     "data": {
      "text/plain": [
       "2"
      ]
     },
     "execution_count": null,
     "metadata": {},
     "output_type": "execute_result"
    }
   ],
   "source": [
    "#输入你的代码，并运行\n",
    "members['member_id'][np.argmax(members['points_eff'])]"
   ]
  },
  {
   "cell_type": "code",
   "execution_count": 30,
   "metadata": {
    "collapsed": false,
    "id": "20D7227D7C7042AF8D20F39DCF4183FA",
    "jupyter": {},
    "notebookId": "68fe303c9305bfb96526d790",
    "scrolled": false,
    "slideshow": {
     "slide_type": "slide"
    },
    "tags": [],
    "trusted": true
   },
   "outputs": [],
   "source": [
    "#填入你的答案并运行,注意整数后面无小数点\n",
    "a3 = 2  # 如 a3= 200"
   ]
  },
  {
   "cell_type": "markdown",
   "metadata": {
    "id": "E8D73092DEDA4F5B8FB9E6D5369F95D5",
    "jupyter": {},
    "notebookId": "68fe303c9305bfb96526d790",
    "runtime": {
     "execution_status": null,
     "is_visible": false,
     "status": "default"
    },
    "scrolled": false,
    "slideshow": {
     "slide_type": "slide"
    },
    "tags": []
   },
   "source": [
    "### STEP2：将结果保存为 csv 文件  \n",
    "csv 需要有两列，列名：id、answer。其中，id 列为题号，如 q1、q2；answer 列为 STEP1 中各题你计算出来的结果。💡 这一步的代码你不用做任何修改，直接运行即可。"
   ]
  },
  {
   "cell_type": "code",
   "execution_count": 31,
   "metadata": {
    "collapsed": false,
    "id": "264522148B0F4DBB9445572A191653E6",
    "jupyter": {},
    "notebookId": "68fe303c9305bfb96526d790",
    "scrolled": false,
    "slideshow": {
     "slide_type": "slide"
    },
    "tags": [],
    "trusted": true
   },
   "outputs": [],
   "source": [
    "# 生成 csv 作业答案文件\n",
    "def save_csv(a1,a2,a3):\n",
    "    import pandas as pd\n",
    "    df = pd.DataFrame({\"id\": [\"q1\", \"q2\", \"q3\"], \"answer\": [a1, a2, a3]})\n",
    "    df.to_csv(\"answer_5.csv\", index=None)\n",
    "\n",
    "save_csv(a1,a2,a3)  # 运行这个cell,生成答案文件；该文件在左侧文件树project工作区下，你可以自行右击下载或者读取查看"
   ]
  },
  {
   "cell_type": "markdown",
   "metadata": {
    "id": "A4D63AF9F78C4B1492411C949700DCD5",
    "jupyter": {},
    "notebookId": "68fe303c9305bfb96526d790",
    "runtime": {
     "execution_status": null,
     "is_visible": false,
     "status": "default"
    },
    "scrolled": false,
    "slideshow": {
     "slide_type": "slide"
    },
    "tags": []
   },
   "source": [
    "### STEP3: 提交 csv 文件，获取分数结果  \n",
    "你的 csv 答案文件已经准备完毕了，最后让我们提交答案文件，看看是否正确。  \n",
    "提交方法：  \n",
    "1、拷贝提交 token  \n",
    "去对应关卡的 [提交页面](https://www.heywhale.com/home/competition/667278de2c79f2f6c008995b/submit)，找到对应关卡，看到了你的 token 嘛？  \n",
    "拷贝它。  \n",
    "记得：每个关卡的 token 不一样。  \n",
    "2、下方 cell 里，拿你拷贝的 token 替换掉 XXXXXXX， 然后 Ctrl+Enter 运行 "
   ]
  },
  {
   "cell_type": "code",
   "execution_count": 32,
   "metadata": {
    "collapsed": false,
    "id": "DA0A7CE73CF543A390C3E6CA9B675393",
    "jupyter": {},
    "notebookId": "68fe303c9305bfb96526d790",
    "scrolled": false,
    "slideshow": {
     "slide_type": "slide"
    },
    "tags": [],
    "trusted": true
   },
   "outputs": [
    {
     "name": "stdout",
     "output_type": "stream",
     "text": [
      "wget: /opt/conda/lib/libcrypto.so.1.0.0: no version information available (required by wget)\n",
      "wget: /opt/conda/lib/libssl.so.1.0.0: no version information available (required by wget)\n",
      "wget: /opt/conda/lib/libssl.so.1.0.0: no version information available (required by wget)\n",
      "2025-10-26 14:45:24 URL:https://cdn.kesci.com/submit_tool/v4/heywhale_submit [22020102/22020102] -> \"heywhale_submit\" [1]\n",
      "Heywhale Submit Tool: v5.0.1 \n",
      "> 已验证Token\n",
      "> 开始上传文件\n",
      "28 / 28 [||||||||||||||||||||||||||||||||||||||||||||||||||||||||] ? p/s 100.00%\n",
      "> 文件已上传        \n",
      "> 服务器响应: 200 提交成功，请等待评审完成\n",
      "> 提交完成\n"
     ]
    }
   ],
   "source": [
    "#运行这个Cell 下载提交工具\n",
    "\n",
    "!wget -nv -O heywhale_submit https://cdn.kesci.com/submit_tool/v4/heywhale_submit&&chmod +x heywhale_submit\n",
    "\n",
    "# 运行提交工具\n",
    "# 把下方XXXXXXX替换为你的 Token\n",
    "# 改完看起来像是：!./heywhale_submit -token 586eeef71cb92941 -file answer_5.csv\n",
    "\n",
    "!./heywhale_submit -token 46b9b5d2fdf8c31b -file answer_5.csv  # 替换XXXXXXX；注意不可增减任何空格或其他字符"
   ]
  }
 ],
 "metadata": {
  "kernelspec": {
   "display_name": "Python 3",
   "language": "python",
   "name": "python3"
  },
  "language_info": {
   "codemirror_mode": {
    "name": "ipython",
    "version": 3
   },
   "file_extension": ".py",
   "mimetype": "text/x-python",
   "name": "python",
   "nbconvert_exporter": "python",
   "pygments_lexer": "ipython3",
   "version": "3.5.2"
  }
 },
 "nbformat": 4,
 "nbformat_minor": 0
}
