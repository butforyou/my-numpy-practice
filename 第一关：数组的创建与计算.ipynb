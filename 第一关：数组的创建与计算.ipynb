{
 "cells": [
  {
   "cell_type": "markdown",
   "metadata": {
    "_id": "8D4A59BD95A649C286ADFE2108F04967",
    "id": "132EB85025424294BC1BDEBF551DE725",
    "jupyter": {},
    "notebookId": "68fe0f4876735876897d962d",
    "runtime": {
     "execution_status": null,
     "is_visible": false,
     "status": "default"
    },
    "scrolled": false,
    "slideshow": {
     "slide_type": "slide"
    },
    "tags": []
   },
   "source": [
    "## 1. 创建数组"
   ]
  },
  {
   "cell_type": "markdown",
   "metadata": {
    "_id": "213B5EA05ACB48CAB37ED3061E27EE8F",
    "id": "7AE3B5EC3B884793862141FD4254D6B4",
    "jupyter": {},
    "notebookId": "68fe0f4876735876897d962d",
    "runtime": {
     "execution_status": null,
     "is_visible": false,
     "status": "default"
    },
    "scrolled": false,
    "slideshow": {
     "slide_type": "slide"
    },
    "tags": []
   },
   "source": [
    "### 1.1 python中的固定类型数组"
   ]
  },
  {
   "cell_type": "code",
   "execution_count": 1,
   "metadata": {
    "_id": "E1A9B0FF34E3419A976A1F6D1D9C2889",
    "collapsed": false,
    "id": "779F228D32E14D969D05A95DEEBB859D",
    "jupyter": {},
    "notebookId": "68fe0f4876735876897d962d",
    "scrolled": false,
    "slideshow": {
     "slide_type": "slide"
    },
    "tags": [],
    "trusted": true
   },
   "outputs": [
    {
     "data": {
      "text/plain": [
       "array('i', [0, 1, 2, 3, 4, 5, 6, 7, 8, 9])"
      ]
     },
     "execution_count": null,
     "metadata": {},
     "output_type": "execute_result"
    }
   ],
   "source": [
    "import array\n",
    "L = list(range(10))\n",
    "# array为python内置数组模块，i是一个数据类型码表示数据为整型\n",
    "A = array.array('i', L)\n",
    "A"
   ]
  },
  {
   "cell_type": "markdown",
   "metadata": {
    "_id": "D0EE43CFD0FA473597DF194CAD00AB4A",
    "id": "86EFADA395064CF8B255F13EDD4D626C",
    "jupyter": {},
    "notebookId": "68fe0f4876735876897d962d",
    "runtime": {
     "execution_status": null,
     "is_visible": false,
     "status": "default"
    },
    "scrolled": false,
    "slideshow": {
     "slide_type": "slide"
    },
    "tags": []
   },
   "source": [
    "### 1.2 利用np.array从列表创建数组"
   ]
  },
  {
   "cell_type": "code",
   "execution_count": 2,
   "metadata": {
    "_id": "F40BE34AE9FE46ADA064B2E7E3A1A34B",
    "collapsed": false,
    "id": "FC2C7CE3BFB74251AC1942C92DDB06EA",
    "jupyter": {},
    "notebookId": "68fe0f4876735876897d962d",
    "scrolled": false,
    "slideshow": {
     "slide_type": "slide"
    },
    "tags": [],
    "trusted": true
   },
   "outputs": [],
   "source": [
    "import numpy as np\n",
    "import array"
   ]
  },
  {
   "cell_type": "code",
   "execution_count": 3,
   "metadata": {
    "_id": "97134E9F3D5A4F53A3D5B2A6E504B0CD",
    "collapsed": false,
    "id": "FB42248A0D2D41C7A608B94CF674EEE9",
    "jupyter": {},
    "notebookId": "68fe0f4876735876897d962d",
    "scrolled": false,
    "slideshow": {
     "slide_type": "slide"
    },
    "tags": [],
    "trusted": true
   },
   "outputs": [
    {
     "data": {
      "text/plain": [
       "array([1, 2, 3])"
      ]
     },
     "execution_count": null,
     "metadata": {},
     "output_type": "execute_result"
    }
   ],
   "source": [
    "np.array([1, 2, 3])"
   ]
  },
  {
   "cell_type": "code",
   "execution_count": 4,
   "metadata": {
    "_id": "BD418952CD1E4B52BACBE5851E1F9D6C",
    "collapsed": false,
    "id": "41C5A5B5FED8485C85B841B1F0808E22",
    "jupyter": {},
    "notebookId": "68fe0f4876735876897d962d",
    "scrolled": false,
    "slideshow": {
     "slide_type": "slide"
    },
    "tags": [],
    "trusted": true
   },
   "outputs": [
    {
     "name": "stdout",
     "output_type": "stream",
     "text": [
      "[3.  2.  5.  1.3]\n",
      "[1. 2. 3. 4.]\n"
     ]
    },
    {
     "data": {
      "text/plain": [
       "numpy.ndarray"
      ]
     },
     "execution_count": null,
     "metadata": {},
     "output_type": "execute_result"
    }
   ],
   "source": [
    "# Numpy要求数组必须包含统一类型的数据，类型不匹配会向上转化，可以用dtype明确设置数据类型\n",
    "a = np.array([3.0, 2, 5, 1.3])\n",
    "b = np.array([1, 2, 3, 4], dtype = 'float')\n",
    "print(a)\n",
    "print(b)\n",
    "type(b)"
   ]
  },
  {
   "cell_type": "code",
   "execution_count": 5,
   "metadata": {
    "_id": "56C581C5E8294979A9B94B6554F1123C",
    "collapsed": false,
    "id": "CC1DC148938144478858105410CFE5CD",
    "jupyter": {},
    "notebookId": "68fe0f4876735876897d962d",
    "scrolled": false,
    "slideshow": {
     "slide_type": "slide"
    },
    "tags": [],
    "trusted": true
   },
   "outputs": [
    {
     "name": "stdout",
     "output_type": "stream",
     "text": [
      "2\n",
      "3\n",
      "4\n",
      "list1: [range(2, 5), range(4, 7), range(6, 9)]\n",
      "[[2 3 4]\n",
      " [4 5 6]\n",
      " [6 7 8]]\n"
     ]
    },
    {
     "data": {
      "text/plain": [
       "array([[2, 3, 4],\n",
       "       [4, 5, 6],\n",
       "       [6, 7, 8]])"
      ]
     },
     "execution_count": null,
     "metadata": {},
     "output_type": "execute_result"
    }
   ],
   "source": [
    "# 嵌套列表构成多维数组\n",
    "for i in range(2, 5):\n",
    "    print(i)\n",
    "\n",
    "list1 = [range(i, i + 3) for i in [2, 4, 6]]\n",
    "c = np.array([range(i, i + 3) for i in [2, 4, 6]])\n",
    "print('list1:', list1)\n",
    "print(c)\n",
    "c"
   ]
  },
  {
   "cell_type": "markdown",
   "metadata": {
    "_id": "2D9D6745CE0240D582D548F2E3904FE3",
    "id": "8E17FC6B8C2E477E9B84F9AB322C13AE",
    "jupyter": {},
    "notebookId": "68fe0f4876735876897d962d",
    "runtime": {
     "execution_status": null,
     "is_visible": false,
     "status": "default"
    },
    "scrolled": false,
    "slideshow": {
     "slide_type": "slide"
    },
    "tags": []
   },
   "source": [
    "### 1.3 从头创建数组"
   ]
  },
  {
   "cell_type": "code",
   "execution_count": 6,
   "metadata": {
    "_id": "C1DD27E0A0E04FC593E3F812A8715AD8",
    "collapsed": false,
    "id": "098A4500CEFB4D7BACAFAEC0D8485CFD",
    "jupyter": {},
    "notebookId": "68fe0f4876735876897d962d",
    "scrolled": false,
    "slideshow": {
     "slide_type": "slide"
    },
    "tags": [],
    "trusted": true
   },
   "outputs": [
    {
     "data": {
      "text/plain": [
       "array([0, 0, 0, 0, 0, 0, 0, 0, 0, 0])"
      ]
     },
     "execution_count": null,
     "metadata": {},
     "output_type": "execute_result"
    }
   ],
   "source": [
    "# 用np.zeros创建一个长度为10，值都是整型0的数组\n",
    "np.zeros(10, dtype = int) "
   ]
  },
  {
   "cell_type": "code",
   "execution_count": 7,
   "metadata": {
    "_id": "1B921BF1456C405E9B83B79056DB6B4A",
    "collapsed": false,
    "id": "263400276AA84DD6868B72FA6DAAECCA",
    "jupyter": {},
    "notebookId": "68fe0f4876735876897d962d",
    "scrolled": false,
    "slideshow": {
     "slide_type": "slide"
    },
    "tags": [],
    "trusted": true
   },
   "outputs": [
    {
     "data": {
      "text/plain": [
       "array([[1., 1., 1., 1., 1.],\n",
       "       [1., 1., 1., 1., 1.],\n",
       "       [1., 1., 1., 1., 1.]])"
      ]
     },
     "execution_count": null,
     "metadata": {},
     "output_type": "execute_result"
    }
   ],
   "source": [
    "# 用np.ones创建一个3 X 5的浮点型数组，数组值均为1\n",
    "np.ones((3, 5))"
   ]
  },
  {
   "cell_type": "code",
   "execution_count": 8,
   "metadata": {
    "_id": "2B1182972F284F6FAC158805F4D5B6EC",
    "collapsed": false,
    "id": "1063B1DC533C43B6BA66D91E506467DC",
    "jupyter": {},
    "notebookId": "68fe0f4876735876897d962d",
    "scrolled": false,
    "slideshow": {
     "slide_type": "slide"
    },
    "tags": [],
    "trusted": true
   },
   "outputs": [
    {
     "data": {
      "text/plain": [
       "array([[3.14, 3.14, 3.14, 3.14, 3.14],\n",
       "       [3.14, 3.14, 3.14, 3.14, 3.14],\n",
       "       [3.14, 3.14, 3.14, 3.14, 3.14]])"
      ]
     },
     "execution_count": null,
     "metadata": {},
     "output_type": "execute_result"
    }
   ],
   "source": [
    "# 用np.full创建一个3 X 5的浮点型数组，数值指定都为3.14\n",
    "np.full((3, 5), 3.14)"
   ]
  },
  {
   "cell_type": "code",
   "execution_count": 9,
   "metadata": {
    "_id": "6CBE6B55A44C47F6B47C1A27A867A08E",
    "collapsed": false,
    "id": "DEA593D6688843ED837C1BDFCA422C8A",
    "jupyter": {},
    "notebookId": "68fe0f4876735876897d962d",
    "scrolled": false,
    "slideshow": {
     "slide_type": "slide"
    },
    "tags": [],
    "trusted": true
   },
   "outputs": [
    {
     "data": {
      "text/plain": [
       "array([ 0,  2,  4,  6,  8, 10, 12, 14, 16, 18])"
      ]
     },
     "execution_count": null,
     "metadata": {},
     "output_type": "execute_result"
    }
   ],
   "source": [
    "# 用np.arange创建一个线性序列数组，数组值从0开始到20结束（不包含20），步长为2，类似与range函数\n",
    "np.arange(0, 20, 2)"
   ]
  },
  {
   "cell_type": "code",
   "execution_count": 10,
   "metadata": {
    "_id": "EFC4ADB1802249479B0059384F751448",
    "collapsed": false,
    "id": "A3CE1DAB5DA54B91B93DE26EB0409100",
    "jupyter": {},
    "notebookId": "68fe0f4876735876897d962d",
    "scrolled": false,
    "slideshow": {
     "slide_type": "slide"
    },
    "tags": [],
    "trusted": true
   },
   "outputs": [
    {
     "name": "stdout",
     "output_type": "stream",
     "text": [
      "创建一个[0,1)之间的随机数 0.5974991185910679\n",
      "创建一个只包含[0,1)之间一个单一元素的数组 [0.77967273]\n",
      "创建一个[0,1)之间随机数组成的3X3的数组\n",
      " [[0.62173966 0.5198352  0.88671864]\n",
      " [0.44068979 0.78574256 0.91685339]\n",
      " [0.83226633 0.7347868  0.35478965]]\n",
      "创建一个[0,1)之间随机数组成的2X3X4的数组\n",
      " [[[0.77459235 0.20401587 0.80824111 0.84727744]\n",
      "  [0.34381787 0.50974295 0.61558896 0.56347879]\n",
      "  [0.93237687 0.25801577 0.55554927 0.18900176]]\n",
      "\n",
      " [[0.16779239 0.95854758 0.48642135 0.11438633]\n",
      "  [0.0451855  0.13237753 0.69394057 0.30354845]\n",
      "  [0.7151122  0.15922406 0.50727135 0.33972596]]]\n",
      "创建一个[5,7)之间随机浮点数组成的2X2的数组\n",
      " [[6.56730246 6.26825972]\n",
      " [5.83240168 6.70116249]]\n",
      "创建一个[5,7)之间随机整数组成的2X2的数组\n",
      " [[6 6]\n",
      " [5 5]]\n"
     ]
    }
   ],
   "source": [
    "a1 = np.random.random()\n",
    "print('创建一个[0,1)之间的随机数', a1)\n",
    "a2 = np.random.random(1)\n",
    "print('创建一个只包含[0,1)之间一个单一元素的数组', a2)\n",
    "a3 = np.random.random((3, 3))\n",
    "print('创建一个[0,1)之间随机数组成的3X3的数组\\n', a3)\n",
    "a4 = np.random.random((2, 3, 4))\n",
    "print('创建一个[0,1)之间随机数组成的2X3X4的数组\\n', a4)\n",
    "a5 = np.random.uniform(5, 7, (2, 2))\n",
    "print('创建一个[5,7)之间随机浮点数组成的2X2的数组\\n', a5)\n",
    "a6 = np.random.randint(5, 7, (2, 2))\n",
    "print('创建一个[5,7)之间随机整数组成的2X2的数组\\n', a6)"
   ]
  },
  {
   "cell_type": "code",
   "execution_count": 11,
   "metadata": {
    "_id": "9E15130DF5D440A6B08DDC055882EC8F",
    "collapsed": false,
    "id": "E92669224D7D4D5293A9658E69DB1005",
    "jupyter": {},
    "notebookId": "68fe0f4876735876897d962d",
    "scrolled": false,
    "slideshow": {
     "slide_type": "slide"
    },
    "tags": [],
    "trusted": true
   },
   "outputs": [
    {
     "data": {
      "text/plain": [
       "array([[ 0.12823003,  1.65641668,  0.17856066],\n",
       "       [ 2.37789988, -0.52478156,  1.52721981],\n",
       "       [ 0.28005241,  0.80136621,  1.03698512]])"
      ]
     },
     "execution_count": null,
     "metadata": {},
     "output_type": "execute_result"
    }
   ],
   "source": [
    "# 创建一个3 X 3的均值为0，标准差为1，符合正态分布的随机数数组 np.random.normal(均值，标准差，形状)-------正态分布概率密度函数\n",
    "np.random.normal(0, 1, (3, 3))"
   ]
  },
  {
   "cell_type": "code",
   "execution_count": 12,
   "metadata": {
    "_id": "0A44DFF6DCE54740A36EB80DBFE7C0D4",
    "collapsed": false,
    "id": "3F3ED6F247AB4AD4ACAC3584D86A9BA2",
    "jupyter": {},
    "notebookId": "68fe0f4876735876897d962d",
    "scrolled": false,
    "slideshow": {
     "slide_type": "slide"
    },
    "tags": [],
    "trusted": true
   },
   "outputs": [
    {
     "data": {
      "text/plain": [
       "array([[ 0.04415228,  0.16453781,  0.95296253],\n",
       "       [-0.17898501, -0.06573114, -0.15629564],\n",
       "       [ 0.49679792, -1.5812425 ,  0.50019388]])"
      ]
     },
     "execution_count": null,
     "metadata": {},
     "output_type": "execute_result"
    }
   ],
   "source": [
    "# 创建一个3 X 3的数组，包含标准正态分布的随机数\n",
    "np.random.randn(3, 3)"
   ]
  },
  {
   "cell_type": "code",
   "execution_count": 13,
   "metadata": {
    "_id": "66D42BC69D104F76A386B12BB58EC56F",
    "collapsed": false,
    "id": "B2FBFC7CD26844439762C436D17489D5",
    "jupyter": {},
    "notebookId": "68fe0f4876735876897d962d",
    "scrolled": false,
    "slideshow": {
     "slide_type": "slide"
    },
    "tags": [],
    "trusted": true
   },
   "outputs": [
    {
     "data": {
      "text/plain": [
       "array([[1., 0., 0.],\n",
       "       [0., 1., 0.],\n",
       "       [0., 0., 1.]])"
      ]
     },
     "execution_count": null,
     "metadata": {},
     "output_type": "execute_result"
    }
   ],
   "source": [
    "# 创建一个3X3的单位矩阵\n",
    "np.eye(3)"
   ]
  },
  {
   "cell_type": "code",
   "execution_count": 14,
   "metadata": {
    "_id": "7276717070E4471AB7C97C3C976C8160",
    "collapsed": false,
    "id": "E18E4763A18C4E4EAC6CB971EC8D349E",
    "jupyter": {},
    "notebookId": "68fe0f4876735876897d962d",
    "scrolled": false,
    "slideshow": {
     "slide_type": "slide"
    },
    "tags": [],
    "trusted": true
   },
   "outputs": [
    {
     "data": {
      "text/plain": [
       "array([1., 1., 1.])"
      ]
     },
     "execution_count": null,
     "metadata": {},
     "output_type": "execute_result"
    }
   ],
   "source": [
    "# 创建一个由3个整型数组成的未初始化的数组，数组的值是空间中的任意值\n",
    "np.empty(3)"
   ]
  },
  {
   "cell_type": "markdown",
   "metadata": {
    "_id": "D9747D153D4B47A79E03F76FD3BB8F8C",
    "id": "1764EB165DA849C88CC7DE414B170458",
    "jupyter": {},
    "notebookId": "68fe0f4876735876897d962d",
    "runtime": {
     "execution_status": null,
     "is_visible": false,
     "status": "default"
    },
    "scrolled": false,
    "slideshow": {
     "slide_type": "slide"
    },
    "tags": []
   },
   "source": [
    "## 2. 数组基础"
   ]
  },
  {
   "cell_type": "markdown",
   "metadata": {
    "_id": "45AE94DCD095410499A7BEB4B2823B44",
    "id": "4A00506142EA4FD1BC5B9B15B90A3D77",
    "jupyter": {},
    "notebookId": "68fe0f4876735876897d962d",
    "runtime": {
     "execution_status": null,
     "is_visible": false,
     "status": "default"
    },
    "scrolled": false,
    "slideshow": {
     "slide_type": "slide"
    },
    "tags": []
   },
   "source": [
    "### 2.1 数组属性"
   ]
  },
  {
   "cell_type": "code",
   "execution_count": 15,
   "metadata": {
    "_id": "524353DBE5A44265805E3CBF8CEEC00C",
    "collapsed": false,
    "id": "F117EC2A28414DF18159BE7068190B6D",
    "jupyter": {},
    "notebookId": "68fe0f4876735876897d962d",
    "scrolled": false,
    "slideshow": {
     "slide_type": "slide"
    },
    "tags": [],
    "trusted": true
   },
   "outputs": [],
   "source": [
    "# 设置随机数生成种子，确保每次程序执行都生成同样的随机数组\n",
    "np.random.seed(0)"
   ]
  },
  {
   "cell_type": "code",
   "execution_count": 16,
   "metadata": {
    "_id": "60D2B8D17AB04C4292DCCF5CC06FBB5D",
    "collapsed": false,
    "id": "71254F0950AA4919926E4C5003F34663",
    "jupyter": {},
    "notebookId": "68fe0f4876735876897d962d",
    "scrolled": false,
    "slideshow": {
     "slide_type": "slide"
    },
    "tags": [],
    "trusted": true
   },
   "outputs": [],
   "source": [
    "x1 = np.random.randint(10, size = 6)\n",
    "x2 = np.random.randint(10, size = (3, 4))\n",
    "x3 = np.random.randint(10, size = (3, 4, 5)) #3层4行5列"
   ]
  },
  {
   "cell_type": "code",
   "execution_count": 17,
   "metadata": {
    "_id": "69F1667E0F5443DBA50FB9E30657BC22",
    "collapsed": false,
    "id": "3907D43E60284BF28263A01861AE9347",
    "jupyter": {},
    "notebookId": "68fe0f4876735876897d962d",
    "scrolled": false,
    "slideshow": {
     "slide_type": "slide"
    },
    "tags": [],
    "trusted": true
   },
   "outputs": [
    {
     "data": {
      "text/plain": [
       "array([5, 0, 3, 3, 7, 9])"
      ]
     },
     "execution_count": null,
     "metadata": {},
     "output_type": "execute_result"
    }
   ],
   "source": [
    "x1"
   ]
  },
  {
   "cell_type": "code",
   "execution_count": 18,
   "metadata": {
    "_id": "8A83E8D671E54B4CA5E32E7F291BC166",
    "collapsed": false,
    "id": "B7246778059B4F3EAADA23831F6A789B",
    "jupyter": {},
    "notebookId": "68fe0f4876735876897d962d",
    "scrolled": false,
    "slideshow": {
     "slide_type": "slide"
    },
    "tags": [],
    "trusted": true
   },
   "outputs": [
    {
     "data": {
      "text/plain": [
       "array([[3, 5, 2, 4],\n",
       "       [7, 6, 8, 8],\n",
       "       [1, 6, 7, 7]])"
      ]
     },
     "execution_count": null,
     "metadata": {},
     "output_type": "execute_result"
    }
   ],
   "source": [
    "x2"
   ]
  },
  {
   "cell_type": "code",
   "execution_count": 19,
   "metadata": {
    "_id": "3D953284CD6240D89FE57D78E9596AF1",
    "collapsed": false,
    "id": "B25CACA088C54CEF8143FFB37A30CAB2",
    "jupyter": {},
    "notebookId": "68fe0f4876735876897d962d",
    "scrolled": false,
    "slideshow": {
     "slide_type": "slide"
    },
    "tags": [],
    "trusted": true
   },
   "outputs": [
    {
     "data": {
      "text/plain": [
       "array([[[8, 1, 5, 9, 8],\n",
       "        [9, 4, 3, 0, 3],\n",
       "        [5, 0, 2, 3, 8],\n",
       "        [1, 3, 3, 3, 7]],\n",
       "\n",
       "       [[0, 1, 9, 9, 0],\n",
       "        [4, 7, 3, 2, 7],\n",
       "        [2, 0, 0, 4, 5],\n",
       "        [5, 6, 8, 4, 1]],\n",
       "\n",
       "       [[4, 9, 8, 1, 1],\n",
       "        [7, 9, 9, 3, 6],\n",
       "        [7, 2, 0, 3, 5],\n",
       "        [9, 4, 4, 6, 4]]])"
      ]
     },
     "execution_count": null,
     "metadata": {},
     "output_type": "execute_result"
    }
   ],
   "source": [
    "x3"
   ]
  },
  {
   "cell_type": "code",
   "execution_count": 20,
   "metadata": {
    "_id": "CBC1CBB42ADE4937A2577D791C5EAAB9",
    "collapsed": false,
    "id": "0693DE37CD34483A90F858770D3ECCAD",
    "jupyter": {},
    "notebookId": "68fe0f4876735876897d962d",
    "scrolled": false,
    "slideshow": {
     "slide_type": "slide"
    },
    "tags": [],
    "trusted": true
   },
   "outputs": [
    {
     "name": "stdout",
     "output_type": "stream",
     "text": [
      "x3 ndim:  3\n",
      "x3.shape: (3, 4, 5)\n",
      "x3.size:  60\n",
      "x3.dtype:  int64\n",
      "x3.itemsize:  8 bytes\n",
      "x3.nbytes:  480 bytes\n"
     ]
    }
   ],
   "source": [
    "print('x3 ndim: ', x3.ndim) # 数组维度或秩\n",
    "print('x3.shape:', x3.shape) # 数组形状，每个维度的大小\n",
    "print('x3.size: ', x3.size) # 数组总大小 各维度大小的乘积\n",
    "print('x3.dtype: ', x3.dtype) # 数组数据类型\n",
    "print('x3.itemsize: ', x3.itemsize, 'bytes') # 每个数组元素字节大小\n",
    "print('x3.nbytes: ', x3.nbytes, 'bytes') # 数组总字节大小  一般nbytes = intemsize * shape"
   ]
  },
  {
   "cell_type": "markdown",
   "metadata": {
    "_id": "BB72758F9D124950A636876AEB3AF6B4",
    "id": "9E19C4B212B948348708FBE9721E10EE",
    "jupyter": {},
    "notebookId": "68fe0f4876735876897d962d",
    "runtime": {
     "execution_status": null,
     "is_visible": false,
     "status": "default"
    },
    "scrolled": false,
    "slideshow": {
     "slide_type": "slide"
    },
    "tags": []
   },
   "source": [
    "### 2.2 数组索引"
   ]
  },
  {
   "cell_type": "code",
   "execution_count": 21,
   "metadata": {
    "_id": "761C1B092F6045469AFD2E98800B6D1D",
    "collapsed": false,
    "id": "D9C154AD4BB3489CADDB72F256A13243",
    "jupyter": {},
    "notebookId": "68fe0f4876735876897d962d",
    "scrolled": false,
    "slideshow": {
     "slide_type": "slide"
    },
    "tags": [],
    "trusted": true
   },
   "outputs": [
    {
     "data": {
      "text/plain": [
       "array([5, 0, 3, 3, 7, 9])"
      ]
     },
     "execution_count": null,
     "metadata": {},
     "output_type": "execute_result"
    }
   ],
   "source": [
    "x1 "
   ]
  },
  {
   "cell_type": "code",
   "execution_count": 22,
   "metadata": {
    "_id": "560F0688C1AD4FB8AAAE9C327AF6AA11",
    "collapsed": false,
    "id": "7F21DC36D0A3491D95AD39050932D3AC",
    "jupyter": {},
    "notebookId": "68fe0f4876735876897d962d",
    "scrolled": false,
    "slideshow": {
     "slide_type": "slide"
    },
    "tags": [],
    "trusted": true
   },
   "outputs": [
    {
     "name": "stdout",
     "output_type": "stream",
     "text": [
      "5\n",
      "9\n"
     ]
    }
   ],
   "source": [
    "print(x1[0])\n",
    "# 用负值获取数组末尾索引\n",
    "print(x1[-1])"
   ]
  },
  {
   "cell_type": "code",
   "execution_count": 23,
   "metadata": {
    "_id": "C71309F03AEB4C83AE1C34312793D61F",
    "collapsed": false,
    "id": "B7DE71B375B846809761568A691E52E9",
    "jupyter": {},
    "notebookId": "68fe0f4876735876897d962d",
    "scrolled": false,
    "slideshow": {
     "slide_type": "slide"
    },
    "tags": [],
    "trusted": true
   },
   "outputs": [
    {
     "data": {
      "text/plain": [
       "array([[[8, 1, 5, 9, 8],\n",
       "        [9, 4, 3, 0, 3],\n",
       "        [5, 0, 2, 3, 8],\n",
       "        [1, 3, 3, 3, 7]],\n",
       "\n",
       "       [[0, 1, 9, 9, 0],\n",
       "        [4, 7, 3, 2, 7],\n",
       "        [2, 0, 0, 4, 5],\n",
       "        [5, 6, 8, 4, 1]],\n",
       "\n",
       "       [[4, 9, 8, 1, 1],\n",
       "        [7, 9, 9, 3, 6],\n",
       "        [7, 2, 0, 3, 5],\n",
       "        [9, 4, 4, 6, 4]]])"
      ]
     },
     "execution_count": null,
     "metadata": {},
     "output_type": "execute_result"
    }
   ],
   "source": [
    "x3"
   ]
  },
  {
   "cell_type": "code",
   "execution_count": 24,
   "metadata": {
    "_id": "3AF81287F30E487AB12A13534D8EC2C7",
    "collapsed": false,
    "id": "A50674788B574B15A4C5F2C81F72F73A",
    "jupyter": {},
    "notebookId": "68fe0f4876735876897d962d",
    "scrolled": false,
    "slideshow": {
     "slide_type": "slide"
    },
    "tags": [],
    "trusted": true
   },
   "outputs": [
    {
     "data": {
      "text/plain": [
       "7"
      ]
     },
     "execution_count": null,
     "metadata": {},
     "output_type": "execute_result"
    }
   ],
   "source": [
    "x3[2][2][0] # 取第3层第3行第1列的数"
   ]
  },
  {
   "cell_type": "code",
   "execution_count": 25,
   "metadata": {
    "_id": "40E46CF8EE274C0B8890A4255ECD1442",
    "collapsed": false,
    "id": "AD13C2B878AB4DE8831A31630252996E",
    "jupyter": {},
    "notebookId": "68fe0f4876735876897d962d",
    "scrolled": false,
    "slideshow": {
     "slide_type": "slide"
    },
    "tags": [],
    "trusted": true
   },
   "outputs": [
    {
     "name": "stdout",
     "output_type": "stream",
     "text": [
      "[[[ 8  1  5  9  8]\n",
      "  [ 9  4  3  0  3]\n",
      "  [ 5  0  2  3  8]\n",
      "  [ 1  3  3  3  7]]\n",
      "\n",
      " [[ 0  1  9  9  0]\n",
      "  [ 4  7  3  2  7]\n",
      "  [ 2  0  0  4  5]\n",
      "  [ 5  6  8  4  1]]\n",
      "\n",
      " [[ 4  9  8  1  1]\n",
      "  [ 7  9  9  3  6]\n",
      "  [10  2  0  3  5]\n",
      "  [ 9  4  4  6  4]]]\n"
     ]
    },
    {
     "data": {
      "text/plain": [
       "array([[[8, 1, 5, 9, 8],\n",
       "        [9, 4, 3, 0, 3],\n",
       "        [5, 0, 2, 3, 8],\n",
       "        [1, 3, 3, 3, 7]],\n",
       "\n",
       "       [[0, 1, 9, 9, 0],\n",
       "        [4, 7, 3, 2, 7],\n",
       "        [2, 0, 0, 4, 5],\n",
       "        [5, 6, 8, 4, 1]],\n",
       "\n",
       "       [[4, 9, 8, 1, 1],\n",
       "        [7, 9, 9, 3, 6],\n",
       "        [3, 2, 0, 3, 5],\n",
       "        [9, 4, 4, 6, 4]]])"
      ]
     },
     "execution_count": null,
     "metadata": {},
     "output_type": "execute_result"
    }
   ],
   "source": [
    "# 利用索引修改数组的元素值,浮点数插入整型数组时会自动截短\n",
    "x3[2][2][0] = 10\n",
    "print(x3)\n",
    "x3[2][2][0] = 3.1415\n",
    "x3"
   ]
  },
  {
   "cell_type": "markdown",
   "metadata": {
    "_id": "5511224279B04FE8984561348EC6E0DC",
    "id": "B3FC43BAEBDD4E7E98EBBD2D856678C2",
    "jupyter": {},
    "notebookId": "68fe0f4876735876897d962d",
    "runtime": {
     "execution_status": null,
     "is_visible": false,
     "status": "default"
    },
    "scrolled": false,
    "slideshow": {
     "slide_type": "slide"
    },
    "tags": []
   },
   "source": [
    "### 2.3 数组切片"
   ]
  },
  {
   "cell_type": "markdown",
   "metadata": {
    "_id": "38C4B91B580D40B19CA5D94900358E07",
    "id": "E174A722516B4398A8BF6207005F2DEC",
    "jupyter": {},
    "notebookId": "68fe0f4876735876897d962d",
    "runtime": {
     "execution_status": null,
     "is_visible": false,
     "status": "default"
    },
    "scrolled": false,
    "slideshow": {
     "slide_type": "slide"
    },
    "tags": []
   },
   "source": [
    "Numpy切片语法同列表，x[start:stop:step],默认start=0, step=1, 索引从0开始左边包含，右边不包含。"
   ]
  },
  {
   "cell_type": "code",
   "execution_count": 26,
   "metadata": {
    "_id": "F074DD8F40D5412B8E8F20C89BB51C1E",
    "collapsed": false,
    "id": "0F5AEDD8647449149DCAED72AFD399AB",
    "jupyter": {},
    "notebookId": "68fe0f4876735876897d962d",
    "scrolled": false,
    "slideshow": {
     "slide_type": "slide"
    },
    "tags": [],
    "trusted": true
   },
   "outputs": [
    {
     "name": "stdout",
     "output_type": "stream",
     "text": [
      "[0 1 2 3 4 5 6 7 8 9]\n",
      "x[:5] [0 1 2 3 4]\n",
      "x[5:] [5 6 7 8 9]\n",
      "x[4:7] [4 5 6]\n",
      "每隔一个元素x[::2] [0 2 4 6 8]\n",
      "从索引1开始每隔一个元素x[1::2] [1 3 5 7 9]\n",
      "所有元素逆序x[::-1] [9 8 7 6 5 4 3 2 1 0]\n",
      "索引5开始逆序每隔一个元素x[5::-2] [5 3 1]\n"
     ]
    }
   ],
   "source": [
    "# 一维数组切片\n",
    "x = np.arange(10)\n",
    "print(x)\n",
    "print('x[:5]', x[:5])\n",
    "print('x[5:]', x[5:])\n",
    "print('x[4:7]', x[4:7])\n",
    "print('每隔一个元素x[::2]', x[::2])\n",
    "print('从索引1开始每隔一个元素x[1::2]', x[1::2])\n",
    "# 步长为负逆序排列\n",
    "print('所有元素逆序x[::-1]', x[::-1])\n",
    "print('索引5开始逆序每隔一个元素x[5::-2]', x[5::-2])"
   ]
  },
  {
   "cell_type": "code",
   "execution_count": 27,
   "metadata": {
    "_id": "6F4FCCCFAA304FA88A57089AAF631D1A",
    "collapsed": false,
    "id": "8F5ED45A256647F882738812F89242C8",
    "jupyter": {},
    "notebookId": "68fe0f4876735876897d962d",
    "scrolled": false,
    "slideshow": {
     "slide_type": "slide"
    },
    "tags": [],
    "trusted": true
   },
   "outputs": [
    {
     "name": "stdout",
     "output_type": "stream",
     "text": [
      "[[3 5 2 4]\n",
      " [7 6 8 8]\n",
      " [1 6 7 7]]\n",
      "取前2行前3列x2[:2, :3]\n",
      " [[3 5 2]\n",
      " [7 6 8]]\n",
      "取前3行前1列x2[:3, :1]\n",
      " [[3]\n",
      " [7]\n",
      " [1]]\n",
      "所有行每隔1列x2[:3, ::2]\n",
      " [[3 2]\n",
      " [7 8]\n",
      " [1 7]]\n",
      "逆序x2[::-1, ::-1]\n",
      " [[7 7 6 1]\n",
      " [8 8 6 7]\n",
      " [4 2 5 3]]\n",
      ":表示空切片x2[:, 0] [3 7 1]\n",
      "获取单行时列空切片省略x2[1]=x2[1, :] [7 6 8 8]\n"
     ]
    }
   ],
   "source": [
    "# 多维数组切片\n",
    "print(x2)\n",
    "print('取前2行前3列x2[:2, :3]\\n', x2[:2, :3])\n",
    "print('取前3行前1列x2[:3, :1]\\n', x2[:3, :1])\n",
    "print('所有行每隔1列x2[:3, ::2]\\n',x2[:3, ::2] )\n",
    "print('逆序x2[::-1, ::-1]\\n', x2[::-1, ::-1])\n",
    "# 获取单行单列简洁语法\n",
    "print(':表示空切片x2[:, 0]', x2[:, 0])\n",
    "print('获取单行时列空切片省略x2[1]=x2[1, :]', x2[1])"
   ]
  },
  {
   "cell_type": "code",
   "execution_count": 28,
   "metadata": {
    "_id": "B9B80B5C5F1C4454904E1E8EC666FBE4",
    "collapsed": false,
    "id": "2FACADF5E91449F3B98C753FA84DF3CE",
    "jupyter": {},
    "notebookId": "68fe0f4876735876897d962d",
    "scrolled": false,
    "slideshow": {
     "slide_type": "slide"
    },
    "tags": [],
    "trusted": true
   },
   "outputs": [
    {
     "name": "stdout",
     "output_type": "stream",
     "text": [
      "x2\n",
      " [[3 5 2 4]\n",
      " [7 6 8 8]\n",
      " [1 6 7 7]]\n",
      "子数组x2_sub\n",
      " [[3 5]\n",
      " [7 6]]\n",
      "子数组x2_sub\n",
      " [[9 9]\n",
      " [7 6]]\n",
      "修改了子数组后的x2\n",
      " [[9 9 2 4]\n",
      " [7 6 8 8]\n",
      " [1 6 7 7]]\n",
      "子数组x2_sub_copy\n",
      " [[1 1]\n",
      " [7 6]]\n",
      "修改了子数组副本的x2\n",
      " [[9 9 2 4]\n",
      " [7 6 8 8]\n",
      " [1 6 7 7]]\n"
     ]
    }
   ],
   "source": [
    "# 数组切片返回的是原数组的视图而不是副本，因此修改数组切片得到的子数组会同时修改原数组的元素值\n",
    "# 通过copy()函数复制数组,修改复制后的子数组，原数组不会变\n",
    "print('x2\\n', x2)\n",
    "x2_sub = x2[:2, :2]\n",
    "x2_sub_copy = x2[:2, :2].copy()\n",
    "print('子数组x2_sub\\n', x2_sub)\n",
    "x2_sub[0,:] = 9\n",
    "print('子数组x2_sub\\n', x2_sub)\n",
    "print('修改了子数组后的x2\\n', x2)\n",
    "x2_sub_copy[0,:] = 1\n",
    "print('子数组x2_sub_copy\\n', x2_sub_copy)\n",
    "print('修改了子数组副本的x2\\n', x2)"
   ]
  },
  {
   "cell_type": "markdown",
   "metadata": {
    "_id": "4D9F14B5071B453D9C8828D9EDD1F60B",
    "id": "971F06F04C404D80A60223555154FC79",
    "jupyter": {},
    "notebookId": "68fe0f4876735876897d962d",
    "runtime": {
     "execution_status": null,
     "is_visible": false,
     "status": "default"
    },
    "scrolled": false,
    "slideshow": {
     "slide_type": "slide"
    },
    "tags": []
   },
   "source": [
    "### 2.4 数组变形"
   ]
  },
  {
   "cell_type": "code",
   "execution_count": 29,
   "metadata": {
    "_id": "96239FBE7E7C4256B3A02B062ADC99D9",
    "collapsed": false,
    "id": "7C12CB29993A459B97D9E0A3F3EE787F",
    "jupyter": {},
    "notebookId": "68fe0f4876735876897d962d",
    "scrolled": false,
    "slideshow": {
     "slide_type": "slide"
    },
    "tags": [],
    "trusted": true
   },
   "outputs": [
    {
     "name": "stdout",
     "output_type": "stream",
     "text": [
      "[1 2 3 4 5 6 7 8 9]\n",
      "[[1 2 3]\n",
      " [4 5 6]\n",
      " [7 8 9]]\n"
     ]
    }
   ],
   "source": [
    "# 将数字1-9放入一个3X3的矩阵，前提是两个数组的大小相同\n",
    "grid = np.arange(1, 10)\n",
    "print(grid)\n",
    "grid_reshape = np.arange(1, 10).reshape(3, 3)\n",
    "print(grid_reshape)"
   ]
  },
  {
   "cell_type": "code",
   "execution_count": 30,
   "metadata": {
    "_id": "A9CE02BC8B20459099542E9463F20149",
    "collapsed": false,
    "id": "FEAC95BE9A824A5997AFFA0BB85F4239",
    "jupyter": {},
    "notebookId": "68fe0f4876735876897d962d",
    "scrolled": false,
    "slideshow": {
     "slide_type": "slide"
    },
    "tags": [],
    "trusted": true
   },
   "outputs": [
    {
     "name": "stdout",
     "output_type": "stream",
     "text": [
      "[[1 2 3]]\n",
      "[[1 2 3]]\n",
      "[[1]\n",
      " [2]\n",
      " [3]]\n",
      "[[1]\n",
      " [2]\n",
      " [3]]\n"
     ]
    }
   ],
   "source": [
    "x = np.array([1, 2, 3])\n",
    "# 利用 reshape 或 np.newaxis切片 将一维数组变为二维单行数组\n",
    "print(x.reshape(1, 3))\n",
    "print(x[np.newaxis, :])\n",
    "# 利用 reshape 或 np.newaxis切片 将一维数组变为二维单列数组\n",
    "print(x.reshape(3, 1))\n",
    "print(x[:, np.newaxis])"
   ]
  },
  {
   "cell_type": "markdown",
   "metadata": {
    "_id": "0563BB76E9ED420B98E90EFC7C5D7B9B",
    "id": "AC0BFBE4566544C19014F284D6563390",
    "jupyter": {},
    "notebookId": "68fe0f4876735876897d962d",
    "runtime": {
     "execution_status": null,
     "is_visible": false,
     "status": "default"
    },
    "scrolled": false,
    "slideshow": {
     "slide_type": "slide"
    },
    "tags": []
   },
   "source": [
    "### 2.5 数组的拼接和分裂"
   ]
  },
  {
   "cell_type": "code",
   "execution_count": 31,
   "metadata": {
    "_id": "F09E04315C834E26AA70E377529F1554",
    "collapsed": false,
    "id": "B9E16D5588EF4519B9381AE50AAB695E",
    "jupyter": {},
    "notebookId": "68fe0f4876735876897d962d",
    "scrolled": false,
    "slideshow": {
     "slide_type": "slide"
    },
    "tags": [],
    "trusted": true
   },
   "outputs": [
    {
     "name": "stdout",
     "output_type": "stream",
     "text": [
      "[ 1  2  3  3  2  1 99 99 99]\n",
      "[[1 2 3]\n",
      " [4 5 6]\n",
      " [1 2 3]\n",
      " [4 5 6]]\n",
      "[[1 2 3 1 2 3]\n",
      " [4 5 6 4 5 6]]\n",
      "np.vstack垂直栈同axis=0\n",
      " [[ 1  2  3]\n",
      " [ 3  2  1]\n",
      " [99 99 99]\n",
      " [ 1  2  3]\n",
      " [ 4  5  6]]\n",
      "np.hstack水平栈同axis=1\n",
      " [[1 2 3 1 2 3]\n",
      " [4 5 6 4 5 6]]\n"
     ]
    }
   ],
   "source": [
    "# 一维数组的拼接\n",
    "x = np.array([1, 2, 3])\n",
    "y = np.array([3, 2, 1])\n",
    "z = np.array([99, 99, 99])\n",
    "print(np.concatenate([x, y, z]))\n",
    "# 二维数组的拼接, np.concatennate([x, y], axis默认是0沿着行方向对每列操作，1是沿着列方向对每行操作)要求维度相同\n",
    "grid = np.array([[1, 2, 3],\n",
    "                 [4, 5, 6]])\n",
    "print(np.concatenate([grid, grid]))\n",
    "print(np.concatenate([grid, grid], axis = 1))\n",
    "print('np.vstack垂直栈同axis=0\\n', np.vstack([x, y, z, grid]))\n",
    "print('np.hstack水平栈同axis=1\\n', np.hstack([grid, grid]))\n",
    "# np.dstack沿第三个方向拼接数组"
   ]
  },
  {
   "cell_type": "code",
   "execution_count": 32,
   "metadata": {
    "_id": "16BCBE1936C84B0C99DB14F23DAD1B0C",
    "collapsed": false,
    "id": "065943FFBF3F40D1A08B0062F482673D",
    "jupyter": {},
    "notebookId": "68fe0f4876735876897d962d",
    "scrolled": false,
    "slideshow": {
     "slide_type": "slide"
    },
    "tags": [],
    "trusted": true
   },
   "outputs": [
    {
     "name": "stdout",
     "output_type": "stream",
     "text": [
      "[0 1 2] [3 4] [5 6 7 8]\n",
      "沿行方向平均分裂成3个数组\n",
      " [array([[1, 2, 3]]), array([[4, 5, 6]]), array([[7, 8, 9]])]\n",
      "沿列方向平均分裂成3个数组\n",
      " [array([[1],\n",
      "       [4],\n",
      "       [7]]), array([[2],\n",
      "       [5],\n",
      "       [8]]), array([[3],\n",
      "       [6],\n",
      "       [9]])]\n",
      "[[ 0  1  2  3]\n",
      " [ 4  5  6  7]\n",
      " [ 8  9 10 11]\n",
      " [12 13 14 15]]\n",
      "[[0 1 2 3]\n",
      " [4 5 6 7]]\n",
      "[[ 8  9 10 11]\n",
      " [12 13 14 15]]\n",
      "[[ 0]\n",
      " [ 4]\n",
      " [ 8]\n",
      " [12]]\n",
      "[[ 1  2  3]\n",
      " [ 5  6  7]\n",
      " [ 9 10 11]\n",
      " [13 14 15]]\n"
     ]
    }
   ],
   "source": [
    "x = [0, 1, 2, 3, 4, 5, 6, 7, 8]\n",
    "x1, x2, x3 = np.split(x, [3, 5]) # np.split(x, [索引列表记录断点位置])，N个分裂点得到N+1个数组\n",
    "print(x1, x2, x3)\n",
    "y = np.array([[1, 2, 3],\n",
    "              [4, 5, 6],\n",
    "              [7, 8, 9]])\n",
    "print('沿行方向平均分裂成3个数组\\n', np.split(y, 3))\n",
    "print('沿列方向平均分裂成3个数组\\n', np.split(y, 3, axis = 1))\n",
    "# print('沿行方向平均分裂成3个数组\\n', np.split(y, [1, 2]))---------------待解释\n",
    "grid = np.arange(16).reshape(4, 4)\n",
    "print(grid)\n",
    "upper, lower = np.vsplit(grid, [2])\n",
    "print(upper)\n",
    "print(lower)\n",
    "left, right = np.hsplit(grid, [1])\n",
    "print(left)\n",
    "print(right)"
   ]
  },
  {
   "cell_type": "markdown",
   "metadata": {
    "_id": "AB2273BC0C9D40E59F4F081EE0CC3C22",
    "id": "F63FCA209BB042869153333ADF42D837",
    "jupyter": {},
    "notebookId": "68fe0f4876735876897d962d",
    "runtime": {
     "execution_status": null,
     "is_visible": false,
     "status": "default"
    },
    "scrolled": false,
    "slideshow": {
     "slide_type": "slide"
    },
    "tags": []
   },
   "source": [
    "## 3. Numpy数组的计算：通用函数"
   ]
  },
  {
   "cell_type": "markdown",
   "metadata": {
    "_id": "8200ED65E25D427495DEB5AC6CDB3110",
    "id": "12B54E709ED5490E862E50D625CB1AB6",
    "jupyter": {},
    "notebookId": "68fe0f4876735876897d962d",
    "runtime": {
     "execution_status": null,
     "is_visible": false,
     "status": "default"
    },
    "scrolled": false,
    "slideshow": {
     "slide_type": "slide"
    },
    "tags": []
   },
   "source": [
    "一元通用函数对单个输入操作，二元通用函数对两个输入操作"
   ]
  },
  {
   "cell_type": "markdown",
   "metadata": {
    "_id": "2DB1BB86EC724954992BD1D16A48C1F5",
    "id": "F2A3D2FEBB354519A42EEF6212420B05",
    "jupyter": {},
    "notebookId": "68fe0f4876735876897d962d",
    "runtime": {
     "execution_status": null,
     "is_visible": false,
     "status": "default"
    },
    "scrolled": false,
    "slideshow": {
     "slide_type": "slide"
    },
    "tags": []
   },
   "source": [
    "### 3.1 常用通用函数"
   ]
  },
  {
   "cell_type": "markdown",
   "metadata": {
    "_id": "90C61FCA4068477686FCF5B42C9DDA89",
    "id": "817560DDA0B042A58C0FFE9E4663388F",
    "jupyter": {},
    "notebookId": "68fe0f4876735876897d962d",
    "runtime": {
     "execution_status": null,
     "is_visible": false,
     "status": "default"
    },
    "scrolled": false,
    "slideshow": {
     "slide_type": "slide"
    },
    "tags": []
   },
   "source": [
    "数组的运算"
   ]
  },
  {
   "cell_type": "code",
   "execution_count": 33,
   "metadata": {
    "_id": "96BD2057236B40D39A09D0706BC246D8",
    "collapsed": false,
    "id": "80B5A5C8C6B94D96A307CABE49034088",
    "jupyter": {},
    "notebookId": "68fe0f4876735876897d962d",
    "scrolled": false,
    "slideshow": {
     "slide_type": "slide"
    },
    "tags": [],
    "trusted": true
   },
   "outputs": [
    {
     "name": "stdout",
     "output_type": "stream",
     "text": [
      "x    =  [0 1 2 3]\n",
      "x + 5 = [5 6 7 8] [5 6 7 8]\n",
      "x - 5 = [-5 -4 -3 -2] [-5 -4 -3 -2]\n",
      "x * 2 = [0 2 4 6] [0 2 4 6]\n",
      "x / 2 = [0.  0.5 1.  1.5] [0.  0.5 1.  1.5]\n",
      "x // 2 = [0 0 1 1] [0 0 1 1]\n",
      "x % 2 = [0 1 0 1] [0 1 0 1]\n",
      "x ** 2 = [0 1 4 9] [0 1 4 9]\n",
      "-x     = [ 0 -1 -2 -3] [ 0 -1 -2 -3]\n",
      "-(0.5*x + 1) ** 2 =  [-1.   -2.25 -4.   -6.25]\n"
     ]
    }
   ],
   "source": [
    "x = np.arange(4)\n",
    "print('x    = ', x)\n",
    "print('x + 5 =', x + 5, np.add(x, 5))\n",
    "print('x - 5 =', x - 5, np.subtract(x, 5))\n",
    "print('x * 2 =', x * 2, np.multiply(x, 2))\n",
    "print('x / 2 =', x / 2, np.divide(x, 2))\n",
    "print('x // 2 =', x // 2, np.floor_divide(x, 2)) # 取商\n",
    "print('x % 2 =', x % 2, np.mod(x, 2)) # 取余\n",
    "print('x ** 2 =', x ** 2, np.power(x, 2))\n",
    "print('-x     =', -x, np.negative(x))\n",
    "print('-(0.5*x + 1) ** 2 = ', -(0.5*x + 1) ** 2)"
   ]
  },
  {
   "cell_type": "markdown",
   "metadata": {
    "_id": "74D301E7055C41DD8E9C1E1BDA185E6B",
    "id": "E4657C70EF77422086AD68C9B0A102F6",
    "jupyter": {},
    "notebookId": "68fe0f4876735876897d962d",
    "runtime": {
     "execution_status": null,
     "is_visible": false,
     "status": "default"
    },
    "scrolled": false,
    "slideshow": {
     "slide_type": "slide"
    },
    "tags": []
   },
   "source": [
    "绝对值"
   ]
  },
  {
   "cell_type": "code",
   "execution_count": 34,
   "metadata": {
    "_id": "1BB63416EE9849EEA21700D2AC502C8A",
    "collapsed": false,
    "id": "BF7BA89E700448E1A1FDB994C6914845",
    "jupyter": {},
    "notebookId": "68fe0f4876735876897d962d",
    "scrolled": false,
    "slideshow": {
     "slide_type": "slide"
    },
    "tags": [],
    "trusted": true
   },
   "outputs": [
    {
     "name": "stdout",
     "output_type": "stream",
     "text": [
      "[2 1 0 1 2]\n",
      "[2 1 0 1 2]\n",
      "[2 1 0 1 2]\n",
      "[3.-4.j 4.-3.j 2.+0.j 0.+1.j]\n",
      "[5. 5. 2. 1.]\n"
     ]
    }
   ],
   "source": [
    "x = np.array([-2, -1, 0, 1, 2])\n",
    "print(abs(x))\n",
    "print(np.abs(x))\n",
    "print(np.absolute(x))\n",
    "# 复数的绝对值返回该复数的模，即实部和虚部平方和的平方根\n",
    "y = np.array([3 - 4j, 4 - 3j, 2 + 0j, 0 + 1j])\n",
    "print(y)\n",
    "print(abs(y))"
   ]
  },
  {
   "cell_type": "markdown",
   "metadata": {
    "_id": "E06534E275C0421F8C84C2318A0F460B",
    "id": "29A8C0582DB842D49A4A3CE176CC962A",
    "jupyter": {},
    "notebookId": "68fe0f4876735876897d962d",
    "runtime": {
     "execution_status": null,
     "is_visible": false,
     "status": "default"
    },
    "scrolled": false,
    "slideshow": {
     "slide_type": "slide"
    },
    "tags": []
   },
   "source": [
    "三角函数和逆三角函数"
   ]
  },
  {
   "cell_type": "code",
   "execution_count": 35,
   "metadata": {
    "_id": "E074819DB0DE49F28F852C7A327BEC2E",
    "collapsed": false,
    "id": "B0ACC961FA6540B68E792DAB262F7ACA",
    "jupyter": {},
    "notebookId": "68fe0f4876735876897d962d",
    "scrolled": false,
    "slideshow": {
     "slide_type": "slide"
    },
    "tags": [],
    "trusted": true
   },
   "outputs": [
    {
     "name": "stdout",
     "output_type": "stream",
     "text": [
      "theta      =  [0.         1.57079633 3.14159265]\n",
      "sin(theta) =  [0.0000000e+00 1.0000000e+00 1.2246468e-16]\n",
      "cos(theta) =  [ 1.000000e+00  6.123234e-17 -1.000000e+00]\n",
      "tan(theta) =  [ 0.00000000e+00  1.63312394e+16 -1.22464680e-16]\n",
      "x      =  [-1, 0, 1]\n",
      "arcsin(x) =  [-1.57079633  0.          1.57079633]\n",
      "arccos(x) =  [3.14159265 1.57079633 0.        ]\n",
      "arctan(x) =  [-0.78539816  0.          0.78539816]\n"
     ]
    }
   ],
   "source": [
    "# numpy.linspace(start, stop, num=50, endpoint=True(stop值包含在数组中), retstep=False, dtype=None, axis=0)\n",
    "# np.pi = π\n",
    "theta = np.linspace(0, np.pi, 3)\n",
    "print('theta      = ', theta)\n",
    "print('sin(theta) = ', np.sin(theta))\n",
    "print('cos(theta) = ', np.cos(theta))\n",
    "print('tan(theta) = ', np.tan(theta))\n",
    "x = [-1, 0, 1]\n",
    "print('x      = ', x)\n",
    "print('arcsin(x) = ', np.arcsin(x))\n",
    "print('arccos(x) = ', np.arccos(x))\n",
    "print('arctan(x) = ', np.arctan(x))"
   ]
  },
  {
   "cell_type": "markdown",
   "metadata": {
    "_id": "58966BCBFDAA40A4A346673B91E9B534",
    "id": "63265741B5D94AE2AE36ECAFF3F45575",
    "jupyter": {},
    "notebookId": "68fe0f4876735876897d962d",
    "runtime": {
     "execution_status": null,
     "is_visible": false,
     "status": "default"
    },
    "scrolled": false,
    "slideshow": {
     "slide_type": "slide"
    },
    "tags": []
   },
   "source": [
    "指数和对数"
   ]
  },
  {
   "cell_type": "code",
   "execution_count": 36,
   "metadata": {
    "_id": "2A76CD4E387D463AB00D8FA672F820CB",
    "collapsed": false,
    "id": "73C4C1081DBE47AA9EF46736E5A7FF5B",
    "jupyter": {},
    "notebookId": "68fe0f4876735876897d962d",
    "scrolled": false,
    "slideshow": {
     "slide_type": "slide"
    },
    "tags": [],
    "trusted": true
   },
   "outputs": [
    {
     "name": "stdout",
     "output_type": "stream",
     "text": [
      "x =  [1, 2, 3]\n",
      "e^x =  [ 2.71828183  7.3890561  20.08553692]\n",
      "2^x =  [2. 4. 8.]\n",
      "3^x =  [ 3  9 27]\n",
      "y =  [1, 2, 4, 10]\n",
      "ln(x) =  [0.         0.69314718 1.09861229]\n",
      "log2(x) =  [0.        1.        1.5849625]\n",
      "log10(x) =  [0.         0.30103    0.47712125]\n",
      "exp(z) - 1 =  [0.         0.0010005  0.01005017 0.10517092]\n",
      "log(1 + z) =  [0.         0.0009995  0.00995033 0.09531018]\n"
     ]
    }
   ],
   "source": [
    "x = [1, 2, 3]\n",
    "print('x = ', x)\n",
    "print('e^x = ', np.exp(x))\n",
    "print('2^x = ', np.exp2(x))\n",
    "print('3^x = ', np.power(3, x))\n",
    "y = [1, 2, 4, 10]\n",
    "print('y = ', y)\n",
    "print('ln(x) = ', np.log(x)) # np.log以自然常数（e）为底数的对数\n",
    "print('log2(x) = ', np.log2(x))\n",
    "print('log10(x) = ', np.log10(x))\n",
    "# 特殊版本，当输入值非常小时，用特殊函数给出的值比np.log和np.exp计算更精确\n",
    "z = [0, 0.001, 0.01, 0.1]\n",
    "print('exp(z) - 1 = ', np.expm1(z))\n",
    "print('log(1 + z) = ', np.log1p(z))"
   ]
  },
  {
   "cell_type": "code",
   "execution_count": 37,
   "metadata": {
    "_id": "9CF723B016404149A86877FE57A18CDD",
    "collapsed": false,
    "id": "C405DFC32D7342F69E7209997BDDE756",
    "jupyter": {},
    "notebookId": "68fe0f4876735876897d962d",
    "scrolled": false,
    "slideshow": {
     "slide_type": "slide"
    },
    "tags": [],
    "trusted": true
   },
   "outputs": [
    {
     "name": "stdout",
     "output_type": "stream",
     "text": [
      "gamma(x)     =  [1.0000e+00 2.4000e+01 3.6288e+05]\n",
      "ln|gamma(x)| =  [ 0.          3.17805383 12.80182748]\n",
      "beta(x, 2)   =  [0.5        0.03333333 0.00909091]\n",
      "erf(y) =  [0.         0.32862676 0.67780119 0.84270079]\n",
      "erfc(y) =  [1.         0.67137324 0.32219881 0.15729921]\n",
      "erfinv(y) =  [0.         0.27246271 0.73286908        inf]\n"
     ]
    }
   ],
   "source": [
    "# 专用通用函数\n",
    "# Gamma函数（广义阶乘）和相关函数\n",
    "from scipy import special\n",
    "x = [1, 5, 10]\n",
    "print('gamma(x)     = ', special.gamma(x))\n",
    "print('ln|gamma(x)| = ', special.gammaln(x))\n",
    "print('beta(x, 2)   = ', special.beta(x, 2))\n",
    "# 误差函数（高斯积分）实现与逆实现\n",
    "y = np.array([0, 0.3, 0.7, 1.0])\n",
    "print('erf(y) = ', special.erf(y))\n",
    "print('erfc(y) = ', special.erfc(y))\n",
    "print('erfinv(y) = ', special.erfinv(y))"
   ]
  },
  {
   "cell_type": "markdown",
   "metadata": {
    "_id": "F227D5D6E7C04F8198960FB344A82B21",
    "id": "CBB85B429B3A4D66BAF6529EBE4E3090",
    "jupyter": {},
    "notebookId": "68fe0f4876735876897d962d",
    "runtime": {
     "execution_status": null,
     "is_visible": false,
     "status": "default"
    },
    "scrolled": false,
    "slideshow": {
     "slide_type": "slide"
    },
    "tags": []
   },
   "source": [
    "### 3.2 高级的通用函数特性"
   ]
  },
  {
   "cell_type": "markdown",
   "metadata": {
    "_id": "8C7E66ABCE414EEE866E5FC5F2797E53",
    "id": "F89D7327429441AAAED4399952B96018",
    "jupyter": {},
    "notebookId": "68fe0f4876735876897d962d",
    "runtime": {
     "execution_status": null,
     "is_visible": false,
     "status": "default"
    },
    "scrolled": false,
    "slideshow": {
     "slide_type": "slide"
    },
    "tags": []
   },
   "source": [
    "1. 指定输出位置：所有通用函数都可以用out参数指定计算结果的存放位置"
   ]
  },
  {
   "cell_type": "code",
   "execution_count": 38,
   "metadata": {
    "_id": "19769701926E47F5A3D862C6ACB35D7F",
    "collapsed": false,
    "id": "7A47B2894D924D4FA96DF30C45EBA6F6",
    "jupyter": {},
    "notebookId": "68fe0f4876735876897d962d",
    "scrolled": false,
    "slideshow": {
     "slide_type": "slide"
    },
    "tags": [],
    "trusted": true
   },
   "outputs": [
    {
     "name": "stdout",
     "output_type": "stream",
     "text": [
      "[ 0. 10. 20. 30. 40.]\n",
      "[0. 0. 0. 0. 0. 0. 0. 0. 0. 0.]\n",
      "[ 1.  2.  4.  8. 16.]\n",
      "[ 1.  0.  2.  0.  4.  0.  8.  0. 16.  0.]\n"
     ]
    }
   ],
   "source": [
    "x = np.arange(5)\n",
    "y = np.empty(5)\n",
    "np.multiply(x, 10, out = y)\n",
    "print(y)\n",
    "# 将计算结果写入指定数组的每隔一个元素的位置\n",
    "z = np.zeros(10)\n",
    "print(z)\n",
    "print(np.power(2, x, out = z[::2]))\n",
    "print(z)"
   ]
  },
  {
   "cell_type": "markdown",
   "metadata": {
    "_id": "2F2A0604A97D4BB185FABF193C9FD35A",
    "id": "9BB2843210E744F69E36C90DD2B687BB",
    "jupyter": {},
    "notebookId": "68fe0f4876735876897d962d",
    "runtime": {
     "execution_status": null,
     "is_visible": false,
     "status": "default"
    },
    "scrolled": false,
    "slideshow": {
     "slide_type": "slide"
    },
    "tags": []
   },
   "source": [
    "2. 聚合reduce：所有元素累积"
   ]
  },
  {
   "cell_type": "code",
   "execution_count": 39,
   "metadata": {
    "_id": "19FE64EC7751455AA70D340C66ADE7A4",
    "collapsed": false,
    "id": "8CA8B204C5A048BC85E2C163ED513BF8",
    "jupyter": {},
    "notebookId": "68fe0f4876735876897d962d",
    "scrolled": false,
    "slideshow": {
     "slide_type": "slide"
    },
    "tags": [],
    "trusted": true
   },
   "outputs": [
    {
     "name": "stdout",
     "output_type": "stream",
     "text": [
      "x =  [1 2 3 4 5]\n",
      "x中所有元素求和： 15\n",
      "x中所有元素求积： 120\n",
      "x中所有元素依次求和并展示： [ 1  3  6 10 15]\n",
      "x中所有元素依次求积并展示： [  1   2   6  24 120]\n"
     ]
    }
   ],
   "source": [
    "x = np.arange(1, 6)\n",
    "print('x = ', x)\n",
    "print('x中所有元素求和：', np.add.reduce(x))\n",
    "print('x中所有元素求积：', np.multiply.reduce(x))\n",
    "print('x中所有元素依次求和并展示：', np.add.accumulate(x))\n",
    "print('x中所有元素依次求积并展示：', np.multiply.accumulate(x))"
   ]
  },
  {
   "cell_type": "markdown",
   "metadata": {
    "_id": "11EF81F6E59C4EB78608B101C7C6DF39",
    "id": "70D6CF7F27FC459D89277D342AEF8CEA",
    "jupyter": {},
    "notebookId": "68fe0f4876735876897d962d",
    "runtime": {
     "execution_status": null,
     "is_visible": false,
     "status": "default"
    },
    "scrolled": false,
    "slideshow": {
     "slide_type": "slide"
    },
    "tags": []
   },
   "source": [
    "3. 外积：outer获得两个不同输入数组所有元素对的函数运算结果"
   ]
  },
  {
   "cell_type": "code",
   "execution_count": 40,
   "metadata": {
    "_id": "8B3B047B326E4F618CE98D2FD9A95D88",
    "collapsed": false,
    "id": "24F29A910C7B40D08251F656F1C1D909",
    "jupyter": {},
    "notebookId": "68fe0f4876735876897d962d",
    "scrolled": false,
    "slideshow": {
     "slide_type": "slide"
    },
    "tags": [],
    "trusted": true
   },
   "outputs": [
    {
     "name": "stdout",
     "output_type": "stream",
     "text": [
      "x =  [1 2 3 4 5]\n",
      "[[ 1  2  3  4  5]\n",
      " [ 2  4  6  8 10]\n",
      " [ 3  6  9 12 15]\n",
      " [ 4  8 12 16 20]\n",
      " [ 5 10 15 20 25]]\n"
     ]
    }
   ],
   "source": [
    "x = np.arange(1, 6)\n",
    "print('x = ', x)\n",
    "print(np.multiply.outer(x, x))"
   ]
  },
  {
   "cell_type": "markdown",
   "metadata": {
    "_id": "FFB74CEC81E54D6DB7AF3A94059E928A",
    "id": "454AA488E76D4FB89C300B28E1EE871B",
    "jupyter": {},
    "notebookId": "68fe0f4876735876897d962d",
    "runtime": {
     "execution_status": null,
     "is_visible": false,
     "status": "default"
    },
    "scrolled": false,
    "slideshow": {
     "slide_type": "slide"
    },
    "tags": []
   },
   "source": [
    "## 4. 闯关题"
   ]
  },
  {
   "cell_type": "markdown",
   "metadata": {
    "_id": "09D0E3B799BC493793BE808888DEBEC4",
    "id": "3C828885056B47C890319540FB92CA2E",
    "jupyter": {},
    "notebookId": "68fe0f4876735876897d962d",
    "runtime": {
     "execution_status": null,
     "is_visible": false,
     "status": "default"
    },
    "scrolled": false,
    "slideshow": {
     "slide_type": "slide"
    },
    "tags": []
   },
   "source": [
    "### STEP1：根据要求完成题目  \n",
    "五道题环环相扣，缺一不可，最后只需要把最终答案赋值给a1，并运行"
   ]
  },
  {
   "cell_type": "markdown",
   "metadata": {
    "_id": "FFE14C3F9A5C40D59F0ABF0DF75DC366",
    "id": "5F958271839F4E918268043D57C5B9E0",
    "jupyter": {},
    "notebookId": "68fe0f4876735876897d962d",
    "runtime": {
     "execution_status": null,
     "is_visible": false,
     "status": "default"
    },
    "scrolled": false,
    "slideshow": {
     "slide_type": "slide"
    },
    "tags": []
   },
   "source": [
    "#### Q1：创建数列  \n",
    "1. 利用arange函数，创建数组值从1开始到19结束（不包含19），步长为1，保存为a  \n",
    "2. 再创建一个从19到49结束（不包含49），步长为1，保存为b"
   ]
  },
  {
   "cell_type": "code",
   "execution_count": 41,
   "metadata": {
    "_id": "BB301C3542F047AAAA66E4B2E48D6772",
    "collapsed": false,
    "id": "5A05F9103F9641098CB48FC7F32FD7F6",
    "jupyter": {},
    "notebookId": "68fe0f4876735876897d962d",
    "scrolled": false,
    "slideshow": {
     "slide_type": "slide"
    },
    "tags": [],
    "trusted": true
   },
   "outputs": [],
   "source": [
    "#输入你的代码，并运行\n",
    "a = np.arange(1,19,1)\n",
    "b = np.arange(19,49,1)"
   ]
  },
  {
   "cell_type": "markdown",
   "metadata": {
    "_id": "F831E04C9DE4411BA1CEF9C57AC8C73B",
    "id": "755430A2E5AD4444A15E83161BB6EF7F",
    "jupyter": {},
    "notebookId": "68fe0f4876735876897d962d",
    "runtime": {
     "execution_status": null,
     "is_visible": false,
     "status": "default"
    },
    "scrolled": false,
    "slideshow": {
     "slide_type": "slide"
    },
    "tags": []
   },
   "source": [
    "#### Q2: 对数列形变  \n",
    "1. 利用reshape函数，将a形变为3×6的数组，保存为A  \n",
    "2. 将b形变为5×6的数组，保存为B"
   ]
  },
  {
   "cell_type": "code",
   "execution_count": 42,
   "metadata": {
    "_id": "8274D5AD492240C9A066C4E9082857E0",
    "collapsed": false,
    "id": "51134296D46A47C59D3A5F7FC932AEE1",
    "jupyter": {},
    "notebookId": "68fe0f4876735876897d962d",
    "scrolled": false,
    "slideshow": {
     "slide_type": "slide"
    },
    "tags": [],
    "trusted": true
   },
   "outputs": [],
   "source": [
    "#输入你的代码，并运行\n",
    "A = a.reshape(3,6)\n",
    "B = b.reshape(5,6)"
   ]
  },
  {
   "cell_type": "markdown",
   "metadata": {
    "_id": "FD84DAF9B9F94863AA12282492E6312D",
    "id": "B16EA5A1A9FB42EFAC078A533EDC493F",
    "jupyter": {},
    "notebookId": "68fe0f4876735876897d962d",
    "runtime": {
     "execution_status": null,
     "is_visible": false,
     "status": "default"
    },
    "scrolled": false,
    "slideshow": {
     "slide_type": "slide"
    },
    "tags": []
   },
   "source": [
    "#### Q3：数组拼接与分裂  \n",
    "1. 利用vstack将A和B数组进行垂直方向拼接，保存为C数组  \n",
    "2. 利用split对C数组在第2行分裂成两部分，将下半部分保存为D"
   ]
  },
  {
   "cell_type": "code",
   "execution_count": 43,
   "metadata": {
    "_id": "F09024312F444F548921428463256F8F",
    "collapsed": false,
    "id": "9F5AEBFCEDDE48B19FEC41AE796A841F",
    "jupyter": {},
    "notebookId": "68fe0f4876735876897d962d",
    "scrolled": false,
    "slideshow": {
     "slide_type": "slide"
    },
    "tags": [],
    "trusted": true
   },
   "outputs": [],
   "source": [
    "#输入你的代码，并运行\n",
    "C = np.vstack([A,B])\n",
    "up,D = np.vsplit(C,[2])"
   ]
  },
  {
   "cell_type": "markdown",
   "metadata": {
    "_id": "F99D42DF2A5F4D39A95E45F636E6B616",
    "id": "44F8B7168746417CA4F0C48CC3FD17AB",
    "jupyter": {},
    "notebookId": "68fe0f4876735876897d962d",
    "runtime": {
     "execution_status": null,
     "is_visible": false,
     "status": "default"
    },
    "scrolled": false,
    "slideshow": {
     "slide_type": "slide"
    },
    "tags": []
   },
   "source": [
    "#### Q4：切片与索引  \n",
    "对D提取第1行所有元素，保存为E "
   ]
  },
  {
   "cell_type": "code",
   "execution_count": 44,
   "metadata": {
    "_id": "6912398779004C0DAD10C45E7CD190AE",
    "collapsed": false,
    "id": "BB083CE6064543D18DD7053E5EB06239",
    "jupyter": {},
    "notebookId": "68fe0f4876735876897d962d",
    "scrolled": false,
    "slideshow": {
     "slide_type": "slide"
    },
    "tags": [],
    "trusted": true
   },
   "outputs": [],
   "source": [
    "#输入你的代码，并运行\n",
    "E = D[0,:]"
   ]
  },
  {
   "cell_type": "markdown",
   "metadata": {
    "_id": "D48B9BA75CC1456D9ED8CE0D444D1225",
    "id": "FB39F06313804302A65DA630EA752364",
    "jupyter": {},
    "notebookId": "68fe0f4876735876897d962d",
    "runtime": {
     "execution_status": null,
     "is_visible": false,
     "status": "default"
    },
    "scrolled": false,
    "slideshow": {
     "slide_type": "slide"
    },
    "tags": []
   },
   "source": [
    "#### Q5：数组计算  \n",
    "利用multiply.accumulate对E中所有元素依次求积，并保留最后一项作为E中的累计积保存为a1"
   ]
  },
  {
   "cell_type": "code",
   "execution_count": 45,
   "metadata": {
    "_id": "4D81D4E143CE4E84AA04163DE10FF0AD",
    "collapsed": false,
    "id": "163408DC20224BE79C37F96299220EA0",
    "jupyter": {},
    "notebookId": "68fe0f4876735876897d962d",
    "scrolled": false,
    "slideshow": {
     "slide_type": "slide"
    },
    "tags": [],
    "trusted": true
   },
   "outputs": [],
   "source": [
    "#填入你的答案并运行\n",
    "a1 = np.multiply.accumulate(E)[-1]  # 如 a1= 112"
   ]
  },
  {
   "cell_type": "markdown",
   "metadata": {
    "_id": "D81269593ABB4C30B3CF02DF15DE2A78",
    "id": "14EF6B0973F340FC988E0E67B6F429B3",
    "jupyter": {},
    "notebookId": "68fe0f4876735876897d962d",
    "runtime": {
     "execution_status": null,
     "is_visible": false,
     "status": "default"
    },
    "scrolled": false,
    "slideshow": {
     "slide_type": "slide"
    },
    "tags": []
   },
   "source": [
    "### STEP2：将结果保存为 csv 文件  \n",
    "csv 需要有两列，列名：id、answer。其中，id 列为题号，如 q1、q2；answer 列为 STEP1 中各题你计算出来的结果。💡 这一步的代码你不用做任何修改，直接运行即可。"
   ]
  },
  {
   "cell_type": "code",
   "execution_count": 46,
   "metadata": {
    "_id": "AFFC4C13F732458E842DDB81494CBC07",
    "collapsed": false,
    "id": "72070EFC25E24C4AA58A8544B5227D3C",
    "jupyter": {},
    "notebookId": "68fe0f4876735876897d962d",
    "scrolled": false,
    "slideshow": {
     "slide_type": "slide"
    },
    "tags": [],
    "trusted": true
   },
   "outputs": [],
   "source": [
    "# 生成 csv 作业答案文件\n",
    "def save_csv(a1):\n",
    "    import pandas as pd\n",
    "    df = pd.DataFrame({\"id\": [\"q1\"], \"answer\": [a1]})\n",
    "    df.to_csv(\"answer_1.csv\", index=None)\n",
    "\n",
    "save_csv(a1)  # 运行这个cell,生成答案文件；该文件在左侧文件树project工作区下，你可以自行右击下载或者读取查看"
   ]
  },
  {
   "cell_type": "markdown",
   "metadata": {
    "_id": "3210B3C1BAD3402082C0C9D44FE156E6",
    "id": "58ACCE2EB24C44A6A609E0831C01A636",
    "jupyter": {},
    "notebookId": "68fe0f4876735876897d962d",
    "runtime": {
     "execution_status": null,
     "is_visible": false,
     "status": "default"
    },
    "scrolled": false,
    "slideshow": {
     "slide_type": "slide"
    },
    "tags": []
   },
   "source": [
    "### STEP3: 提交 csv 文件，获取分数结果  \n",
    "你的 csv 答案文件已经准备完毕了，最后让我们提交答案文件，看看是否正确。  \n",
    "提交方法：  \n",
    "1、拷贝提交 token  \n",
    "去对应关卡的 [提交页面](https://www.heywhale.com/home/competition/667278de2c79f2f6c008995b/submit)，找到对应关卡，看到了你的 token 嘛？  \n",
    "拷贝它。  \n",
    "记得：每个关卡的 token 不一样。  \n",
    "2、下方 cell 里，拿你拷贝的 token 替换掉 XXXXXXX， 然后 Ctrl+Enter 运行 "
   ]
  },
  {
   "cell_type": "code",
   "execution_count": 47,
   "metadata": {
    "_id": "E76AF9250F51497AA0C8392D6153D98B",
    "collapsed": false,
    "id": "B377F26C5878490B92E74619C2C6013E",
    "jupyter": {},
    "notebookId": "68fe0f4876735876897d962d",
    "scrolled": false,
    "slideshow": {
     "slide_type": "slide"
    },
    "tags": [],
    "trusted": true
   },
   "outputs": [
    {
     "name": "stdout",
     "output_type": "stream",
     "text": [
      "wget: /opt/conda/lib/libcrypto.so.1.0.0: no version information available (required by wget)\n",
      "wget: /opt/conda/lib/libssl.so.1.0.0: no version information available (required by wget)\n",
      "wget: /opt/conda/lib/libssl.so.1.0.0: no version information available (required by wget)\n",
      "2025-10-26 12:14:52 URL:https://cdn.kesci.com/submit_tool/v4/heywhale_submit [22020102/22020102] -> \"heywhale_submit\" [1]\n",
      "Heywhale Submit Tool: v5.0.1 \n",
      "> 已验证Token\n",
      "> 开始上传文件\n",
      "22 / 22 [||||||||||||||||||||||||||||||||||||||||||||||||||||||||] ? p/s 100.00%\n",
      "> 文件已上传        \n",
      "> 服务器响应: 200 提交成功，请等待评审完成\n",
      "> 提交完成\n"
     ]
    }
   ],
   "source": [
    "#运行这个Cell 下载提交工具\n",
    "\n",
    "!wget -nv -O heywhale_submit https://cdn.kesci.com/submit_tool/v4/heywhale_submit&&chmod +x heywhale_submit\n",
    "\n",
    "# 运行提交工具\n",
    "# 把下方XXXXXXX替换为你的 Token\n",
    "# 改完看起来像是：!./heywhale_submit -token 586eeef71cb92941 -file answer_1.csv\n",
    "\n",
    "!./heywhale_submit -token 42b4c825160bace6 -file answer_1.csv  # 替换XXXXXXX；注意不可增减任何空格或其他字符"
   ]
  }
 ],
 "metadata": {
  "kernelspec": {
   "display_name": "Python 3",
   "language": "python",
   "name": "python3"
  },
  "language_info": {
   "codemirror_mode": {
    "name": "ipython",
    "version": 3
   },
   "file_extension": ".py",
   "mimetype": "text/x-python",
   "name": "python",
   "nbconvert_exporter": "python",
   "pygments_lexer": "ipython3",
   "version": "3.5.2"
  }
 },
 "nbformat": 4,
 "nbformat_minor": 4
}
