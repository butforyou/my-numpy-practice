{
 "cells": [
  {
   "cell_type": "markdown",
   "metadata": {
    "id": "E0D33A63DFA44D979F72A2329DBD9BA6",
    "jupyter": {},
    "notebookId": "68fe111976735876897f71fc",
    "runtime": {
     "execution_status": null,
     "is_visible": false,
     "status": "default"
    },
    "scrolled": false,
    "slideshow": {
     "slide_type": "slide"
    },
    "tags": []
   },
   "source": [
    "## 1. 聚合：最大值、最小值和其他值"
   ]
  },
  {
   "cell_type": "markdown",
   "metadata": {
    "id": "3D40475858F647E584465369F1C5140F",
    "jupyter": {},
    "notebookId": "68fe111976735876897f71fc",
    "runtime": {
     "execution_status": null,
     "is_visible": false,
     "status": "default"
    },
    "scrolled": false,
    "slideshow": {
     "slide_type": "slide"
    },
    "tags": []
   },
   "source": [
    "### 1.1 数组值求和"
   ]
  },
  {
   "cell_type": "code",
   "execution_count": 105,
   "metadata": {
    "collapsed": false,
    "id": "886020C869634E93B183602AE9E3147E",
    "jupyter": {},
    "notebookId": "68fe111976735876897f71fc",
    "scrolled": false,
    "slideshow": {
     "slide_type": "slide"
    },
    "tags": [],
    "trusted": true
   },
   "outputs": [],
   "source": [
    "import numpy as np"
   ]
  },
  {
   "cell_type": "code",
   "execution_count": 106,
   "metadata": {
    "collapsed": false,
    "id": "A75F4D94808D489E86CED1A705D92B49",
    "jupyter": {},
    "notebookId": "68fe111976735876897f71fc",
    "scrolled": false,
    "slideshow": {
     "slide_type": "slide"
    },
    "tags": [],
    "trusted": true
   },
   "outputs": [
    {
     "name": "stdout",
     "output_type": "stream",
     "text": [
      "sum(一维) 47.802793407387156\n",
      "np.sum(一维) 47.80279340738717\n",
      "sum(二维) [5 7 9]\n",
      "np.sum(二维) 21\n",
      "np.sum(二维, 沿着行方向每列求和，axis = 0) [5 7 9]\n",
      "np.sum(二维, 沿着列方向每行求和，axis = 1) [ 6 15]\n"
     ]
    }
   ],
   "source": [
    "# np.sum(array)与sum(array)并不等同，np.sum速度更快且知道数组维度\n",
    "# np.sum和sum一维数组结果相同，np.sum二维数组默认对所有元素求和，必要时可以指定，sum二维数组沿着行方向求和\n",
    "L = np.random.random(100)\n",
    "print('sum(一维)', sum(L))\n",
    "print('np.sum(一维)', np.sum(L))\n",
    "# %timeit sum(L)\n",
    "# %timeit np.sum(L)\n",
    "# %timeit L.sum()\n",
    "\n",
    "m = np.array([[1, 2, 3],\n",
    "               [4, 5, 6]])\n",
    "print('sum(二维)', sum(m))\n",
    "print('np.sum(二维)', np.sum(m))\n",
    "print('np.sum(二维, 沿着行方向每列求和，axis = 0)', np.sum(m, axis = 0))\n",
    "print('np.sum(二维, 沿着列方向每行求和，axis = 1)', np.sum(m, axis = 1))"
   ]
  },
  {
   "cell_type": "markdown",
   "metadata": {
    "id": "1903E598326C4C5EA20B6EC84F400626",
    "jupyter": {},
    "notebookId": "68fe111976735876897f71fc",
    "runtime": {
     "execution_status": null,
     "is_visible": false,
     "status": "default"
    },
    "scrolled": false,
    "slideshow": {
     "slide_type": "slide"
    },
    "tags": []
   },
   "source": [
    "### 1.2 最小值和最大值"
   ]
  },
  {
   "cell_type": "markdown",
   "metadata": {
    "id": "C0E3B948AC8947BC894FB13C64A0E230",
    "jupyter": {},
    "notebookId": "68fe111976735876897f71fc",
    "runtime": {
     "execution_status": null,
     "is_visible": false,
     "status": "default"
    },
    "scrolled": false,
    "slideshow": {
     "slide_type": "slide"
    },
    "tags": []
   },
   "source": [
    "axis指定的是数组将会被折叠的维度，而不是将要返回的维度，因此axis=0意味着沿着行方向的轴会被折叠，得到的是每列的聚合"
   ]
  },
  {
   "cell_type": "code",
   "execution_count": 107,
   "metadata": {
    "collapsed": false,
    "id": "83AC3535340542B4A1BF0007A373C181",
    "jupyter": {},
    "notebookId": "68fe111976735876897f71fc",
    "scrolled": false,
    "slideshow": {
     "slide_type": "slide"
    },
    "tags": [],
    "trusted": true
   },
   "outputs": [
    {
     "name": "stdout",
     "output_type": "stream",
     "text": [
      "np.sum        计算元素的和 45\n",
      "np.prod       计算元素的积 362880\n",
      "np.mean       计算元素的平均值 5.0\n",
      "np.std        计算元素的标准差 2.581988897471611\n",
      "np.var        计算元素的方差 6.666666666666667\n",
      "np.min        找出最小值 1\n",
      "np.max        找出最大值 9\n",
      "np.argmin     找出最小值的索引 0\n",
      "np.argmax     找出最大值的索引 8\n",
      "np.median     计算元素的中位数 5.0\n",
      "np.percentile 计算各分位数 3.0\n",
      "np.any        验证是否存在元素为真 True\n",
      "np.all        验证所有元素是否为真 True\n"
     ]
    }
   ],
   "source": [
    "n = np.array([[1, 2, 3],\n",
    "              [4, 5, 6],\n",
    "              [7, 8, 9]])\n",
    "print('np.sum        计算元素的和', np.sum(n))\n",
    "print('np.prod       计算元素的积', np.prod(n))\n",
    "print('np.mean       计算元素的平均值', np.mean(n))\n",
    "print('np.std        计算元素的标准差', np.std(n))\n",
    "print('np.var        计算元素的方差', np.var(n))\n",
    "print('np.min        找出最小值', np.min(n))\n",
    "print('np.max        找出最大值', np.max(n))\n",
    "print('np.argmin     找出最小值的索引', np.argmin(n))\n",
    "print('np.argmax     找出最大值的索引', np.argmax(n))\n",
    "print('np.median     计算元素的中位数', np.median(n))\n",
    "print('np.percentile 计算各分位数', np.percentile(n, 25))\n",
    "print('np.any        验证是否存在元素为真', np.any(n))\n",
    "print('np.all        验证所有元素是否为真', np.all(n))"
   ]
  },
  {
   "cell_type": "markdown",
   "metadata": {
    "id": "62E09E91FF3E48149AFED806341FCA60",
    "jupyter": {},
    "notebookId": "68fe111976735876897f71fc",
    "runtime": {
     "execution_status": null,
     "is_visible": false,
     "status": "default"
    },
    "scrolled": false,
    "slideshow": {
     "slide_type": "slide"
    },
    "tags": []
   },
   "source": [
    "### 1.3 示例：美国总统的身高是多少"
   ]
  },
  {
   "cell_type": "code",
   "execution_count": 108,
   "metadata": {
    "collapsed": false,
    "id": "374CEE098C094F0FA6E2BD10537C4A2D",
    "jupyter": {},
    "notebookId": "68fe111976735876897f71fc",
    "scrolled": false,
    "slideshow": {
     "slide_type": "slide"
    },
    "tags": [],
    "trusted": true
   },
   "outputs": [
    {
     "name": "stdout",
     "output_type": "stream",
     "text": [
      "[189 170 189 163 183 171 185 168 173 183 173 173 175 178 183 193 178 173\n",
      " 174 183 183 168 170 178 182 180 183 178 182 188 175 179 183 193 182 183\n",
      " 177 185 188 188 182 185 191 182]\n",
      "Mean height:         180.04545454545453\n",
      "Standard deviation:  6.983599441335736\n",
      "Minimum height:      163\n",
      "Maximum height:      193\n",
      "25分位:              174.75\n",
      "Median:              182.0\n",
      "75分位:              183.5\n"
     ]
    },
    {
     "data": {
      "text/plain": [
       "Text(0, 0.5, 'number')"
      ]
     },
     "execution_count": null,
     "metadata": {},
     "output_type": "execute_result"
    },
    {
     "data": {
      "text/html": [
       "<img src=\"https://cdn.kesci.com/upload/rt/374CEE098C094F0FA6E2BD10537C4A2D/t4qq7mv7zi.png\">"
      ],
      "text/plain": [
       "<Figure size 432x288 with 1 Axes>"
      ]
     },
     "metadata": {},
     "output_type": "display_data"
    }
   ],
   "source": [
    "import pandas as pd\n",
    "data = pd.read_csv('/home/mw/input/datascience8949/president_heights.csv')\n",
    "heights = np.array(data['height(cm)'])\n",
    "print(heights)\n",
    "\n",
    "print('Mean height:        ', heights.mean())\n",
    "print('Standard deviation: ', heights.std())\n",
    "print('Minimum height:     ', heights.min())\n",
    "print('Maximum height:     ', heights.max())\n",
    "# 计算身高分位值\n",
    "print('25分位:             ', np.percentile(heights, 25))\n",
    "print('Median:             ', np.median(heights))\n",
    "print('75分位:             ', np.percentile(heights, 75))\n",
    "# 直方图可视化\n",
    "import matplotlib.pyplot as plt\n",
    "import seaborn; seaborn.set()  # 设置绘图风格\n",
    "plt.hist(heights)\n",
    "plt.title('Height Distribution of US Presidents')\n",
    "plt.xlabel('height(cm)')\n",
    "plt.ylabel('number')"
   ]
  },
  {
   "cell_type": "markdown",
   "metadata": {
    "id": "9C0D002C74B44D5185838775B99FE078",
    "jupyter": {},
    "notebookId": "68fe111976735876897f71fc",
    "runtime": {
     "execution_status": null,
     "is_visible": false,
     "status": "default"
    },
    "scrolled": false,
    "slideshow": {
     "slide_type": "slide"
    },
    "tags": []
   },
   "source": [
    "## 2. 广播"
   ]
  },
  {
   "cell_type": "markdown",
   "metadata": {
    "id": "0376F05CD32044C797A83B643E8FCBE9",
    "jupyter": {},
    "notebookId": "68fe111976735876897f71fc",
    "runtime": {
     "execution_status": null,
     "is_visible": false,
     "status": "default"
    },
    "scrolled": false,
    "slideshow": {
     "slide_type": "slide"
    },
    "tags": []
   },
   "source": [
    "广播可以简单理解为用于不同大小数组的二元通用函数（加、减、乘等）的一组规则，同之前的常用通用函数一样，都是通过向量化的操作减少缓慢的python循环"
   ]
  },
  {
   "cell_type": "markdown",
   "metadata": {
    "id": "ACED82A6D1D04A26AFB2F6351B48A710",
    "jupyter": {},
    "notebookId": "68fe111976735876897f71fc",
    "runtime": {
     "execution_status": null,
     "is_visible": false,
     "status": "default"
    },
    "scrolled": false,
    "slideshow": {
     "slide_type": "slide"
    },
    "tags": []
   },
   "source": [
    "### 2.1 广播介绍"
   ]
  },
  {
   "cell_type": "code",
   "execution_count": 109,
   "metadata": {
    "collapsed": false,
    "id": "866CF18ECC9F4F718A0E72C60805E1C3",
    "jupyter": {},
    "notebookId": "68fe111976735876897f71fc",
    "scrolled": false,
    "slideshow": {
     "slide_type": "slide"
    },
    "tags": [],
    "trusted": true
   },
   "outputs": [
    {
     "name": "stdout",
     "output_type": "stream",
     "text": [
      "[5 6 7]\n",
      "[5 6 7]\n"
     ]
    }
   ],
   "source": [
    "# 对于同样大小的数组，二元运算符是对相应元素逐个计算\n",
    "a = np.array([0, 1, 2])\n",
    "b = np.array([5, 5, 5])\n",
    "print(a + b)\n",
    "# 广播允许二元运算符用于不同大小的数组，例如简单将一个标量（可以理解为一个零维的数组）和一个数组相加\n",
    "# 可以理解为先将数值5扩展为数组[5, 5, 5]然后执行加法\n",
    "print(a + 5)"
   ]
  },
  {
   "cell_type": "code",
   "execution_count": 110,
   "metadata": {
    "collapsed": false,
    "id": "83B3B5D4A9C64ECA881AF6CF5D8C27BB",
    "jupyter": {},
    "notebookId": "68fe111976735876897f71fc",
    "scrolled": false,
    "slideshow": {
     "slide_type": "slide"
    },
    "tags": [],
    "trusted": true
   },
   "outputs": [
    {
     "name": "stdout",
     "output_type": "stream",
     "text": [
      "[[1. 1. 1.]\n",
      " [1. 1. 1.]\n",
      " [1. 1. 1.]]\n",
      "[0 1 2]\n"
     ]
    },
    {
     "data": {
      "text/plain": [
       "array([[1., 2., 3.],\n",
       "       [1., 2., 3.],\n",
       "       [1., 2., 3.]])"
      ]
     },
     "execution_count": null,
     "metadata": {},
     "output_type": "execute_result"
    }
   ],
   "source": [
    "# 将一维数组array([0, 1, 2])扩展成匹配3x3的二维数组array([[0, 1, 2],[0, 1, 2],[0, 1, 2]])\n",
    "M = np.ones((3, 3))\n",
    "print(M)\n",
    "print(a)\n",
    "M + a"
   ]
  },
  {
   "cell_type": "code",
   "execution_count": 111,
   "metadata": {
    "collapsed": false,
    "id": "D4122AED2F0F49EE9D7784EAAC35E7E0",
    "jupyter": {},
    "notebookId": "68fe111976735876897f71fc",
    "scrolled": false,
    "slideshow": {
     "slide_type": "slide"
    },
    "tags": [],
    "trusted": true
   },
   "outputs": [
    {
     "name": "stdout",
     "output_type": "stream",
     "text": [
      "[0 1 2]\n",
      "[[0]\n",
      " [1]\n",
      " [2]]\n"
     ]
    },
    {
     "data": {
      "text/plain": [
       "array([[0, 1, 2],\n",
       "       [1, 2, 3],\n",
       "       [2, 3, 4]])"
      ]
     },
     "execution_count": null,
     "metadata": {},
     "output_type": "execute_result"
    }
   ],
   "source": [
    "# 两个数组同时广播\n",
    "a = np.arange(3)\n",
    "b = np.arange(3)[:, np.newaxis]\n",
    "print(a)\n",
    "print(b)\n",
    "a + b"
   ]
  },
  {
   "cell_type": "markdown",
   "metadata": {
    "id": "8081B0DFC91941508384B866195C40CB",
    "jupyter": {},
    "notebookId": "68fe111976735876897f71fc",
    "runtime": {
     "execution_status": null,
     "is_visible": false,
     "status": "default"
    },
    "scrolled": false,
    "slideshow": {
     "slide_type": "slide"
    },
    "tags": []
   },
   "source": [
    "### 2.2 广播规则"
   ]
  },
  {
   "cell_type": "markdown",
   "metadata": {
    "id": "39F4CDF0F6B54F539DEAD596C36029C2",
    "jupyter": {},
    "notebookId": "68fe111976735876897f71fc",
    "runtime": {
     "execution_status": null,
     "is_visible": false,
     "status": "default"
    },
    "scrolled": false,
    "slideshow": {
     "slide_type": "slide"
    },
    "tags": []
   },
   "source": [
    "规则1：如果两个数组的维度数不同，那么小维度数组的形状将会在最左边补1"
   ]
  },
  {
   "cell_type": "markdown",
   "metadata": {
    "id": "6824D2C056F84C099EF349450BE8E9DF",
    "jupyter": {},
    "notebookId": "68fe111976735876897f71fc",
    "runtime": {
     "execution_status": null,
     "is_visible": false,
     "status": "default"
    },
    "scrolled": false,
    "slideshow": {
     "slide_type": "slide"
    },
    "tags": []
   },
   "source": [
    "规则2：如果两个数组的形状在任何一个维度上都不匹配，那么数组的维度会沿着维度为1的维度扩展以匹配另外一个数组的形状"
   ]
  },
  {
   "cell_type": "markdown",
   "metadata": {
    "id": "076C2DAE1F0F43FA8D83A2893F912179",
    "jupyter": {},
    "notebookId": "68fe111976735876897f71fc",
    "runtime": {
     "execution_status": null,
     "is_visible": false,
     "status": "default"
    },
    "scrolled": false,
    "slideshow": {
     "slide_type": "slide"
    },
    "tags": []
   },
   "source": [
    "规则3：如果两个数组的形状在任何一个维度上都不匹配并且没有任何一个维度等于1，那么就会引发异常"
   ]
  },
  {
   "cell_type": "code",
   "execution_count": 112,
   "metadata": {
    "collapsed": false,
    "id": "FC54A20C691C4EE6A550EF71F80CE0E5",
    "jupyter": {},
    "notebookId": "68fe111976735876897f71fc",
    "scrolled": false,
    "slideshow": {
     "slide_type": "slide"
    },
    "tags": [],
    "trusted": true
   },
   "outputs": [
    {
     "name": "stdout",
     "output_type": "stream",
     "text": [
      "[[1. 1. 1.]\n",
      " [1. 1. 1.]] [0 1 2]\n",
      "(2, 3) (3,)\n",
      "根据规则1，数组a的维度更小，所以在其左边补1，m.shape(2, 3) a.shape(1, 3)\n",
      "根据规则2，两个数组第一个维度不匹配，扩展数组a以匹配数组，a.shape(2, 3)\n"
     ]
    },
    {
     "data": {
      "text/plain": [
       "array([[1., 2., 3.],\n",
       "       [1., 2., 3.]])"
      ]
     },
     "execution_count": null,
     "metadata": {},
     "output_type": "execute_result"
    }
   ],
   "source": [
    "# 广播示例 1 ：将一个二维数组和一个一维数组相加\n",
    "M = np.ones((2, 3))\n",
    "a = np.arange(3)\n",
    "print(M, a)\n",
    "print(M.shape, a.shape)\n",
    "print('根据规则1，数组a的维度更小，所以在其左边补1，m.shape(2, 3) a.shape(1, 3)')\n",
    "print('根据规则2，两个数组第一个维度不匹配，扩展数组a以匹配数组，a.shape(2, 3)')\n",
    "M + a"
   ]
  },
  {
   "cell_type": "code",
   "execution_count": 113,
   "metadata": {
    "collapsed": false,
    "id": "C609A0E411F44114B7FA2C3B398FB8B4",
    "jupyter": {},
    "notebookId": "68fe111976735876897f71fc",
    "scrolled": false,
    "slideshow": {
     "slide_type": "slide"
    },
    "tags": [],
    "trusted": true
   },
   "outputs": [
    {
     "name": "stdout",
     "output_type": "stream",
     "text": [
      "[[0]\n",
      " [1]\n",
      " [2]] [0 1 2]\n",
      "(3, 1) (3,)\n",
      "根据规则1，数组b的维度更小，所以在其左边补1，a.shape(3, 1) b.shape(1, 3)\n",
      "根据规则2，两个数组维度不匹配，扩展两个数组，a.shape(3, 3) b.shape(3, 3)\n",
      "\n",
      "[[0, 0, 0],\n",
      " [1, 1, 1],\n",
      " [2, 2, 2]] + [[0, 1, 2],\n",
      "               [0, 1, 2],\n",
      "               [0, 1, 2]] = \n",
      " [[0 1 2]\n",
      " [1 2 3]\n",
      " [2 3 4]]\n"
     ]
    }
   ],
   "source": [
    "# 广播示例 2：两个数组均需要广播\n",
    "a = np.arange(3).reshape(3, 1)\n",
    "b = np.arange(3)\n",
    "print(a, b)\n",
    "print(a.shape, b.shape)\n",
    "print('根据规则1，数组b的维度更小，所以在其左边补1，a.shape(3, 1) b.shape(1, 3)')\n",
    "print('根据规则2，两个数组维度不匹配，扩展两个数组，a.shape(3, 3) b.shape(3, 3)')\n",
    "print('''\n",
    "[[0, 0, 0],\n",
    " [1, 1, 1],\n",
    " [2, 2, 2]] + [[0, 1, 2],\n",
    "               [0, 1, 2],\n",
    "               [0, 1, 2]] = \\n''', a + b)"
   ]
  },
  {
   "cell_type": "markdown",
   "metadata": {
    "id": "A0FC2A0ED8D349E582F0A5F28BAF2429",
    "jupyter": {},
    "notebookId": "68fe111976735876897f71fc",
    "runtime": {
     "execution_status": null,
     "is_visible": false,
     "status": "default"
    },
    "scrolled": false,
    "slideshow": {
     "slide_type": "slide"
    },
    "tags": []
   },
   "source": [
    "### 2.3 广播实际应用"
   ]
  },
  {
   "cell_type": "markdown",
   "metadata": {
    "id": "D89D9A69FE6940BFB041310703B39E3D",
    "jupyter": {},
    "notebookId": "68fe111976735876897f71fc",
    "runtime": {
     "execution_status": null,
     "is_visible": false,
     "status": "default"
    },
    "scrolled": false,
    "slideshow": {
     "slide_type": "slide"
    },
    "tags": []
   },
   "source": [
    "1. 数组的归一化  \n",
    "\n",
    "数组归一化是将数组的数值范围缩放到特定范围或标准化的过程。在数据处理和机器学习中，常常需要对数据进行归一化，以便使数据具有一致的尺度和范围，从而有助于模型的训练和预测。  \n",
    "\n",
    "常见的数组归一化方法包括：  \n",
    "\n",
    "1. 最小-最大归一化（Min-Max Scaling）： 这是最常见的归一化方法之一。它将数据缩放到指定的范围，通常是 [0, 1]。  \n",
    "\n",
    "2. 标准化（Standardization）： 这种方法将数据转换为均值为 0、标准差为 1 的正态分布（也叫标准正态分布）。标准化使得数据分布更符合统计假设，有助于某些机器学习算法的性能。  \n",
    "\n",
    "为什么要进行数组归一化？  \n",
    "\n",
    "1. 消除尺度影响： 不同的特征可能具有不同的尺度和范围，这可能会对某些机器学习算法产生负面影响。通过归一化，可以消除特征之间的尺度差异，使得算法更加稳定。  \n",
    "\n",
    "2. 加速收敛： 对于许多优化算法（如梯度下降），归一化可以加速算法的收敛过程，使其更快地达到最优解。  \n",
    "\n",
    "3. 提高模型性能： 在某些情况下，归一化可以提高机器学习模型的性能，因为模型更容易学习和泛化归一化后的数据。  \n",
    "\n",
    "4. 可视化和解释性： 归一化后的数据更容易可视化和解释，因为它们具有相似的尺度。  \n",
    "\n",
    "需要注意的是，在某些情况下，不需要进行数组归一化，特别是当数据已经在合适的尺度范围内时，或者某些特定的机器学习算法不敏感于尺度差异时。因此，在进行数组归一化之前，需要仔细考虑数据的性质和算法的要求。"
   ]
  },
  {
   "cell_type": "code",
   "execution_count": 114,
   "metadata": {
    "collapsed": false,
    "id": "E98A284C327144DA87711338032FF83C",
    "jupyter": {},
    "notebookId": "68fe111976735876897f71fc",
    "scrolled": false,
    "slideshow": {
     "slide_type": "slide"
    },
    "tags": [],
    "trusted": true
   },
   "outputs": [
    {
     "name": "stdout",
     "output_type": "stream",
     "text": [
      "X： [[0.42385505 0.60639321 0.0191932 ]\n",
      " [0.30157482 0.66017354 0.29007761]\n",
      " [0.61801543 0.4287687  0.13547406]\n",
      " [0.29828233 0.56996491 0.59087276]\n",
      " [0.57432525 0.65320082 0.65210327]\n",
      " [0.43141844 0.8965466  0.36756187]\n",
      " [0.43586493 0.89192336 0.80619399]\n",
      " [0.70388858 0.10022689 0.91948261]\n",
      " [0.7142413  0.99884701 0.1494483 ]\n",
      " [0.86812606 0.16249293 0.61555956]]\n",
      "Xmean:  [0.53695922 0.5968538  0.45459672]\n",
      "Xmean:  [0.53695922 0.5968538  0.45459672]\n",
      "Xmean:  [0.53695922 0.5968538  0.45459672]\n",
      "通过从X数组的元素中减去均值实现归一化，该操作是一个广播操作：\n",
      "归一化数组X_centered: \n",
      " [[-0.11310417  0.00953942 -0.43540353]\n",
      " [-0.2353844   0.06331974 -0.16451912]\n",
      " [ 0.08105621 -0.1680851  -0.31912266]\n",
      " [-0.23867689 -0.02688889  0.13627604]\n",
      " [ 0.03736603  0.05634702  0.19750655]\n",
      " [-0.10554078  0.2996928  -0.08703485]\n",
      " [-0.10109429  0.29506956  0.35159726]\n",
      " [ 0.16692937 -0.49662691  0.46488589]\n",
      " [ 0.17728208  0.40199321 -0.30514842]\n",
      " [ 0.33116684 -0.43436086  0.16096284]]\n",
      "查看归一化的数组均值是否接近0：\n"
     ]
    },
    {
     "data": {
      "text/plain": [
       "array([-8.88178420e-17, -1.11022302e-17,  3.33066907e-17])"
      ]
     },
     "execution_count": null,
     "metadata": {},
     "output_type": "execute_result"
    }
   ],
   "source": [
    "X = np.random.random((10, 3))\n",
    "print('X：', X)\n",
    "Xmean = X.mean(0)\n",
    "print('Xmean: ', Xmean)\n",
    "print('Xmean: ', X.mean(axis = 0))\n",
    "print('Xmean: ', np.mean(X, axis = 0))\n",
    "print('通过从X数组的元素中减去均值实现归一化，该操作是一个广播操作：')\n",
    "X_centered = X - Xmean\n",
    "print('归一化数组X_centered: \\n', X_centered)\n",
    "print('查看归一化的数组均值是否接近0：')\n",
    "X_centered.mean(0)"
   ]
  },
  {
   "cell_type": "markdown",
   "metadata": {
    "id": "E2B07B63622E486A93A7DA606B418606",
    "jupyter": {},
    "notebookId": "68fe111976735876897f71fc",
    "runtime": {
     "execution_status": null,
     "is_visible": false,
     "status": "default"
    },
    "scrolled": false,
    "slideshow": {
     "slide_type": "slide"
    },
    "tags": []
   },
   "source": [
    "2. 画一个二维函数"
   ]
  },
  {
   "cell_type": "code",
   "execution_count": 115,
   "metadata": {
    "collapsed": false,
    "id": "2DD9696654BC4AD38932FC530A0F9612",
    "jupyter": {},
    "notebookId": "68fe111976735876897f71fc",
    "scrolled": false,
    "slideshow": {
     "slide_type": "slide"
    },
    "tags": [],
    "trusted": true
   },
   "outputs": [
    {
     "name": "stdout",
     "output_type": "stream",
     "text": [
      "[[-0.83907153 -0.83470697 -0.8216586  ...  0.8956708   0.68617261\n",
      "   0.41940746]\n",
      " [-0.83907153 -0.82902677 -0.8103873  ...  0.92522407  0.75321348\n",
      "   0.52508175]\n",
      " [-0.83907153 -0.82325668 -0.79876457 ...  0.96427357  0.84172689\n",
      "   0.66446403]\n",
      " ...\n",
      " [-0.83907153 -0.48233077 -0.01646558 ...  0.96449925  0.75196531\n",
      "   0.41982581]\n",
      " [-0.83907153 -0.47324558  0.00392612 ...  0.92542163  0.68540362\n",
      "   0.37440839]\n",
      " [-0.83907153 -0.46410908  0.02431613 ...  0.89579384  0.65690314\n",
      "   0.40107702]]\n"
     ]
    },
    {
     "data": {
      "text/plain": [
       "<matplotlib.colorbar.Colorbar at 0x7f714d8c0518>"
      ]
     },
     "execution_count": null,
     "metadata": {},
     "output_type": "execute_result"
    },
    {
     "data": {
      "text/html": [
       "<img src=\"https://cdn.kesci.com/upload/rt/2DD9696654BC4AD38932FC530A0F9612/t4qq7muffq.png\">"
      ],
      "text/plain": [
       "<Figure size 432x288 with 2 Axes>"
      ]
     },
     "metadata": {},
     "output_type": "display_data"
    }
   ],
   "source": [
    "# 定义一个二维函数 z = f(x, y)，可以用广播沿着数值区间计算该函数\n",
    "# x和y表示0-5区间50个步长的序列\n",
    "x = np.linspace(0, 5, 50)\n",
    "y = np.linspace(0, 5, 50)[:, np.newaxis]\n",
    "z = np.sin(x) ** 10 + np.cos(10 + y * x) * np.cos(x)\n",
    "print(z)\n",
    "# 画出二维数组\n",
    "\"\"\"\n",
    "z：这是要显示的二维数据（通常是一个矩阵或图像）。imshow 将根据这个数据创建一个可视化呈现。\n",
    "origin：这是一个可选参数，指定了图像数据的坐标原点位置。默认情况下，原点位于图像的左上角（'upper'），但在一些情况下，你可能希望将原点移到左下角（'lower'），这在处理科学数据时很常见。\n",
    "extent：这是一个可选参数，用于指定数据的坐标范围。它是一个包含四个值的列表，分别表示 x 轴的起始值、结束值、y 轴的起始值和结束值。在你的代码中，extent=[0, 5, 0, 5] 意味着 x 和 y 轴的坐标范围分别从 0 到 5。\n",
    "cmap：这是一个可选参数，用于指定用于渲染图像的颜色映射（colormap）。颜色映射定义了数据值如何映射到颜色。在你的代码中，cmap='viridis' 使用了名为 \"viridis\" 的颜色映射，这是 Matplotlib 内置的一种颜色映射。\n",
    "plt.colorbar在当前图形（通常是通过 plt.imshow() 绘制的图形）旁边或下方添加一个颜色条。颜色条将显示图像中不同颜色所对应的数据值的范围。通常，颜色条的上端表示数据的最大值，下端表示数据的最小值。通过查看颜色条，用户可以快速了解图像中不同颜色所代表的数据含义，从而提高图像的可解释性。\n",
    "\"\"\"\n",
    "import matplotlib.pyplot as plt\n",
    "plt.imshow(z, origin = 'lower', extent = [0, 5, 0, 5], cmap = 'viridis')\n",
    "plt.colorbar()"
   ]
  },
  {
   "cell_type": "markdown",
   "metadata": {
    "id": "3AD4C0400A4C4FF6B29ACBC4619C5954",
    "jupyter": {},
    "notebookId": "68fe111976735876897f71fc",
    "runtime": {
     "execution_status": null,
     "is_visible": false,
     "status": "default"
    },
    "scrolled": false,
    "slideshow": {
     "slide_type": "slide"
    },
    "tags": []
   },
   "source": [
    "## 3. 闯关题"
   ]
  },
  {
   "cell_type": "markdown",
   "metadata": {
    "id": "A4E715586F0E42D89A0A87912826DA88",
    "jupyter": {},
    "notebookId": "68fe111976735876897f71fc",
    "runtime": {
     "execution_status": null,
     "is_visible": false,
     "status": "default"
    },
    "scrolled": false,
    "slideshow": {
     "slide_type": "slide"
    },
    "tags": []
   },
   "source": [
    "### STEP1：根据要求完成题目"
   ]
  },
  {
   "cell_type": "markdown",
   "metadata": {
    "id": "2F2B8E64FF18441F93BA6826244590CE",
    "jupyter": {},
    "notebookId": "68fe111976735876897f71fc",
    "runtime": {
     "execution_status": null,
     "is_visible": false,
     "status": "default"
    },
    "scrolled": false,
    "slideshow": {
     "slide_type": "slide"
    },
    "tags": []
   },
   "source": [
    "#### Q1: 利用数组广播计算  \n",
    "利用数组广播计算A+B，保存为C  \n",
    "数组C第三列的平均值为（）  \n",
    "A、12  \n",
    "B、24  \n",
    "C、36  \n",
    "D、48  "
   ]
  },
  {
   "cell_type": "code",
   "execution_count": 116,
   "metadata": {
    "collapsed": false,
    "id": "6B0626183A6546558EBD84A0C95DC02C",
    "jupyter": {},
    "notebookId": "68fe111976735876897f71fc",
    "scrolled": false,
    "slideshow": {
     "slide_type": "slide"
    },
    "tags": [],
    "trusted": true
   },
   "outputs": [
    {
     "data": {
      "text/plain": [
       "36.0"
      ]
     },
     "execution_count": null,
     "metadata": {},
     "output_type": "execute_result"
    }
   ],
   "source": [
    "#输入你的代码，并运行\n",
    "A = np.arange(1, 10).reshape(3, 3)\n",
    "B = np.array([10, 20, 30])\n",
    "C = A+B\n",
    "C.mean(axis=0)[2]"
   ]
  },
  {
   "cell_type": "markdown",
   "metadata": {
    "id": "174A8D54D57B46219C9E1D3D9E424C74",
    "jupyter": {},
    "notebookId": "68fe111976735876897f71fc",
    "runtime": {
     "execution_status": null,
     "is_visible": false,
     "status": "default"
    },
    "scrolled": false,
    "slideshow": {
     "slide_type": "slide"
    },
    "tags": []
   },
   "source": [
    "#### Q2: 利用广播机制进行数据归一化  \n",
    "归一化公式如下：  \n",
    "\n",
    "\n",
    "$$  \n",
    "\\text{归一化数据} = \\frac{原数据 - \\text{min}}{\\text{max} - \\text{min}}  \n",
    "$$  \n",
    "\n",
    "其中，`min` 和 `max` 分别为该列数据的最小值和最大值。  \n",
    "要求利用广播以及聚合函数，对数组D的每一列进行归一化。  \n",
    "提示：可以参考***广播实际应用***部分代码，推荐自己编写，加深印象哦～  \n",
    "归一化后，第三行的平均数为（）  \n",
    "A、0.633  \n",
    "B、0.753  \n",
    "C、0.537  \n",
    "D、0.612  \n"
   ]
  },
  {
   "cell_type": "code",
   "execution_count": 117,
   "metadata": {
    "collapsed": false,
    "id": "904EA8A8EBCB42F1A6A2D6208096F9E6",
    "jupyter": {},
    "notebookId": "68fe111976735876897f71fc",
    "scrolled": false,
    "slideshow": {
     "slide_type": "slide"
    },
    "tags": [],
    "trusted": true
   },
   "outputs": [
    {
     "data": {
      "text/plain": [
       "0.6333538570904163"
      ]
     },
     "execution_count": null,
     "metadata": {},
     "output_type": "execute_result"
    }
   ],
   "source": [
    "#输入你的代码，并运行\n",
    "np.random.seed(0)\n",
    "D= np.random.rand(6,4)\n",
    "D_new = (D-np.min(D,axis=0))/(np.max(D,axis=0) - np.min(D,axis=0))\n",
    "D_new.mean(axis=1)[2]"
   ]
  },
  {
   "cell_type": "markdown",
   "metadata": {
    "id": "F8ADDBD349CF4ADD9A942D255CABAFB5",
    "jupyter": {},
    "notebookId": "68fe111976735876897f71fc",
    "runtime": {
     "execution_status": null,
     "is_visible": false,
     "status": "default"
    },
    "scrolled": false,
    "slideshow": {
     "slide_type": "slide"
    },
    "tags": []
   },
   "source": [
    "#### Q3: 求二维数组最大值  \n",
    "参考***广播实际应用***中二维函数部分完成下列四个步骤。  \n",
    "第一步：利用linspace生成两个范围为 [0, 2] 的 60 个等间距数组，分别保存为u、v。"
   ]
  },
  {
   "cell_type": "code",
   "execution_count": 118,
   "metadata": {
    "collapsed": false,
    "id": "9103188E9E5F4FA9B65FB544043DC2DA",
    "jupyter": {},
    "notebookId": "68fe111976735876897f71fc",
    "scrolled": false,
    "slideshow": {
     "slide_type": "slide"
    },
    "tags": [],
    "trusted": true
   },
   "outputs": [],
   "source": [
    "#输入你的代码，并运行\n",
    "u = np.linspace(0,2,60)\n",
    "u = np.reshape(u,(1,60))\n",
    "v = np.linspace(0,2,60)"
   ]
  },
  {
   "cell_type": "markdown",
   "metadata": {
    "id": "F33CB44777354687A437D1E47D4387BF",
    "jupyter": {},
    "notebookId": "68fe111976735876897f71fc",
    "runtime": {
     "execution_status": null,
     "is_visible": false,
     "status": "default"
    },
    "scrolled": false,
    "slideshow": {
     "slide_type": "slide"
    },
    "tags": []
   },
   "source": [
    "第二部：将v转化为列向量，可使用[:, np.newaxis]方法"
   ]
  },
  {
   "cell_type": "code",
   "execution_count": 119,
   "metadata": {
    "collapsed": false,
    "id": "F66588B7F2AB42259B9790C0BE3E1476",
    "jupyter": {},
    "notebookId": "68fe111976735876897f71fc",
    "scrolled": false,
    "slideshow": {
     "slide_type": "slide"
    },
    "tags": [],
    "trusted": true
   },
   "outputs": [],
   "source": [
    "#输入你的代码，并运行\n",
    "v=v[:,np.newaxis]"
   ]
  },
  {
   "cell_type": "markdown",
   "metadata": {
    "id": "0DB042D3F64741C0A00DFCEF628A7570",
    "jupyter": {},
    "notebookId": "68fe111976735876897f71fc",
    "runtime": {
     "execution_status": null,
     "is_visible": false,
     "status": "default"
    },
    "scrolled": false,
    "slideshow": {
     "slide_type": "slide"
    },
    "tags": []
   },
   "source": [
    "第三步，计算二维数组 w，公式如下（不需要理解公式的具体含义，只需要利用np.sin( ),np.cos( )，简单的加减乘除以及numpy的广播计算机制就可轻松完成）：  \n",
    "\n",
    " $$  \n",
    " w = \\sin(u^2) \\cdot \\cos(v) + \\cos(5 + u \\cdot v) \\cdot \\sin(u)  \n",
    " $$  \n"
   ]
  },
  {
   "cell_type": "code",
   "execution_count": 120,
   "metadata": {
    "collapsed": false,
    "id": "462E72EBA635469E93A55D987DA74B84",
    "jupyter": {},
    "notebookId": "68fe111976735876897f71fc",
    "scrolled": false,
    "slideshow": {
     "slide_type": "slide"
    },
    "tags": [],
    "trusted": true
   },
   "outputs": [],
   "source": [
    "#输入你的代码，并运行\n",
    "w = w = np.sin(u**2) * np.cos(v) + np.cos(5 + u * v) * np.sin(u)"
   ]
  },
  {
   "cell_type": "markdown",
   "metadata": {
    "id": "3794BDCD94BE409990E21636504FBA81",
    "jupyter": {},
    "notebookId": "68fe111976735876897f71fc",
    "runtime": {
     "execution_status": null,
     "is_visible": false,
     "status": "default"
    },
    "scrolled": false,
    "slideshow": {
     "slide_type": "slide"
    },
    "tags": []
   },
   "source": [
    "第四步：w的最大值为（）  \n",
    "A、1.22  \n",
    "B、2.24  \n",
    "C、1.66  \n",
    "D、3.32  "
   ]
  },
  {
   "cell_type": "code",
   "execution_count": 121,
   "metadata": {
    "collapsed": false,
    "id": "CBF564B3B4644FCAA5D3517B26A35797",
    "jupyter": {},
    "notebookId": "68fe111976735876897f71fc",
    "scrolled": false,
    "slideshow": {
     "slide_type": "slide"
    },
    "tags": [],
    "trusted": true
   },
   "outputs": [
    {
     "data": {
      "text/plain": [
       "1.6679932011717007"
      ]
     },
     "execution_count": null,
     "metadata": {},
     "output_type": "execute_result"
    }
   ],
   "source": [
    "#输入你的代码，并运行\n",
    "np.max(np.max(w))"
   ]
  },
  {
   "cell_type": "code",
   "execution_count": 122,
   "metadata": {
    "collapsed": false,
    "id": "7F4E0B8691DC4786B4D05E523F595A2F",
    "jupyter": {},
    "notebookId": "68fe111976735876897f71fc",
    "scrolled": false,
    "slideshow": {
     "slide_type": "slide"
    },
    "tags": [],
    "trusted": true
   },
   "outputs": [],
   "source": [
    "#填入你的答案并运行,注意大小写\n",
    "a1 = 'C'  # 如 a1= 'A'\n",
    "a2 = 'A'  # 如 a2= 'B'\n",
    "a3 = 'C'  # 如 a3= 'B'"
   ]
  },
  {
   "cell_type": "markdown",
   "metadata": {
    "id": "04C503923D4248008A0EF7EF0A165D94",
    "jupyter": {},
    "notebookId": "68fe111976735876897f71fc",
    "runtime": {
     "execution_status": null,
     "is_visible": false,
     "status": "default"
    },
    "scrolled": false,
    "slideshow": {
     "slide_type": "slide"
    },
    "tags": []
   },
   "source": [
    "### STEP2：将结果保存为 csv 文件  \n",
    "csv 需要有两列，列名：id、answer。其中，id 列为题号，如 q1、q2；answer 列为 STEP1 中各题你计算出来的结果。💡 这一步的代码你不用做任何修改，直接运行即可。"
   ]
  },
  {
   "cell_type": "code",
   "execution_count": 123,
   "metadata": {
    "collapsed": false,
    "id": "BD25C39895D440BF92E8507C7B50EC48",
    "jupyter": {},
    "notebookId": "68fe111976735876897f71fc",
    "scrolled": false,
    "slideshow": {
     "slide_type": "slide"
    },
    "tags": [],
    "trusted": true
   },
   "outputs": [],
   "source": [
    "# 生成 csv 作业答案文件\n",
    "def save_csv(a1,a2,a3):\n",
    "    import pandas as pd\n",
    "    df = pd.DataFrame({\"id\": [\"q1\", \"q2\", \"q3\"], \"answer\": [a1, a2, a3]})\n",
    "    df.to_csv(\"answer_2.csv\", index=None)\n",
    "\n",
    "save_csv(a1,a2,a3)  # 运行这个cell,生成答案文件；该文件在左侧文件树project工作区下，你可以自行右击下载或者读取查看"
   ]
  },
  {
   "cell_type": "markdown",
   "metadata": {
    "id": "3C02E1359C364C91B2307DC265BDF61F",
    "jupyter": {},
    "notebookId": "68fe111976735876897f71fc",
    "runtime": {
     "execution_status": null,
     "is_visible": false,
     "status": "default"
    },
    "scrolled": false,
    "slideshow": {
     "slide_type": "slide"
    },
    "tags": []
   },
   "source": [
    "### STEP3: 提交 csv 文件，获取分数结果  \n",
    "你的 csv 答案文件已经准备完毕了，最后让我们提交答案文件，看看是否正确。  \n",
    "提交方法：  \n",
    "1、拷贝提交 token  \n",
    "去对应关卡的 [提交页面](https://www.heywhale.com/home/competition/667278de2c79f2f6c008995b/submit)，找到对应关卡，看到了你的 token 嘛？  \n",
    "拷贝它。  \n",
    "记得：每个关卡的 token 不一样。  \n",
    "2、下方 cell 里，拿你拷贝的 token 替换掉 XXXXXXX， 然后 Ctrl+Enter 运行 "
   ]
  },
  {
   "cell_type": "code",
   "execution_count": 124,
   "metadata": {
    "collapsed": false,
    "id": "1BE1732D15AB4EDC8B0ECF9602869A5C",
    "jupyter": {},
    "notebookId": "68fe111976735876897f71fc",
    "scrolled": false,
    "slideshow": {
     "slide_type": "slide"
    },
    "tags": [],
    "trusted": true
   },
   "outputs": [
    {
     "name": "stdout",
     "output_type": "stream",
     "text": [
      "wget: /opt/conda/lib/libcrypto.so.1.0.0: no version information available (required by wget)\n",
      "wget: /opt/conda/lib/libssl.so.1.0.0: no version information available (required by wget)\n",
      "wget: /opt/conda/lib/libssl.so.1.0.0: no version information available (required by wget)\n",
      "2025-10-26 13:15:08 URL:https://cdn.kesci.com/submit_tool/v4/heywhale_submit [22020102/22020102] -> \"heywhale_submit\" [1]\n",
      "Heywhale Submit Tool: v5.0.1 \n",
      "> 已验证Token\n",
      "> 开始上传文件\n",
      "25 / 25 [||||||||||||||||||||||||||||||||||||||||||||||||||||||] 587 p/s 100.00%\n",
      "> 文件已上传        \n",
      "> 服务器响应: 200 提交成功，请等待评审完成\n",
      "> 提交完成\n"
     ]
    }
   ],
   "source": [
    "#运行这个Cell 下载提交工具\n",
    "\n",
    "!wget -nv -O heywhale_submit https://cdn.kesci.com/submit_tool/v4/heywhale_submit&&chmod +x heywhale_submit\n",
    "\n",
    "# 运行提交工具\n",
    "# 把下方XXXXXXX替换为你的 Token\n",
    "# 改完看起来像是：!./heywhale_submit -token 586eeef71cb92941 -file answer_2.csv\n",
    "\n",
    "!./heywhale_submit -token f5d27cea0286b22d -file answer_2.csv  # 替换XXXXXXX；注意不可增减任何空格或其他字符"
   ]
  }
 ],
 "metadata": {
  "kernelspec": {
   "display_name": "Python 3",
   "language": "python",
   "name": "python3"
  },
  "language_info": {
   "codemirror_mode": {
    "name": "ipython",
    "version": 3
   },
   "file_extension": ".py",
   "mimetype": "text/x-python",
   "name": "python",
   "nbconvert_exporter": "python",
   "pygments_lexer": "ipython3",
   "version": "3.5.2"
  }
 },
 "nbformat": 4,
 "nbformat_minor": 4
}
