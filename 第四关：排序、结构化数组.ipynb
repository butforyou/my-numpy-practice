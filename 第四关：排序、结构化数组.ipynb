{
 "cells": [
  {
   "cell_type": "markdown",
   "metadata": {
    "id": "BD6FE27564A3407DACF62C378F7C7156",
    "jupyter": {},
    "notebookId": "68fe28e9c0a4ead8dcb2f3fb",
    "runtime": {
     "execution_status": null,
     "is_visible": false,
     "status": "default"
    },
    "scrolled": false,
    "slideshow": {
     "slide_type": "slide"
    },
    "tags": []
   },
   "source": [
    "## 1. 数组的排序"
   ]
  },
  {
   "cell_type": "code",
   "execution_count": 31,
   "metadata": {
    "collapsed": false,
    "id": "6BD5291461B946EEBA439FAA5F2A96FA",
    "jupyter": {},
    "notebookId": "68fe28e9c0a4ead8dcb2f3fb",
    "scrolled": false,
    "slideshow": {
     "slide_type": "slide"
    },
    "tags": [],
    "trusted": true
   },
   "outputs": [
    {
     "data": {
      "text/plain": [
       "array([1, 2, 4, 3, 5])"
      ]
     },
     "execution_count": null,
     "metadata": {},
     "output_type": "execute_result"
    }
   ],
   "source": [
    "import numpy as np\n",
    "# 简单的选择排序重复寻找列表中的最小值，并且不断交换直到列表是有序的\n",
    "def selection_sort(x):\n",
    "    for i in range(len(x)):\n",
    "        swap = i + np.argmin(x[i:])\n",
    "        (x[i], x[swap]) = (x[swap], x[i])\n",
    "        return x\n",
    "    \n",
    "x = np.array([2, 1, 4, 3, 5])\n",
    "selection_sort(x)"
   ]
  },
  {
   "cell_type": "markdown",
   "metadata": {
    "id": "5E87C72671EB4180AE318C9A76803C91",
    "jupyter": {},
    "notebookId": "68fe28e9c0a4ead8dcb2f3fb",
    "runtime": {
     "execution_status": null,
     "is_visible": false,
     "status": "default"
    },
    "scrolled": false,
    "slideshow": {
     "slide_type": "slide"
    },
    "tags": []
   },
   "source": [
    "### 1.1 NumPy中的快速排序：np.sort和np.argsort"
   ]
  },
  {
   "cell_type": "markdown",
   "metadata": {
    "id": "F010B8BC0B5447999185A4852D4A7E4F",
    "jupyter": {},
    "notebookId": "68fe28e9c0a4ead8dcb2f3fb",
    "runtime": {
     "execution_status": null,
     "is_visible": false,
     "status": "default"
    },
    "scrolled": false,
    "slideshow": {
     "slide_type": "slide"
    },
    "tags": []
   },
   "source": [
    "np.sort默认是快速排序，另外也可以选择归并排序和堆排序，可以在不修改原始输入数组的基础上返回一个排好序的数组。"
   ]
  },
  {
   "cell_type": "code",
   "execution_count": 32,
   "metadata": {
    "collapsed": false,
    "id": "010A79C01CD64E54B36DED30AA306356",
    "jupyter": {},
    "notebookId": "68fe28e9c0a4ead8dcb2f3fb",
    "scrolled": false,
    "slideshow": {
     "slide_type": "slide"
    },
    "tags": [],
    "trusted": true
   },
   "outputs": [
    {
     "data": {
      "text/plain": [
       "array([1, 2, 3, 4, 5])"
      ]
     },
     "execution_count": null,
     "metadata": {},
     "output_type": "execute_result"
    }
   ],
   "source": [
    "x = np.array([2, 1, 4, 3, 5])\n",
    "np.sort(x)"
   ]
  },
  {
   "cell_type": "markdown",
   "metadata": {
    "id": "826167DB4D6942A8B8F08050A4B77097",
    "jupyter": {},
    "notebookId": "68fe28e9c0a4ead8dcb2f3fb",
    "runtime": {
     "execution_status": null,
     "is_visible": false,
     "status": "default"
    },
    "scrolled": false,
    "slideshow": {
     "slide_type": "slide"
    },
    "tags": []
   },
   "source": [
    "如果希望用排好序的数组替代原始数组，可以使用数组的sort方法"
   ]
  },
  {
   "cell_type": "code",
   "execution_count": 33,
   "metadata": {
    "collapsed": false,
    "id": "C8CB465C2DBC4356BE11BB85AAEC801B",
    "jupyter": {},
    "notebookId": "68fe28e9c0a4ead8dcb2f3fb",
    "scrolled": false,
    "slideshow": {
     "slide_type": "slide"
    },
    "tags": [],
    "trusted": true
   },
   "outputs": [
    {
     "name": "stdout",
     "output_type": "stream",
     "text": [
      "[1 2 3 4 5]\n"
     ]
    }
   ],
   "source": [
    "x.sort()\n",
    "print(x)"
   ]
  },
  {
   "cell_type": "markdown",
   "metadata": {
    "id": "4838E298FD5748B6A83BE9DD7BE22BE7",
    "jupyter": {},
    "notebookId": "68fe28e9c0a4ead8dcb2f3fb",
    "runtime": {
     "execution_status": null,
     "is_visible": false,
     "status": "default"
    },
    "scrolled": false,
    "slideshow": {
     "slide_type": "slide"
    },
    "tags": []
   },
   "source": [
    "另一个相关的函数是argsort，该函数返回的是原始数组排好序的索引值"
   ]
  },
  {
   "cell_type": "code",
   "execution_count": 34,
   "metadata": {
    "collapsed": false,
    "id": "4CF3DF6328104690855A32B66DC73710",
    "jupyter": {},
    "notebookId": "68fe28e9c0a4ead8dcb2f3fb",
    "scrolled": false,
    "slideshow": {
     "slide_type": "slide"
    },
    "tags": [],
    "trusted": true
   },
   "outputs": [
    {
     "name": "stdout",
     "output_type": "stream",
     "text": [
      "[1 0 3 2 4]\n"
     ]
    }
   ],
   "source": [
    "x = np.array([2, 1, 4, 3, 5])\n",
    "i = np.argsort(x)\n",
    "print(i)"
   ]
  },
  {
   "cell_type": "markdown",
   "metadata": {
    "id": "9A6B1932D48A496487F1BBB8785E0E80",
    "jupyter": {},
    "notebookId": "68fe28e9c0a4ead8dcb2f3fb",
    "runtime": {
     "execution_status": null,
     "is_visible": false,
     "status": "default"
    },
    "scrolled": false,
    "slideshow": {
     "slide_type": "slide"
    },
    "tags": []
   },
   "source": [
    "这些索引值可以被用于通过花哨的索引创建有序的数组"
   ]
  },
  {
   "cell_type": "code",
   "execution_count": 35,
   "metadata": {
    "collapsed": false,
    "id": "B2744D045A1544FA8AE9488942E00CA5",
    "jupyter": {},
    "notebookId": "68fe28e9c0a4ead8dcb2f3fb",
    "scrolled": false,
    "slideshow": {
     "slide_type": "slide"
    },
    "tags": [],
    "trusted": true
   },
   "outputs": [
    {
     "data": {
      "text/plain": [
       "array([1, 2, 3, 4, 5])"
      ]
     },
     "execution_count": null,
     "metadata": {},
     "output_type": "execute_result"
    }
   ],
   "source": [
    "x[i]"
   ]
  },
  {
   "cell_type": "code",
   "execution_count": 36,
   "metadata": {
    "collapsed": false,
    "id": "532CD5E3246B4978A0DBA1644A95C69D",
    "jupyter": {},
    "notebookId": "68fe28e9c0a4ead8dcb2f3fb",
    "scrolled": false,
    "slideshow": {
     "slide_type": "slide"
    },
    "tags": [],
    "trusted": true
   },
   "outputs": [
    {
     "name": "stdout",
     "output_type": "stream",
     "text": [
      "[[6 3 7 4 6 9]\n",
      " [2 6 7 4 3 7]\n",
      " [7 2 5 4 1 7]\n",
      " [5 1 4 0 9 5]]\n",
      "对X的每列排序: \n",
      " [[2 1 4 0 1 5]\n",
      " [5 2 5 4 3 7]\n",
      " [6 3 7 4 6 7]\n",
      " [7 6 7 4 9 9]]\n",
      "对X的每行排序: \n",
      " [[3 4 6 6 7 9]\n",
      " [2 3 4 6 7 7]\n",
      " [1 2 4 5 7 7]\n",
      " [0 1 4 5 5 9]]\n"
     ]
    }
   ],
   "source": [
    "# 通过axis参数沿着行或列排序, 任何行列关系将丢失\n",
    "\n",
    "rand = np.random.RandomState(42)\n",
    "X = rand.randint(0, 10, (4, 6))\n",
    "print(X)\n",
    "print('对X的每列排序: \\n', np.sort(X, axis = 0))\n",
    "print('对X的每行排序: \\n', np.sort(X, axis = 1))"
   ]
  },
  {
   "cell_type": "markdown",
   "metadata": {
    "id": "1718D7CE316B4BE1BD96E0425731EDD9",
    "jupyter": {},
    "notebookId": "68fe28e9c0a4ead8dcb2f3fb",
    "runtime": {
     "execution_status": null,
     "is_visible": false,
     "status": "default"
    },
    "scrolled": false,
    "slideshow": {
     "slide_type": "slide"
    },
    "tags": []
   },
   "source": [
    "### 1.2 部分排序：分隔"
   ]
  },
  {
   "cell_type": "markdown",
   "metadata": {
    "id": "776D29D7BDB1413EA5679550354D0876",
    "jupyter": {},
    "notebookId": "68fe28e9c0a4ead8dcb2f3fb",
    "runtime": {
     "execution_status": null,
     "is_visible": false,
     "status": "default"
    },
    "scrolled": false,
    "slideshow": {
     "slide_type": "slide"
    },
    "tags": []
   },
   "source": [
    "有时候我们不希望对整个数组排序，仅仅希望找到数组中第K小的值，np.partition函数提供了这个功能，np.partiton函数的输入是数组和数字K，输出结果是一个新数组，最左边是第k小的值，往右是任意顺序的其他值"
   ]
  },
  {
   "cell_type": "code",
   "execution_count": 37,
   "metadata": {
    "collapsed": false,
    "id": "96F896B7FA094AB392C240BBC72D2EE2",
    "jupyter": {},
    "notebookId": "68fe28e9c0a4ead8dcb2f3fb",
    "scrolled": false,
    "slideshow": {
     "slide_type": "slide"
    },
    "tags": [],
    "trusted": true
   },
   "outputs": [
    {
     "data": {
      "text/plain": [
       "array([2, 1, 3, 4, 6, 5, 7])"
      ]
     },
     "execution_count": null,
     "metadata": {},
     "output_type": "execute_result"
    }
   ],
   "source": [
    "x = np.array([7, 2, 3, 1, 6, 5, 4])\n",
    "np.partition(x, 3)"
   ]
  },
  {
   "cell_type": "markdown",
   "metadata": {
    "id": "6BF28B9C3A5C40AD86B2602E83AF3CA6",
    "jupyter": {},
    "notebookId": "68fe28e9c0a4ead8dcb2f3fb",
    "runtime": {
     "execution_status": null,
     "is_visible": false,
     "status": "default"
    },
    "scrolled": false,
    "slideshow": {
     "slide_type": "slide"
    },
    "tags": []
   },
   "source": [
    "返回数组的前三个值是数组中最小的三个值，剩下的位置是原始数组剩下的值，两个分隔区间中元素是任意排列的。与排序类似，也可以沿任意轴分隔。"
   ]
  },
  {
   "cell_type": "code",
   "execution_count": 38,
   "metadata": {
    "collapsed": false,
    "id": "833DF5EFD3AA48698608425142DAE231",
    "jupyter": {},
    "notebookId": "68fe28e9c0a4ead8dcb2f3fb",
    "scrolled": false,
    "slideshow": {
     "slide_type": "slide"
    },
    "tags": [],
    "trusted": true
   },
   "outputs": [
    {
     "name": "stdout",
     "output_type": "stream",
     "text": [
      "[[6 3 7 4 6 9]\n",
      " [2 6 7 4 3 7]\n",
      " [7 2 5 4 1 7]\n",
      " [5 1 4 0 9 5]]\n",
      "每列先返回最小两个值：\n",
      " [[2 1 4 0 1 5]\n",
      " [5 2 5 4 3 7]\n",
      " [6 3 7 4 6 7]\n",
      " [7 6 7 4 9 9]]\n",
      "每行先返回最小两个值：\n",
      " [[3 4 6 7 6 9]\n",
      " [2 3 4 7 6 7]\n",
      " [1 2 4 5 7 7]\n",
      " [0 1 4 5 9 5]]\n"
     ]
    }
   ],
   "source": [
    "print(X)\n",
    "print('每列先返回最小两个值：\\n', np.partition(X, 2, axis = 0))\n",
    "print('每行先返回最小两个值：\\n', np.partition(X, 2, axis = 1))"
   ]
  },
  {
   "cell_type": "markdown",
   "metadata": {
    "id": "EC4D1A6C4FE74ABD892FFB1D4791F2B1",
    "jupyter": {},
    "notebookId": "68fe28e9c0a4ead8dcb2f3fb",
    "runtime": {
     "execution_status": null,
     "is_visible": false,
     "status": "default"
    },
    "scrolled": false,
    "slideshow": {
     "slide_type": "slide"
    },
    "tags": []
   },
   "source": [
    "### 1.3 示例：K个最近邻"
   ]
  },
  {
   "cell_type": "markdown",
   "metadata": {
    "id": "50DC10923D454079A5E2F2EC75B4FD1A",
    "jupyter": {},
    "notebookId": "68fe28e9c0a4ead8dcb2f3fb",
    "runtime": {
     "execution_status": null,
     "is_visible": false,
     "status": "default"
    },
    "scrolled": false,
    "slideshow": {
     "slide_type": "slide"
    },
    "tags": []
   },
   "source": [
    "以下示例展示如何使用argsort函数沿着多个轴快速找到集合中每个点的最近邻。"
   ]
  },
  {
   "cell_type": "code",
   "execution_count": 39,
   "metadata": {
    "collapsed": false,
    "id": "9531F3291689406099DC72B619992E75",
    "jupyter": {},
    "notebookId": "68fe28e9c0a4ead8dcb2f3fb",
    "scrolled": false,
    "slideshow": {
     "slide_type": "slide"
    },
    "tags": [],
    "trusted": true
   },
   "outputs": [
    {
     "name": "stdout",
     "output_type": "stream",
     "text": [
      "X: \n",
      " [[0.96193638 0.29214753]\n",
      " [0.24082878 0.10029394]\n",
      " [0.01642963 0.92952932]\n",
      " [0.66991655 0.78515291]\n",
      " [0.28173011 0.58641017]\n",
      " [0.06395527 0.4856276 ]\n",
      " [0.97749514 0.87650525]\n",
      " [0.33815895 0.96157015]\n",
      " [0.23170163 0.94931882]\n",
      " [0.9413777  0.79920259]]\n"
     ]
    },
    {
     "data": {
      "text/plain": [
       "<matplotlib.collections.PathCollection at 0x7f13f4cff080>"
      ]
     },
     "execution_count": null,
     "metadata": {},
     "output_type": "execute_result"
    },
    {
     "data": {
      "text/html": [
       "<img src=\"https://cdn.kesci.com/upload/rt/9531F3291689406099DC72B619992E75/t4qtkhqmpo.png\">"
      ],
      "text/plain": [
       "<Figure size 432x288 with 1 Axes>"
      ]
     },
     "metadata": {
      "needs_background": "light"
     },
     "output_type": "display_data"
    }
   ],
   "source": [
    "# 首先在二维平面上创建一个有10个随机点的集合，按照惯例这些数据点放在一个10X2的数组中\n",
    "X = np.random.rand(10, 2)\n",
    "print('X: \\n', X)\n",
    "\n",
    "# 将这些点画散点图\n",
    "import matplotlib.pyplot as plt\n",
    "import seaborn; seaborn.set # 设置绘图风格\n",
    "\n",
    "plt.scatter(X[:, 0], X[:, 1], s = 100)"
   ]
  },
  {
   "cell_type": "markdown",
   "metadata": {
    "id": "E79A4E2F721041A99AF0B348691235B7",
    "jupyter": {},
    "notebookId": "68fe28e9c0a4ead8dcb2f3fb",
    "runtime": {
     "execution_status": null,
     "is_visible": false,
     "status": "default"
    },
    "scrolled": false,
    "slideshow": {
     "slide_type": "slide"
    },
    "tags": []
   },
   "source": [
    "现在来计算两两数据点对间的距离，两点间的距离的平方等于每个维度距离差的平方的和，利用广播和聚合功能计算矩阵的平方距离。"
   ]
  },
  {
   "cell_type": "code",
   "execution_count": 40,
   "metadata": {
    "collapsed": false,
    "id": "4563C85582B24E1ABA150A02B54FF45E",
    "jupyter": {},
    "notebookId": "68fe28e9c0a4ead8dcb2f3fb",
    "scrolled": false,
    "slideshow": {
     "slide_type": "slide"
    },
    "tags": [],
    "trusted": true
   },
   "outputs": [
    {
     "data": {
      "text/plain": [
       "(10, 10)"
      ]
     },
     "execution_count": null,
     "metadata": {},
     "output_type": "execute_result"
    }
   ],
   "source": [
    "dist_sq = np.sum((X[:,np.newaxis,:] - X[np.newaxis,:,:]) **2, axis = -1)\n",
    "dist_sq.shape"
   ]
  },
  {
   "cell_type": "code",
   "execution_count": 41,
   "metadata": {
    "collapsed": false,
    "id": "5A45E063E36745A0B5FB87F38B25C064",
    "jupyter": {},
    "notebookId": "68fe28e9c0a4ead8dcb2f3fb",
    "scrolled": false,
    "slideshow": {
     "slide_type": "slide"
    },
    "tags": [],
    "trusted": true
   },
   "outputs": [
    {
     "data": {
      "text/plain": [
       "array([0., 0., 0., 0., 0., 0., 0., 0., 0., 0.])"
      ]
     },
     "execution_count": null,
     "metadata": {},
     "output_type": "execute_result"
    }
   ],
   "source": [
    "# 确认以上步骤，应该看到该矩阵的对角线（也就是每个点到其自身的距离）都是0\n",
    "dist_sq.diagonal()"
   ]
  },
  {
   "cell_type": "code",
   "execution_count": 42,
   "metadata": {
    "collapsed": false,
    "id": "57BDBF22F9D9448D820B82A0CC324667",
    "jupyter": {},
    "notebookId": "68fe28e9c0a4ead8dcb2f3fb",
    "scrolled": false,
    "slideshow": {
     "slide_type": "slide"
    },
    "tags": [],
    "trusted": true
   },
   "outputs": [
    {
     "data": {
      "text/plain": [
       "array([[0, 9, 3, 6, 4, 1, 7, 5, 8, 2],\n",
       "       [1, 5, 4, 0, 3, 8, 2, 7, 9, 6],\n",
       "       [2, 8, 7, 4, 5, 3, 1, 9, 6, 0],\n",
       "       [3, 9, 6, 7, 4, 8, 0, 2, 5, 1],\n",
       "       [4, 5, 8, 7, 2, 3, 1, 9, 0, 6],\n",
       "       [5, 4, 1, 2, 8, 7, 3, 0, 9, 6],\n",
       "       [6, 9, 3, 0, 7, 8, 4, 2, 5, 1],\n",
       "       [7, 8, 2, 3, 4, 5, 9, 6, 1, 0],\n",
       "       [8, 7, 2, 4, 3, 5, 9, 6, 1, 0],\n",
       "       [9, 6, 3, 0, 7, 4, 8, 5, 2, 1]])"
      ]
     },
     "execution_count": null,
     "metadata": {},
     "output_type": "execute_result"
    }
   ],
   "source": [
    "# 得到一个转化为两点间的平方距离的矩阵后，就可以使用np.argsort函数沿着每行进行排序，最左边的列给出的索引值就是最近邻\n",
    "# 需要注意的是，第一列是按照0-9从小到大顺序排列的，这是因为每个点的最近邻是其自身\n",
    "nearest = np.argsort(dist_sq, axis = 1)\n",
    "nearest"
   ]
  },
  {
   "cell_type": "markdown",
   "metadata": {
    "id": "D7C1C55579BC429C9775E4292EE30261",
    "jupyter": {},
    "notebookId": "68fe28e9c0a4ead8dcb2f3fb",
    "runtime": {
     "execution_status": null,
     "is_visible": false,
     "status": "default"
    },
    "scrolled": false,
    "slideshow": {
     "slide_type": "slide"
    },
    "tags": []
   },
   "source": [
    "如果使用全排序，我们实际上可以实现的比这个例子展示的更多。如果仅仅关心k个最近邻，那么唯一需要做的是分隔每一行，这样最小的k + 1的平方距离将排在最前面，其他更长距离占据矩阵该行的其他位置。可以用np.argpartition函数实现："
   ]
  },
  {
   "cell_type": "code",
   "execution_count": 43,
   "metadata": {
    "collapsed": false,
    "id": "0B66CE474D3D4E718D1E1807D45BE953",
    "jupyter": {},
    "notebookId": "68fe28e9c0a4ead8dcb2f3fb",
    "scrolled": false,
    "slideshow": {
     "slide_type": "slide"
    },
    "tags": [],
    "trusted": true
   },
   "outputs": [
    {
     "data": {
      "text/plain": [
       "array([[0, 9, 3, 6, 4, 1, 7, 5, 8, 2],\n",
       "       [1, 4, 5, 0, 3, 2, 6, 7, 8, 9],\n",
       "       [2, 8, 7, 4, 5, 3, 1, 9, 6, 0],\n",
       "       [3, 9, 6, 7, 4, 5, 1, 2, 8, 0],\n",
       "       [4, 8, 5, 7, 1, 2, 3, 9, 6, 0],\n",
       "       [4, 5, 1, 2, 8, 7, 3, 0, 6, 9],\n",
       "       [3, 9, 6, 0, 1, 5, 2, 7, 8, 4],\n",
       "       [8, 7, 2, 3, 4, 5, 9, 6, 1, 0],\n",
       "       [8, 7, 2, 4, 3, 5, 9, 6, 1, 0],\n",
       "       [3, 9, 6, 0, 1, 5, 2, 7, 8, 4]])"
      ]
     },
     "execution_count": null,
     "metadata": {},
     "output_type": "execute_result"
    }
   ],
   "source": [
    "k = 2\n",
    "nearest_partition = np.argpartition(dist_sq, k + 1, axis = 1)\n",
    "nearest_partition"
   ]
  },
  {
   "cell_type": "code",
   "execution_count": 44,
   "metadata": {
    "collapsed": false,
    "id": "D890F007FC91498E93DEE52414F1B67D",
    "jupyter": {},
    "notebookId": "68fe28e9c0a4ead8dcb2f3fb",
    "scrolled": false,
    "slideshow": {
     "slide_type": "slide"
    },
    "tags": [],
    "trusted": true
   },
   "outputs": [
    {
     "data": {
      "text/html": [
       "<img src=\"https://cdn.kesci.com/upload/rt/D890F007FC91498E93DEE52414F1B67D/t4qtkhkc9x.png\">"
      ],
      "text/plain": [
       "<Figure size 432x288 with 1 Axes>"
      ]
     },
     "metadata": {
      "needs_background": "light"
     },
     "output_type": "display_data"
    }
   ],
   "source": [
    "# 为了将邻节点网络可视化，我们将每个点和其最近的两个最近邻连接\n",
    "plt.scatter(X[:, 0], X[:, 1], s = 100)\n",
    "\n",
    "k = 2\n",
    "for i in range(X.shape[0]):\n",
    "    for j in nearest_partition[i, :k+1]:\n",
    "        # 画一条从X[i]到X[j]的线段\n",
    "        # 用zip方法实现\n",
    "        plt.plot(*zip(X[j], X[i]), color = 'black')"
   ]
  },
  {
   "cell_type": "markdown",
   "metadata": {
    "id": "A1565D2584CD49859EB6356910A1980D",
    "jupyter": {},
    "notebookId": "68fe28e9c0a4ead8dcb2f3fb",
    "runtime": {
     "execution_status": null,
     "is_visible": false,
     "status": "default"
    },
    "scrolled": false,
    "slideshow": {
     "slide_type": "slide"
    },
    "tags": []
   },
   "source": [
    "## 2. 结构化数据：NumPy的结构化数组"
   ]
  },
  {
   "cell_type": "markdown",
   "metadata": {
    "id": "FA4829C9BE254C329519D6A2C31B9632",
    "jupyter": {},
    "notebookId": "68fe28e9c0a4ead8dcb2f3fb",
    "runtime": {
     "execution_status": null,
     "is_visible": false,
     "status": "default"
    },
    "scrolled": false,
    "slideshow": {
     "slide_type": "slide"
    },
    "tags": []
   },
   "source": [
    "假定现在有关于一些人的分类数据（如姓名，年龄和体重），我们需要存储这些数据用于Python项目，一种可行的方法是将它们存在三个单独的数组中"
   ]
  },
  {
   "cell_type": "code",
   "execution_count": 45,
   "metadata": {
    "collapsed": false,
    "id": "246042DE660843108377D6FED4C539C0",
    "jupyter": {},
    "notebookId": "68fe28e9c0a4ead8dcb2f3fb",
    "scrolled": false,
    "slideshow": {
     "slide_type": "slide"
    },
    "tags": [],
    "trusted": true
   },
   "outputs": [],
   "source": [
    "name = ['Alice', 'Bob', 'Cathy', 'Doug']\n",
    "age = [25, 45, 37, 19]\n",
    "weight = [55.0, 85.5, 68, 61.5]"
   ]
  },
  {
   "cell_type": "markdown",
   "metadata": {
    "id": "A5BD0AB077FF4487870E2C463E2E05EB",
    "jupyter": {},
    "notebookId": "68fe28e9c0a4ead8dcb2f3fb",
    "runtime": {
     "execution_status": null,
     "is_visible": false,
     "status": "default"
    },
    "scrolled": false,
    "slideshow": {
     "slide_type": "slide"
    },
    "tags": []
   },
   "source": [
    "但这种方法有点笨，因为并没有任何信息能说明这三个数组之间是相关联的，可以用结构化数组来存储所有数据"
   ]
  },
  {
   "cell_type": "code",
   "execution_count": 46,
   "metadata": {
    "collapsed": false,
    "id": "A3B5BFDAB2534E8ABE2BD1BE7A911B68",
    "jupyter": {},
    "notebookId": "68fe28e9c0a4ead8dcb2f3fb",
    "scrolled": false,
    "slideshow": {
     "slide_type": "slide"
    },
    "tags": [],
    "trusted": true
   },
   "outputs": [
    {
     "name": "stdout",
     "output_type": "stream",
     "text": [
      "x:  [0 0 0 0]\n",
      "data.dtype: [('name', '<U10'), ('age', '<i4'), ('weight', '<f8')]\n",
      "空数组data: [('', 0, 0.) ('', 0, 0.) ('', 0, 0.) ('', 0, 0.)]\n",
      "data:  [('Alice', 25, 55. ) ('Bob', 45, 85.5) ('Cathy', 37, 68. )\n",
      " ('Doug', 19, 61.5)]\n",
      "获取所有名称： ['Alice' 'Bob' 'Cathy' 'Doug']\n",
      "获取数据第一行： ('Alice', 25, 55.)\n",
      "获取最后一行的名字： Doug\n",
      "获取年龄小于30岁的人信息 [('Alice', 25, 55. ) ('Doug', 19, 61.5)]\n",
      "获取年龄小于30岁的人的名字 ['Alice' 'Doug']\n"
     ]
    }
   ],
   "source": [
    "# 生成一个简单的数组\n",
    "x = np.zeros(4, dtype = int)\n",
    "print('x: ', x)\n",
    "\n",
    "# 通过指定复合数据结构，构造一个结构化数组，dtype参数是一个字典，‘name’指定字段名称每个元素包含三个字段：name, age, weight\n",
    "data = np.zeros(4, dtype = {'names':('name', 'age', 'weight'),\n",
    "                            'formats':('U10', 'i4', 'f8')})\n",
    "# u10:表示长度不超过10的Unicode字符串，i4表示4字节整型，f8表示8字节浮点型\n",
    "print('data.dtype:', data.dtype)\n",
    "print('空数组data:', data)\n",
    "\n",
    "# 将列表数据放入生成的空数组中\n",
    "data['name'] = name\n",
    "data['age'] = age\n",
    "data['weight'] = weight\n",
    "print('data: ', data)\n",
    "\n",
    "# 通过索引或名称查看相应的值\n",
    "print('获取所有名称：', data['name'])\n",
    "print('获取数据第一行：', data[0])\n",
    "print('获取最后一行的名字：', data[-1]['name'])\n",
    "\n",
    "# 利用布尔掩码复杂操作，例如按照年龄进行筛选\n",
    "print('获取年龄小于30岁的人信息', data[data['age'] < 30])\n",
    "print('获取年龄小于30岁的人的名字', data[data['age'] < 30]['name'])"
   ]
  },
  {
   "cell_type": "markdown",
   "metadata": {
    "id": "E4DAE4806F1341F399C051788EFF9CF6",
    "jupyter": {},
    "notebookId": "68fe28e9c0a4ead8dcb2f3fb",
    "runtime": {
     "execution_status": null,
     "is_visible": false,
     "status": "default"
    },
    "scrolled": false,
    "slideshow": {
     "slide_type": "slide"
    },
    "tags": []
   },
   "source": [
    "### 2.1 生成结构化数组"
   ]
  },
  {
   "cell_type": "markdown",
   "metadata": {
    "id": "82C65B6130624879896EB3B60C75F78A",
    "jupyter": {},
    "notebookId": "68fe28e9c0a4ead8dcb2f3fb",
    "runtime": {
     "execution_status": null,
     "is_visible": false,
     "status": "default"
    },
    "scrolled": false,
    "slideshow": {
     "slide_type": "slide"
    },
    "tags": []
   },
   "source": [
    "采用`字典方式`，制定结构化数组的数据类型"
   ]
  },
  {
   "cell_type": "code",
   "execution_count": 47,
   "metadata": {
    "collapsed": false,
    "id": "6B726E729F584731A310A86060380942",
    "jupyter": {},
    "notebookId": "68fe28e9c0a4ead8dcb2f3fb",
    "scrolled": false,
    "slideshow": {
     "slide_type": "slide"
    },
    "tags": [],
    "trusted": true
   },
   "outputs": [
    {
     "data": {
      "text/plain": [
       "dtype([('name', '<U10'), ('age', '<i4'), ('weight', '<f8')])"
      ]
     },
     "execution_count": null,
     "metadata": {},
     "output_type": "execute_result"
    }
   ],
   "source": [
    "np.dtype({'names':('name', 'age', 'weight'),\n",
    "                   'formats':('U10', 'i4', 'f8')})"
   ]
  },
  {
   "cell_type": "markdown",
   "metadata": {
    "id": "A7D44970EC2248BDBB4A23EDA937441A",
    "jupyter": {},
    "notebookId": "68fe28e9c0a4ead8dcb2f3fb",
    "runtime": {
     "execution_status": null,
     "is_visible": false,
     "status": "default"
    },
    "scrolled": false,
    "slideshow": {
     "slide_type": "slide"
    },
    "tags": []
   },
   "source": [
    "数值数据类型可以用Python类型或NumPy的dtype类型指定"
   ]
  },
  {
   "cell_type": "code",
   "execution_count": 48,
   "metadata": {
    "collapsed": false,
    "id": "DBC69D6C5C5F4A50BD3FBCA15771699F",
    "jupyter": {},
    "notebookId": "68fe28e9c0a4ead8dcb2f3fb",
    "scrolled": false,
    "slideshow": {
     "slide_type": "slide"
    },
    "tags": [],
    "trusted": true
   },
   "outputs": [
    {
     "data": {
      "text/plain": [
       "dtype([('name', '<U10'), ('age', '<i8'), ('weight', '<f4')])"
      ]
     },
     "execution_count": null,
     "metadata": {},
     "output_type": "execute_result"
    }
   ],
   "source": [
    "np.dtype({'names':('name', 'age', 'weight'),\n",
    "                   'formats':((np.str_, 10), int, np.float32)})"
   ]
  },
  {
   "cell_type": "markdown",
   "metadata": {
    "id": "EE29144F2ACF4487AF28AFCBEBFB9183",
    "jupyter": {},
    "notebookId": "68fe28e9c0a4ead8dcb2f3fb",
    "runtime": {
     "execution_status": null,
     "is_visible": false,
     "status": "default"
    },
    "scrolled": false,
    "slideshow": {
     "slide_type": "slide"
    },
    "tags": []
   },
   "source": [
    "采用`元组列表方式`，制定结构化数组的数据类型"
   ]
  },
  {
   "cell_type": "code",
   "execution_count": 49,
   "metadata": {
    "collapsed": false,
    "id": "62EC9E591BFB4D7A8C7A8B35C57844CC",
    "jupyter": {},
    "notebookId": "68fe28e9c0a4ead8dcb2f3fb",
    "scrolled": false,
    "slideshow": {
     "slide_type": "slide"
    },
    "tags": [],
    "trusted": true
   },
   "outputs": [
    {
     "data": {
      "text/plain": [
       "dtype([('name', 'S10'), ('age', '<i4'), ('weight', '<f8')])"
      ]
     },
     "execution_count": null,
     "metadata": {},
     "output_type": "execute_result"
    }
   ],
   "source": [
    "np.dtype([('name', 'S10'), ('age', 'i4'), ('weight', 'f8')])"
   ]
  },
  {
   "cell_type": "markdown",
   "metadata": {
    "id": "A85D3BDE3E16445DACF51B139A44C373",
    "jupyter": {},
    "notebookId": "68fe28e9c0a4ead8dcb2f3fb",
    "runtime": {
     "execution_status": null,
     "is_visible": false,
     "status": "default"
    },
    "scrolled": false,
    "slideshow": {
     "slide_type": "slide"
    },
    "tags": []
   },
   "source": [
    "如果类型名称并不重要可以省略，仅仅指定数据类型"
   ]
  },
  {
   "cell_type": "code",
   "execution_count": 50,
   "metadata": {
    "collapsed": false,
    "id": "FD4ABB5EB046473CA724BCF289BC9C6C",
    "jupyter": {},
    "notebookId": "68fe28e9c0a4ead8dcb2f3fb",
    "scrolled": false,
    "slideshow": {
     "slide_type": "slide"
    },
    "tags": [],
    "trusted": true
   },
   "outputs": [
    {
     "data": {
      "text/plain": [
       "dtype([('f0', 'S10'), ('f1', '<i4'), ('f2', '<f8')])"
      ]
     },
     "execution_count": null,
     "metadata": {},
     "output_type": "execute_result"
    }
   ],
   "source": [
    "np.dtype('S10, i4, f8')"
   ]
  },
  {
   "cell_type": "markdown",
   "metadata": {
    "id": "78A08B1A4BC748E3B22099875766250A",
    "jupyter": {},
    "notebookId": "68fe28e9c0a4ead8dcb2f3fb",
    "runtime": {
     "execution_status": null,
     "is_visible": false,
     "status": "default"
    },
    "scrolled": false,
    "slideshow": {
     "slide_type": "slide"
    },
    "tags": []
   },
   "source": [
    "| NumPy数据类型符号| 描述                                    | 示例                             |  \n",
    "| ---------        | -----------                            | -------                             |  \n",
    "| ``'b'``          | 字节型                                 | ``np.dtype('b')``                   |  \n",
    "| ``'i'``          | 有符号整型                            | ``np.dtype('i4') == np.int32``      |  \n",
    "| ``'u'``          | 无符号整型                           | ``np.dtype('u1') == np.uint8``      |  \n",
    "| ``'f'``          | 浮点型                              | ``np.dtype('f8') == np.int64``      |  \n",
    "| ``'c'``          | 复数浮点型                          | ``np.dtype('c16') == np.complex128``|  \n",
    "| ``'S'``, ``'a'`` | 字符串                             | ``np.dtype('S5')``                  |  \n",
    "| ``'U'``          | Unicode编码字符串                  | ``np.dtype('U') == np.str_``        |  \n",
    "| ``'V'``          | 原生数据 Raw data (空，void)       | ``np.dtype('V') == np.void``        |"
   ]
  },
  {
   "cell_type": "markdown",
   "metadata": {
    "id": "5212879254CA48269A76EF7E8EDFC908",
    "jupyter": {},
    "notebookId": "68fe28e9c0a4ead8dcb2f3fb",
    "runtime": {
     "execution_status": null,
     "is_visible": false,
     "status": "default"
    },
    "scrolled": false,
    "slideshow": {
     "slide_type": "slide"
    },
    "tags": []
   },
   "source": [
    "### 2.2 更高级的复合类型"
   ]
  },
  {
   "cell_type": "markdown",
   "metadata": {
    "id": "69FC4B308E1049E9B9300CDDB2D6E93C",
    "jupyter": {},
    "notebookId": "68fe28e9c0a4ead8dcb2f3fb",
    "runtime": {
     "execution_status": null,
     "is_visible": false,
     "status": "default"
    },
    "scrolled": false,
    "slideshow": {
     "slide_type": "slide"
    },
    "tags": []
   },
   "source": [
    "之前创建的每个元素例如name, age都是一个`列表`，也可以创建更高级的复合类型比如每个元素是一个`数组或矩阵` "
   ]
  },
  {
   "cell_type": "code",
   "execution_count": 51,
   "metadata": {
    "collapsed": false,
    "id": "D67716598CB4440C9F61C1CAD21F3305",
    "jupyter": {},
    "notebookId": "68fe28e9c0a4ead8dcb2f3fb",
    "scrolled": false,
    "slideshow": {
     "slide_type": "slide"
    },
    "tags": [],
    "trusted": true
   },
   "outputs": [
    {
     "name": "stdout",
     "output_type": "stream",
     "text": [
      "X:  [(1, [[0., 0., 0.], [0., 0., 0.], [0., 0., 0.]])\n",
      " (2, [[0., 0., 0.], [0., 0., 0.], [0., 0., 0.]])\n",
      " (3, [[0., 0., 0.], [0., 0., 0.], [0., 0., 0.]])\n",
      " (4, [[0., 0., 0.], [0., 0., 0.], [0., 0., 0.]])]\n",
      "获取第一行： (1, [[0., 0., 0.], [0., 0., 0.], [0., 0., 0.]])\n",
      "mat: [[[0. 0. 0.]\n",
      "  [0. 0. 0.]\n",
      "  [0. 0. 0.]]\n",
      "\n",
      " [[0. 0. 0.]\n",
      "  [0. 0. 0.]\n",
      "  [0. 0. 0.]]\n",
      "\n",
      " [[0. 0. 0.]\n",
      "  [0. 0. 0.]\n",
      "  [0. 0. 0.]]\n",
      "\n",
      " [[0. 0. 0.]\n",
      "  [0. 0. 0.]\n",
      "  [0. 0. 0.]]]\n",
      "mat第一层： [[0. 0. 0.]\n",
      " [0. 0. 0.]\n",
      " [0. 0. 0.]]\n"
     ]
    }
   ],
   "source": [
    "# 创建一个只包含1个元素的结构化数组，其中该元素的数据类型是一个 mat组件包含一个3x3的浮点矩阵\n",
    "user_id = [1, 2, 3, 4]\n",
    "X = np.zeros(4, dtype = ([('user_id', 'i8'), ('mat', 'f8', (3, 3))]))\n",
    "X['user_id'] = user_id\n",
    "print('X: ', X)\n",
    "print('获取第一行：', X[0])\n",
    "print('mat:', X['mat'])\n",
    "print('mat第一层：', X['mat'][0])"
   ]
  },
  {
   "cell_type": "markdown",
   "metadata": {
    "id": "9F75425D3879410FB894319B85D01341",
    "jupyter": {},
    "notebookId": "68fe28e9c0a4ead8dcb2f3fb",
    "runtime": {
     "execution_status": null,
     "is_visible": false,
     "status": "default"
    },
    "scrolled": false,
    "slideshow": {
     "slide_type": "slide"
    },
    "tags": []
   },
   "source": [
    "### 2.3 记录数组：结构化数组的扭转"
   ]
  },
  {
   "cell_type": "markdown",
   "metadata": {
    "id": "F1AD19E6FE754E209A5701BED2433D37",
    "jupyter": {},
    "notebookId": "68fe28e9c0a4ead8dcb2f3fb",
    "runtime": {
     "execution_status": null,
     "is_visible": false,
     "status": "default"
    },
    "scrolled": false,
    "slideshow": {
     "slide_type": "slide"
    },
    "tags": []
   },
   "source": [
    "Numpy提供了`np.recarray`类，与结构化数组几乎相同，但有一个独特特征：域可以像属性一样获取，而不是像字典的键那样获取。"
   ]
  },
  {
   "cell_type": "code",
   "execution_count": 52,
   "metadata": {
    "collapsed": false,
    "id": "2CBC7D07B7E149B086D9D524301B0E05",
    "jupyter": {},
    "notebookId": "68fe28e9c0a4ead8dcb2f3fb",
    "scrolled": false,
    "slideshow": {
     "slide_type": "slide"
    },
    "tags": [],
    "trusted": true
   },
   "outputs": [
    {
     "data": {
      "text/plain": [
       "array([25, 45, 37, 19], dtype=int32)"
      ]
     },
     "execution_count": null,
     "metadata": {},
     "output_type": "execute_result"
    }
   ],
   "source": [
    "# 类似字典的键获取方式\n",
    "data['age']"
   ]
  },
  {
   "cell_type": "markdown",
   "metadata": {
    "id": "388E4180CE5B4F36BED05BB4270470B6",
    "jupyter": {},
    "notebookId": "68fe28e9c0a4ead8dcb2f3fb",
    "runtime": {
     "execution_status": null,
     "is_visible": false,
     "status": "default"
    },
    "scrolled": false,
    "slideshow": {
     "slide_type": "slide"
    },
    "tags": []
   },
   "source": [
    "如果将这些数据当作一个记录数组，可以用很少的键来获取这个结果, 可以使用点操作符访问字段,每个字段代表一列。"
   ]
  },
  {
   "cell_type": "code",
   "execution_count": 53,
   "metadata": {
    "collapsed": false,
    "id": "A93282E794E649B886E46F421DC0E3D8",
    "jupyter": {},
    "notebookId": "68fe28e9c0a4ead8dcb2f3fb",
    "scrolled": false,
    "slideshow": {
     "slide_type": "slide"
    },
    "tags": [],
    "trusted": true
   },
   "outputs": [
    {
     "data": {
      "text/plain": [
       "array([25, 45, 37, 19], dtype=int32)"
      ]
     },
     "execution_count": null,
     "metadata": {},
     "output_type": "execute_result"
    }
   ],
   "source": [
    "# data.view 允许你创建一个与原始结构化数组共享数据存储的视图，从而可以以不同的方式查看和操作相同的数据。这在某些情况下可以提高效率，因为不需要复制数据。\n",
    "# 但要注意，修改视图可能会影响原始数组，因此需要小心操作。\n",
    "data_rec = data.view(np.recarray)\n",
    "data_rec.age"
   ]
  },
  {
   "cell_type": "markdown",
   "metadata": {
    "id": "65CD7EF4185E428C8AFE996D96DD996E",
    "jupyter": {},
    "notebookId": "68fe28e9c0a4ead8dcb2f3fb",
    "runtime": {
     "execution_status": null,
     "is_visible": false,
     "status": "default"
    },
    "scrolled": false,
    "slideshow": {
     "slide_type": "slide"
    },
    "tags": []
   },
   "source": [
    "## 3. 闯关题"
   ]
  },
  {
   "cell_type": "markdown",
   "metadata": {
    "id": "4F429599815F44F2802F2C032CC36278",
    "jupyter": {},
    "notebookId": "68fe28e9c0a4ead8dcb2f3fb",
    "runtime": {
     "execution_status": null,
     "is_visible": false,
     "status": "default"
    },
    "scrolled": false,
    "slideshow": {
     "slide_type": "slide"
    },
    "tags": []
   },
   "source": [
    "### STEP1：根据要求完成题目"
   ]
  },
  {
   "cell_type": "markdown",
   "metadata": {
    "id": "08D501AE7CEB4BC3A7E55DFB1EADD7FF",
    "jupyter": {},
    "notebookId": "68fe28e9c0a4ead8dcb2f3fb",
    "runtime": {
     "execution_status": null,
     "is_visible": false,
     "status": "default"
    },
    "scrolled": false,
    "slideshow": {
     "slide_type": "slide"
    },
    "tags": []
   },
   "source": [
    "#### Q1：找出最小的三个值  \n",
    "利用随机种子0生成一个包含1000000个元素的随机浮点数数组 data，数值范围从0到1。  \n",
    "利用np.partition找出前三小的值，它们是（）。  \n",
    "A、7.07120317e-07, 1.33367964e-06, 2.95041628e-06  \n",
    "B、3.31055446e-06, 3.76517081e-06, 6.04484695e-06  \n",
    "C、6.78447358e-06, 8.28558723e-06, 1.17269413e-05  \n",
    "D、8.35490034e-06, 1.35423757e-05, 1.62557428e-05  "
   ]
  },
  {
   "cell_type": "code",
   "execution_count": 54,
   "metadata": {
    "collapsed": false,
    "id": "C7CE2FFF4FE54AF9AE829611200AAB7C",
    "jupyter": {},
    "notebookId": "68fe28e9c0a4ead8dcb2f3fb",
    "scrolled": false,
    "slideshow": {
     "slide_type": "slide"
    },
    "tags": [],
    "trusted": true
   },
   "outputs": [
    {
     "name": "stdout",
     "output_type": "stream",
     "text": [
      "[7.07120317e-07 1.33367964e-06 2.95041628e-06 ... 6.45894113e-01\n",
      " 6.02763376e-01 9.08605884e-01]\n"
     ]
    }
   ],
   "source": [
    "# 数组创建\n",
    "np.random.seed(0)\n",
    "data = np.random.rand(1000000)\n",
    "print(np.partition(data,3))"
   ]
  },
  {
   "cell_type": "code",
   "execution_count": 55,
   "metadata": {
    "collapsed": false,
    "id": "D39C653FC0674948BEA4644DA3E68975",
    "jupyter": {},
    "notebookId": "68fe28e9c0a4ead8dcb2f3fb",
    "scrolled": false,
    "slideshow": {
     "slide_type": "slide"
    },
    "tags": [],
    "trusted": true
   },
   "outputs": [],
   "source": [
    "#填入你的答案并运行,注意大小写\n",
    "a1 = 'A'  # 如 a1= 'A'"
   ]
  },
  {
   "cell_type": "markdown",
   "metadata": {
    "id": "1976BA3A962E425393276621A4E26280",
    "jupyter": {},
    "notebookId": "68fe28e9c0a4ead8dcb2f3fb",
    "runtime": {
     "execution_status": null,
     "is_visible": false,
     "status": "default"
    },
    "scrolled": false,
    "slideshow": {
     "slide_type": "slide"
    },
    "tags": []
   },
   "source": [
    "#### Q2:   寻找最优配送点  \n",
    "你正在为一个物流公司工作，该公司希望优化其在城市中的配送中心的位置。公司的目标是最小化配送路径的总距离，从而降低成本和提高效率。你有一组包含100个配送地点的坐标数据，这些数据模拟了城市中的配送需求。  \n",
    "\n",
    "条件：  \n",
    "\n",
    "1.\t利用随机种子0生成一个形状为 (100, 2) 的数组 locations，代表城市中的100个配送地点的坐标，均值为[50, 50]，协方差矩阵为[[100, 50], [50, 100]]。  \n",
    "\n",
    "要求：  \n",
    "\n",
    "1.\t数据分析：  \n",
    "使用NumPy计算所有配送地点间的欧几里得距离矩阵。参考：  \n",
    "```\n",
    "dist_sq = np.sum((locations[:, np.newaxis, :] - locations[np.newaxis, :, :]) ** 2, axis=-1)  \n",
    "distances = np.sqrt(dist_sq)  \n",
    "```\n",
    "\n",
    "2.\t优化配送中心位置：  \n",
    "找出与其他所有配送地点平均距离最小的配送地点，作为新的配送中心。  \n",
    "将配送中心的索引保存为a2"
   ]
  },
  {
   "cell_type": "code",
   "execution_count": 56,
   "metadata": {
    "collapsed": false,
    "id": "B5BF1DFCF5D2489B98F9CE2BFC87CCF5",
    "jupyter": {},
    "notebookId": "68fe28e9c0a4ead8dcb2f3fb",
    "scrolled": false,
    "slideshow": {
     "slide_type": "slide"
    },
    "tags": [],
    "trusted": true
   },
   "outputs": [],
   "source": [
    "# 创建坐标\n",
    "np.random.seed(0)\n",
    "locations = np.random.multivariate_normal([50,50], [[100,50],[50,100]], 100)\n",
    "dist_sq=np.sum((locations[:,np.newaxis,:]-locations[np.newaxis,:,:])**2,axis=-1)\n",
    "distances = np.sqrt(dist_sq)\n",
    "A2 = np.mean(distances,axis=1)\n",
    "a2 = np.argmin(A2)"
   ]
  },
  {
   "cell_type": "code",
   "execution_count": 57,
   "metadata": {
    "collapsed": false,
    "id": "251645F058C448F39AB3C8B6EC9D163B",
    "jupyter": {},
    "notebookId": "68fe28e9c0a4ead8dcb2f3fb",
    "scrolled": false,
    "slideshow": {
     "slide_type": "slide"
    },
    "tags": [],
    "trusted": true
   },
   "outputs": [],
   "source": [
    "#填入你的答案并运行,注意大小写\n",
    "a2 = 28  # 如 a2= 50"
   ]
  },
  {
   "cell_type": "markdown",
   "metadata": {
    "id": "F15825AF0D57444A931C0DD9904474DA",
    "jupyter": {},
    "notebookId": "68fe28e9c0a4ead8dcb2f3fb",
    "runtime": {
     "execution_status": null,
     "is_visible": false,
     "status": "default"
    },
    "scrolled": false,
    "slideshow": {
     "slide_type": "slide"
    },
    "tags": []
   },
   "source": [
    "#### Q3：处理结构化数据  \n",
    "根据已给的结构化数据，计算公司员工的平均工资。结果保留整数。"
   ]
  },
  {
   "cell_type": "code",
   "execution_count": 58,
   "metadata": {
    "collapsed": false,
    "id": "919B804BC6D24BA7AED1605BF8366999",
    "jupyter": {},
    "notebookId": "68fe28e9c0a4ead8dcb2f3fb",
    "scrolled": false,
    "slideshow": {
     "slide_type": "slide"
    },
    "tags": [],
    "trusted": true
   },
   "outputs": [
    {
     "data": {
      "text/plain": [
       "56000.0"
      ]
     },
     "execution_count": null,
     "metadata": {},
     "output_type": "execute_result"
    }
   ],
   "source": [
    "dtype = [('name', 'U10'),  ('salary', float)]\n",
    "\n",
    "employees = np.array([\n",
    "    ('Alice', 50000.00),\n",
    "    ('Bob',  55000.00),\n",
    "    ('Charlie',  65000.00),\n",
    "    ('David',  48000.00),\n",
    "    ('Eve',  62000.00)\n",
    "], dtype=dtype)\n",
    "employees['salary'].mean()"
   ]
  },
  {
   "cell_type": "code",
   "execution_count": 59,
   "metadata": {
    "collapsed": false,
    "id": "CD0CFE0234FF4A74A077963DE8536497",
    "jupyter": {},
    "notebookId": "68fe28e9c0a4ead8dcb2f3fb",
    "scrolled": false,
    "slideshow": {
     "slide_type": "slide"
    },
    "tags": [],
    "trusted": true
   },
   "outputs": [],
   "source": [
    "#填入你的答案并运行,注意大小写\n",
    "a3 = 56000 # 如 a3= 200"
   ]
  },
  {
   "cell_type": "markdown",
   "metadata": {
    "id": "9048FDF0451249C3A3678AABECDDC5D4",
    "jupyter": {},
    "notebookId": "68fe28e9c0a4ead8dcb2f3fb",
    "runtime": {
     "execution_status": null,
     "is_visible": false,
     "status": "default"
    },
    "scrolled": false,
    "slideshow": {
     "slide_type": "slide"
    },
    "tags": []
   },
   "source": [
    "### STEP2：将结果保存为 csv 文件  \n",
    "csv 需要有两列，列名：id、answer。其中，id 列为题号，如 q1、q2；answer 列为 STEP1 中各题你计算出来的结果。💡 这一步的代码你不用做任何修改，直接运行即可。"
   ]
  },
  {
   "cell_type": "code",
   "execution_count": 60,
   "metadata": {
    "collapsed": false,
    "id": "C997D30BE4BB4513B0D66619DF3DF1B2",
    "jupyter": {},
    "notebookId": "68fe28e9c0a4ead8dcb2f3fb",
    "scrolled": false,
    "slideshow": {
     "slide_type": "slide"
    },
    "tags": [],
    "trusted": true
   },
   "outputs": [],
   "source": [
    "# 生成 csv 作业答案文件\n",
    "def save_csv(a1,a2,a3):\n",
    "    import pandas as pd\n",
    "    df = pd.DataFrame({\"id\": [\"q1\", \"q2\", \"q3\"], \"answer\": [a1, a2, a3]})\n",
    "    df.to_csv(\"answer_4.csv\", index=None)\n",
    "\n",
    "save_csv(a1,a2,a3)  # 运行这个cell,生成答案文件；该文件在左侧文件树project工作区下，你可以自行右击下载或者读取查看"
   ]
  },
  {
   "cell_type": "markdown",
   "metadata": {
    "id": "E746ADCE876545378657E89347C9F0C5",
    "jupyter": {},
    "notebookId": "68fe28e9c0a4ead8dcb2f3fb",
    "runtime": {
     "execution_status": null,
     "is_visible": false,
     "status": "default"
    },
    "scrolled": false,
    "slideshow": {
     "slide_type": "slide"
    },
    "tags": []
   },
   "source": [
    "### STEP3: 提交 csv 文件，获取分数结果  \n",
    "你的 csv 答案文件已经准备完毕了，最后让我们提交答案文件，看看是否正确。  \n",
    "提交方法：  \n",
    "1、拷贝提交 token  \n",
    "去对应关卡的 [提交页面](https://www.heywhale.com/home/competition/667278de2c79f2f6c008995b/submit)，找到对应关卡，看到了你的 token 嘛？  \n",
    "拷贝它。  \n",
    "记得：每个关卡的 token 不一样。  \n",
    "2、下方 cell 里，拿你拷贝的 token 替换掉 XXXXXXX， 然后 Ctrl+Enter 运行 "
   ]
  },
  {
   "cell_type": "code",
   "execution_count": 61,
   "metadata": {
    "collapsed": false,
    "id": "72F49E22B5AD4102BD32BDCCE0267025",
    "jupyter": {},
    "notebookId": "68fe28e9c0a4ead8dcb2f3fb",
    "scrolled": false,
    "slideshow": {
     "slide_type": "slide"
    },
    "tags": [],
    "trusted": true
   },
   "outputs": [
    {
     "name": "stdout",
     "output_type": "stream",
     "text": [
      "wget: /opt/conda/lib/libcrypto.so.1.0.0: no version information available (required by wget)\n",
      "wget: /opt/conda/lib/libssl.so.1.0.0: no version information available (required by wget)\n",
      "wget: /opt/conda/lib/libssl.so.1.0.0: no version information available (required by wget)\n",
      "2025-10-26 14:27:39 URL:https://cdn.kesci.com/submit_tool/v4/heywhale_submit [22020102/22020102] -> \"heywhale_submit\" [1]\n",
      "Heywhale Submit Tool: v5.0.1 \n",
      "> 已验证Token\n",
      "> 开始上传文件\n",
      "30 / 30 [||||||||||||||||||||||||||||||||||||||||||||||||||||||||] ? p/s 100.00%\n",
      "> 文件已上传        \n",
      "> 服务器响应: 200 提交成功，请等待评审完成\n",
      "> 提交完成\n"
     ]
    }
   ],
   "source": [
    "#运行这个Cell 下载提交工具\n",
    "\n",
    "!wget -nv -O heywhale_submit https://cdn.kesci.com/submit_tool/v4/heywhale_submit&&chmod +x heywhale_submit\n",
    "\n",
    "# 运行提交工具\n",
    "# 把下方XXXXXXX替换为你的 Token\n",
    "# 改完看起来像是：!./heywhale_submit -token 586eeef71cb92941 -file answer_4.csv\n",
    "\n",
    "!./heywhale_submit -token 59a57d5102ac47a9 -file answer_4.csv  # 替换XXXXXXX；注意不可增减任何空格或其他字符"
   ]
  }
 ],
 "metadata": {
  "kernelspec": {
   "display_name": "Python 3",
   "language": "python",
   "name": "python3"
  },
  "language_info": {
   "codemirror_mode": {
    "name": "ipython",
    "version": 3
   },
   "file_extension": ".py",
   "mimetype": "text/x-python",
   "name": "python",
   "nbconvert_exporter": "python",
   "pygments_lexer": "ipython3",
   "version": "3.5.2"
  }
 },
 "nbformat": 4,
 "nbformat_minor": 4
}
